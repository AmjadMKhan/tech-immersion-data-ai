{
    "metadata": {
        "kernelspec": {
            "name": "pyspark3kernel",
            "display_name": "PySpark3"
        },
        "language_info": {
            "name": "pyspark3",
            "mimetype": "text/x-python",
            "codemirror_mode": {
                "name": "python",
                "version": 3
            },
            "pygments_lexer": "python3"
        }
    },
    "nbformat_minor": 2,
    "nbformat": 4,
    "cells": [
        {
            "cell_type": "markdown",
            "source": "# Training and scoring within a SQL Big Data Cluster\r\nIn this notebook you will train a model, use it to score data that you uploaded to HDFS, and save the scored result to an external table.\r\n\r\nBegin by running the following cell. You can run any code cell by placing your cursor within its region and then selecting the play icon (a triangle within a circle) that appears on the left.\r\n",
            "metadata": {}
        },
        {
            "cell_type": "code",
            "source": "# Import the standard modules we need\r\nimport numpy as np\r\nimport pandas as pd",
            "metadata": {
                "language": "python"
            },
            "outputs": [],
            "execution_count": 3
        },
        {
            "cell_type": "markdown",
            "source": "Next, you will load the training you had uploaded to HDFS. Run the following cell.",
            "metadata": {}
        },
        {
            "cell_type": "code",
            "source": "# access the training data from HDFS by reading into a Spark DataFrame\r\ndf = (spark.read.option(\"inferSchema\", \"true\").option(\"header\", \"true\").csv('/data/training-formatted.csv'))\r\n\r\n# convert the Spark DataFrame to a Pandas DataFrame so we can use Scikit-Learn\r\ndata = df.toPandas()",
            "metadata": {
                "language": "python"
            },
            "outputs": [],
            "execution_count": 16
        },
        {
            "cell_type": "markdown",
            "source": "Now, you will pick out the features and labels from the training data. Run the following cell.",
            "metadata": {}
        },
        {
            "cell_type": "code",
            "source": "# Select the features used for predicting battery life\r\nX = data.iloc[:,1:74]\r\nX = X.iloc[:,np.r_[2:7, 9:73]]\r\nX = X.interpolate()\r\n\r\n# Select the labels only (the measured battery life)\r\nY = data.iloc[:,0].values.flatten()",
            "metadata": {
                "language": "python"
            },
            "outputs": [],
            "execution_count": 20
        },
        {
            "cell_type": "markdown",
            "source": "Run the following cell to view the features that will be used to train the model.",
            "metadata": {}
        },
        {
            "cell_type": "code",
            "source": "# Examine the features selected\r\nX.info()",
            "metadata": {
                "language": "python"
            },
            "outputs": [
                {
                    "output_type": "stream",
                    "name": "stdout",
                    "text": "<class 'pandas.core.frame.DataFrame'>\nRangeIndex: 10000 entries, 0 to 9999\nData columns (total 69 columns):\nTrip_Length_Mean                                                                        10000 non-null float64\nTrip_Length_Sigma                                                                       10000 non-null float64\nTrips_Per_Day_Mean                                                                      10000 non-null float64\nTrips_Per_Day_Sigma                                                                     10000 non-null float64\nBattery_Rated_Cycles                                                                    10000 non-null int32\nAlternator_Efficiency                                                                   10000 non-null float64\nCar_Has_EcoStart                                                                        10000 non-null bool\nTwelve_hourly_temperature_history_for_last_31_days_before_death_last_recording_first    10000 non-null float64\nSensor_Reading_1                                                                        10000 non-null float64\nSensor_Reading_2                                                                        10000 non-null float64\nSensor_Reading_3                                                                        10000 non-null float64\nSensor_Reading_4                                                                        10000 non-null float64\nSensor_Reading_5                                                                        9999 non-null float64\nSensor_Reading_6                                                                        9999 non-null float64\nSensor_Reading_7                                                                        9998 non-null float64\nSensor_Reading_8                                                                        9998 non-null float64\nSensor_Reading_9                                                                        9997 non-null float64\nSensor_Reading_10                                                                       9997 non-null float64\nSensor_Reading_11                                                                       9996 non-null float64\nSensor_Reading_12                                                                       9996 non-null float64\nSensor_Reading_13                                                                       9995 non-null float64\nSensor_Reading_14                                                                       9995 non-null float64\nSensor_Reading_15                                                                       9994 non-null float64\nSensor_Reading_16                                                                       9994 non-null float64\nSensor_Reading_17                                                                       9994 non-null float64\nSensor_Reading_18                                                                       9994 non-null float64\nSensor_Reading_19                                                                       9992 non-null float64\nSensor_Reading_20                                                                       9992 non-null float64\nSensor_Reading_21                                                                       9992 non-null float64\nSensor_Reading_22                                                                       9992 non-null float64\nSensor_Reading_23                                                                       9991 non-null float64\nSensor_Reading_24                                                                       9991 non-null float64\nSensor_Reading_25                                                                       9991 non-null float64\nSensor_Reading_26                                                                       9991 non-null float64\nSensor_Reading_27                                                                       9991 non-null float64\nSensor_Reading_28                                                                       9991 non-null float64\nSensor_Reading_29                                                                       9991 non-null float64\nSensor_Reading_30                                                                       9991 non-null float64\nSensor_Reading_31                                                                       9991 non-null float64\nSensor_Reading_32                                                                       9991 non-null float64\nSensor_Reading_33                                                                       9991 non-null float64\nSensor_Reading_34                                                                       9991 non-null float64\nSensor_Reading_35                                                                       9990 non-null float64\nSensor_Reading_36                                                                       9990 non-null float64\nSensor_Reading_37                                                                       9990 non-null float64\nSensor_Reading_38                                                                       9990 non-null float64\nSensor_Reading_39                                                                       9990 non-null float64\nSensor_Reading_40                                                                       9990 non-null float64\nSensor_Reading_41                                                                       9989 non-null float64\nSensor_Reading_42                                                                       9989 non-null float64\nSensor_Reading_43                                                                       9988 non-null float64\nSensor_Reading_44                                                                       9988 non-null float64\nSensor_Reading_45                                                                       9988 non-null float64\nSensor_Reading_46                                                                       9988 non-null float64\nSensor_Reading_47                                                                       9988 non-null float64\nSensor_Reading_48                                                                       9988 non-null float64\nSensor_Reading_49                                                                       9988 non-null float64\nSensor_Reading_50                                                                       9988 non-null float64\nSensor_Reading_51                                                                       9988 non-null float64\nSensor_Reading_52                                                                       9988 non-null float64\nSensor_Reading_53                                                                       9987 non-null float64\nSensor_Reading_54                                                                       9987 non-null float64\nSensor_Reading_55                                                                       9987 non-null float64\nSensor_Reading_56                                                                       9987 non-null float64\nSensor_Reading_57                                                                       9987 non-null float64\nSensor_Reading_58                                                                       9987 non-null float64\nSensor_Reading_59                                                                       9987 non-null float64\nSensor_Reading_60                                                                       9987 non-null float64\nSensor_Reading_61                                                                       9987 non-null float64\ndtypes: bool(1), float64(67), int32(1)\nmemory usage: 5.2 MB"
                }
            ],
            "execution_count": 19
        },
        {
            "cell_type": "markdown",
            "source": "In the following cell, you train a model using a GradientBoostingRegressor, providing it the features (X) and the label values (Y). Run the following cell.",
            "metadata": {}
        },
        {
            "cell_type": "code",
            "source": "# Train a regression model\r\nfrom sklearn.ensemble import GradientBoostingRegressor\r\nmodel = GradientBoostingRegressor()\r\nmodel.fit(X,Y)",
            "metadata": {
                "language": "python"
            },
            "outputs": [
                {
                    "output_type": "stream",
                    "name": "stdout",
                    "text": "GradientBoostingRegressor(alpha=0.9, criterion='friedman_mse', init=None,\n             learning_rate=0.1, loss='ls', max_depth=3, max_features=None,\n             max_leaf_nodes=None, min_impurity_decrease=0.0,\n             min_impurity_split=None, min_samples_leaf=1,\n             min_samples_split=2, min_weight_fraction_leaf=0.0,\n             n_estimators=100, n_iter_no_change=None, presort='auto',\n             random_state=None, subsample=1.0, tol=0.0001,\n             validation_fraction=0.1, verbose=0, warm_start=False)"
                }
            ],
            "execution_count": 21
        },
        {
            "cell_type": "markdown",
            "source": "Now try making a single prediction with the trained model. Run the following cell.",
            "metadata": {}
        },
        {
            "cell_type": "code",
            "source": "# Try making a single prediction and observe the result\r\nmodel.predict(X.iloc[0:1])",
            "metadata": {
                "language": "python"
            },
            "outputs": [
                {
                    "output_type": "stream",
                    "name": "stdout",
                    "text": "array([1323.39791998])"
                }
            ],
            "execution_count": 22
        },
        {
            "cell_type": "markdown",
            "source": "With a trained model in hand, you are now ready to score battery life predictions against a new set of vehicle telemetry data. The output of the cell will be predicted battery life for each vehicle. Run the following cell.",
            "metadata": {}
        },
        {
            "cell_type": "code",
            "source": "# access the test data from HDFS by reading into a Spark DataFrame\r\ndf_test = (spark.read.option(\"inferSchema\", \"true\").option(\"header\", \"true\").csv('/data/fleet-formatted.csv'))\r\ntest_data = df_test.toPandas()\r\n\r\n# prepare the test data (dropping unused columns)\r\ntest_data = test_data.drop(columns=[\"Car_ID\", \"Battery_Age\"])\r\ntest_data = test_data.iloc[:,np.r_[2:7, 9:73]]\r\ntest_data.rename(columns={'Twelve_hourly_temperature_forecast_for_next_31_days_reversed': 'Twelve_hourly_temperature_history_for_last_31_days_before_death_last_recording_first'}, inplace=True)\r\n\r\n# make the battery life predictions for each of the vehicles in the test data\r\nbattery_life_predictions = model.predict(test_data)\r\n\r\n# examine the prediction\r\nbattery_life_predictions",
            "metadata": {
                "language": "python"
            },
            "outputs": [],
            "execution_count": 27
        },
        {
            "cell_type": "markdown",
            "source": "Now you can package up the predictions along with the vehicle telemetry into a single DataFrame so that you can export it back out to HDFS as a CSV. Run the following cell.",
            "metadata": {}
        },
        {
            "cell_type": "code",
            "source": "# prepare one data frame that includes predictions for each vehicle\r\nscored_data = test_data\r\nscored_data[\"Estimated_Battery_Life\"] = battery_life_predictions\r\n\r\ndf_scored = spark.createDataFrame(scored_data)\r\n\r\ndf_scored.coalesce(1).write.option(\"header\", \"true\").csv(\"/data/battery-life.csv\")",
            "metadata": {
                "language": "python"
            },
            "outputs": [],
            "execution_count": 35
        },
        {
            "cell_type": "markdown",
            "source": "The above command creates a folder called `battery-life.csv`, which contains one CSV file that you can create an external table from, which will enable you to query the predictions for each vehicle from SQL. Return to the lab instructions to learn how to create an external table you can use for querying this data using SQL.\r\n\r\n",
            "metadata": {}
        }
    ]
}