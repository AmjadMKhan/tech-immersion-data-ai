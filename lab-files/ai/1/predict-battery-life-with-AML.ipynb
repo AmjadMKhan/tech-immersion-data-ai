{
  "cells": [
    {
      "metadata": {},
      "cell_type": "markdown",
      "source": "# Predicting Car Battery Failure"
    },
    {
      "metadata": {},
      "cell_type": "markdown",
      "source": "Your goal in this notebook is to **predict how much time a car battery has left until it is expected to fail**. You are provided training data that includes telemetry from different vehicles, as well as the expected battery life that remains. From this you will train a model that given just the vehicle telemetry predicts the expected battery life. \n\nYou will use compute resources provided by Azure Machine Learning (AML) to **remotely** train a **set** of models using **Automated Machine Learning**, evaluate performance of each model and pick the best performing model to deploy as a web service hosted by **Azure Kubernetes Service**.\n\nBecause you will be using the Azure Machine Learning SDK, you will be able to provision all your required Azure resources directly from this notebook, without having to use the Azure Portal to create any resources."
    },
    {
      "metadata": {},
      "cell_type": "markdown",
      "source": "## Setup\nTo begin, you will need to provide the following information about your Azure Subscription. \n\nIn the following cell, be sure to set the values for `subscription_id`, `resource_group`, `workspace_name` and `workspace_region` as directed by the comments (*these values can be acquired from the Azure Portal*). Execute the following cell by selecting the `>|Run` button in the command bar above."
    },
    {
      "metadata": {
        "trusted": true
      },
      "cell_type": "code",
      "source": "#Provide the Subscription ID of your existing Azure subscription\nsubscription_id = \"30fc406c-c745-44f0-be2d-63b1c860cde0\"\n\n#Provide values for the new Resource Group and Workspace that will be created\nresource_group = \"aml-workspace-tech-immersion\"\nworkspace_name = \"aml-workspace\"\n\n#Optionally, set the Azure Region in which to deploy your Azure Machine Learning Workspace\nworkspace_region = \"westcentralus\" # other options include eastus, westcentralus, southeastasia, australiaeast, westeurope",
      "execution_count": 2,
      "outputs": []
    },
    {
      "metadata": {
        "trusted": true
      },
      "cell_type": "code",
      "source": "# constants, you can leave these values as they are or experiment with changing them after you have completed the notebook once\nexperiment_name = 'automl-regression'\nproject_folder = './automl-regression'\n\n# this is the URL to the CSV file containing the training data\ndata_url = \"https://databricksdemostore.blob.core.windows.net/data/connected-car/training-formatted.csv\"\n\n# this is the URL to the CSV file containing a small set of test data\ntest_data_url = \"https://databricksdemostore.blob.core.windows.net/data/connected-car/fleet-formatted.csv\"\n\ncluster_name = \"cpucluster\"\naks_cluster_name = 'my-aks-cluster' \naks_service_name ='contoso-service'\nresource_id = '/subscriptions/2a779d6f-0806-4359-a6e8-f1fd57bb5dd7/resourceGroups/devintersection-2018-aml-demo/providers/Microsoft.BatchAI/workspaces/devintersection-workspace/clusters/cpucluster1c848275bca'",
      "execution_count": 3,
      "outputs": []
    },
    {
      "metadata": {},
      "cell_type": "markdown",
      "source": "### Import required packages"
    },
    {
      "metadata": {},
      "cell_type": "markdown",
      "source": "The Azure Machine Learning SDK provides a comprehensive set of a capabilities that you can use directly within a notebook including:\n- Creating a **Workspace** that acts as the root object to organize all artifacts and resources used by Azure Machine Learning.\n- Creating **Experiments** in your Workspace that capture versions of the trained model along with any desired model performance telemetry. Each time you train a model and evaluate its results, you can capture that run (model and telemetry) within an Experiment.\n- Creating **Compute** resources that can be used to scale out model training, so that while your notebook may be running in a lightweight container in Azure Notebooks, your model training can actually occur on a powerful cluster that can provide large amounts of memory, CPU or GPU. \n- Using **Automated Machine Learning (AutoML)** to automatically train multiple versions of a model using a mix of different ways to prepare the data and different algorithms and hyperparameters (algorithm settings) in search of the model that performs best according to a performance metric that you specify. \n- Packaging a Docker **Image** that contains everything your trained model needs for scoring (prediction) in order to run as a web service.\n- Deploying your Image to either Azure Kubernetes or Azure Container Instances, effectively hosting the **Web Service**.\n\nIn Azure Notebooks, all of the libraries needed for Azure Machine Learning are pre-installed. To use them, you just need to import them. Run the following cell to do so:"
    },
    {
      "metadata": {
        "trusted": true
      },
      "cell_type": "code",
      "source": "import logging\nimport os\nimport random\nimport re\n\nfrom matplotlib import pyplot as plt\nfrom matplotlib.pyplot import imshow\nimport numpy as np\nimport pandas as pd\nfrom sklearn import datasets\n\nimport azureml.core\nfrom azureml.core.experiment import Experiment\nfrom azureml.core.workspace import Workspace\nfrom azureml.core.compute import AksCompute, ComputeTarget\nfrom azureml.core.webservice import Webservice, AksWebservice\nfrom azureml.core.image import Image\nfrom azureml.core.model import Model\nfrom azureml.train.automl import AutoMLConfig\nfrom azureml.train.automl.run import AutoMLRun\nfrom azureml.core import Workspace",
      "execution_count": 4,
      "outputs": []
    },
    {
      "metadata": {},
      "cell_type": "markdown",
      "source": "## Create and connect to an Azure Machine Learning Workspace"
    },
    {
      "metadata": {},
      "cell_type": "markdown",
      "source": "Run the following cell to create a new Azure Machine Learning **Workspace** and save the configuration to disk (next to the Jupyter notebook). \n\n**Important Note**: You will be prompted to login in the text that is output below the cell. Be sure to navigate to the URL displayed and enter the code that is provided. Once you have entered the code, return to this notebook and wait for the output to read `Library configuration succeeded`."
    },
    {
      "metadata": {
        "trusted": true
      },
      "cell_type": "code",
      "source": "# By using the exist_ok param, if the worskpace already exists you get a reference to the existing workspace\n# allowing you to re-run this cell multiple times as desired (which is fairly common in notebooks).\nws = Workspace.create(\n    name = workspace_name,\n    subscription_id = subscription_id,\n    resource_group = resource_group, \n    location = workspace_region,\n    exist_ok = True)\n\nws.write_config()\nprint('Library configuration succeeded')\n",
      "execution_count": 5,
      "outputs": [
        {
          "output_type": "stream",
          "text": "Falling back to use azure cli credentials. This fall back to use azure cli credentials will be removed in the next release. \nMake sure your code doesn't require 'az login' to have happened before using azureml-sdk, except the case when you are specifying AzureCliAuthentication in azureml-sdk.\n",
          "name": "stderr"
        },
        {
          "output_type": "stream",
          "text": "Performing interactive authentication. Please follow the instructions on the terminal.\nTo sign in, use a web browser to open the page https://microsoft.com/devicelogin and enter the code FQ7PP66YA to authenticate.\nInteractive authentication successfully completed.\nWrote the config file config.json to: /home/nbuser/library/aml_config/config.json\nLibrary configuration succeeded\n",
          "name": "stdout"
        }
      ]
    },
    {
      "metadata": {},
      "cell_type": "markdown",
      "source": "## Create a Workspace Experiment"
    },
    {
      "metadata": {},
      "cell_type": "markdown",
      "source": "Notice in the first line of the cell below, we can re-load the config we saved previously and then display a summary of the environment."
    },
    {
      "metadata": {
        "trusted": true
      },
      "cell_type": "code",
      "source": "ws = Workspace.from_config()\n\n# Display a summary of the current environment \noutput = {}\noutput['SDK version'] = azureml.core.VERSION\noutput['Subscription ID'] = ws.subscription_id\noutput['Workspace'] = ws.name\noutput['Resource Group'] = ws.resource_group\noutput['Location'] = ws.location\noutput['Project Directory'] = project_folder\npd.set_option('display.max_colwidth', -1)\npd.DataFrame(data=output, index=['']).T",
      "execution_count": 9,
      "outputs": [
        {
          "output_type": "stream",
          "text": "Found the config file in: /home/nbuser/library/aml_config/config.json\n",
          "name": "stdout"
        },
        {
          "output_type": "execute_result",
          "execution_count": 9,
          "data": {
            "text/html": "<div>\n<style scoped>\n    .dataframe tbody tr th:only-of-type {\n        vertical-align: middle;\n    }\n\n    .dataframe tbody tr th {\n        vertical-align: top;\n    }\n\n    .dataframe thead th {\n        text-align: right;\n    }\n</style>\n<table border=\"1\" class=\"dataframe\">\n  <thead>\n    <tr style=\"text-align: right;\">\n      <th></th>\n      <th></th>\n    </tr>\n  </thead>\n  <tbody>\n    <tr>\n      <th>Location</th>\n      <td>westcentralus</td>\n    </tr>\n    <tr>\n      <th>Project Directory</th>\n      <td>./automl-regression</td>\n    </tr>\n    <tr>\n      <th>Resource Group</th>\n      <td>aml-workspace-tech-immersion</td>\n    </tr>\n    <tr>\n      <th>SDK version</th>\n      <td>1.0.15</td>\n    </tr>\n    <tr>\n      <th>Subscription ID</th>\n      <td>30fc406c-c745-44f0-be2d-63b1c860cde0</td>\n    </tr>\n    <tr>\n      <th>Workspace</th>\n      <td>aml-workspace</td>\n    </tr>\n  </tbody>\n</table>\n</div>",
            "text/plain": "                                                       \nLocation           westcentralus                       \nProject Directory  ./automl-regression                 \nResource Group     aml-workspace-tech-immersion        \nSDK version        1.0.15                              \nSubscription ID    30fc406c-c745-44f0-be2d-63b1c860cde0\nWorkspace          aml-workspace                       "
          },
          "metadata": {}
        }
      ]
    },
    {
      "metadata": {},
      "cell_type": "markdown",
      "source": "Next, create a new Experiment. "
    },
    {
      "metadata": {
        "trusted": true
      },
      "cell_type": "code",
      "source": "experiment = Experiment(ws, experiment_name)",
      "execution_count": 10,
      "outputs": []
    },
    {
      "metadata": {},
      "cell_type": "markdown",
      "source": "## Get and explore the Vehicle Telemetry Data"
    },
    {
      "metadata": {},
      "cell_type": "markdown",
      "source": "Run the following cell to download and examine the vehicle telemetry data. The model you will build will try to predict how many days until the battery has a freeze event. Which features (columns) do you think will be useful?"
    },
    {
      "metadata": {
        "trusted": true
      },
      "cell_type": "code",
      "source": "data = pd.read_csv(data_url)\ndata",
      "execution_count": 19,
      "outputs": [
        {
          "output_type": "execute_result",
          "execution_count": 19,
          "data": {
            "text/html": "<div>\n<style scoped>\n    .dataframe tbody tr th:only-of-type {\n        vertical-align: middle;\n    }\n\n    .dataframe tbody tr th {\n        vertical-align: top;\n    }\n\n    .dataframe thead th {\n        text-align: right;\n    }\n</style>\n<table border=\"1\" class=\"dataframe\">\n  <thead>\n    <tr style=\"text-align: right;\">\n      <th></th>\n      <th>Survival_In_Days</th>\n      <th>Province</th>\n      <th>Region</th>\n      <th>Trip_Length_Mean</th>\n      <th>Trip_Length_Sigma</th>\n      <th>Trips_Per_Day_Mean</th>\n      <th>Trips_Per_Day_Sigma</th>\n      <th>Battery_Rated_Cycles</th>\n      <th>Manufacture_Month</th>\n      <th>Manufacture_Year</th>\n      <th>...</th>\n      <th>Sensor_Reading_52</th>\n      <th>Sensor_Reading_53</th>\n      <th>Sensor_Reading_54</th>\n      <th>Sensor_Reading_55</th>\n      <th>Sensor_Reading_56</th>\n      <th>Sensor_Reading_57</th>\n      <th>Sensor_Reading_58</th>\n      <th>Sensor_Reading_59</th>\n      <th>Sensor_Reading_60</th>\n      <th>Sensor_Reading_61</th>\n    </tr>\n  </thead>\n  <tbody>\n    <tr>\n      <th>0</th>\n      <td>1283</td>\n      <td>Bretagne</td>\n      <td>West</td>\n      <td>18.103250</td>\n      <td>6.034416</td>\n      <td>4.733162</td>\n      <td>1.183291</td>\n      <td>275</td>\n      <td>M8</td>\n      <td>Y2010</td>\n      <td>...</td>\n      <td>16.418910</td>\n      <td>17.441310</td>\n      <td>24.718290</td>\n      <td>11.812310</td>\n      <td>19.437210</td>\n      <td>15.079740</td>\n      <td>16.982440</td>\n      <td>18.893610</td>\n      <td>13.590000</td>\n      <td>14.510940</td>\n    </tr>\n    <tr>\n      <th>1</th>\n      <td>1427</td>\n      <td>Occitanie</td>\n      <td>South</td>\n      <td>14.637070</td>\n      <td>4.879023</td>\n      <td>4.325950</td>\n      <td>1.081487</td>\n      <td>250</td>\n      <td>M8</td>\n      <td>Y2014</td>\n      <td>...</td>\n      <td>14.703280</td>\n      <td>16.154500</td>\n      <td>27.789550</td>\n      <td>22.292230</td>\n      <td>29.158610</td>\n      <td>21.739530</td>\n      <td>23.830780</td>\n      <td>19.480210</td>\n      <td>10.264120</td>\n      <td>18.009700</td>\n    </tr>\n    <tr>\n      <th>2</th>\n      <td>1436</td>\n      <td>Auvergne_Rhone_Alpes</td>\n      <td>South</td>\n      <td>14.505640</td>\n      <td>4.835215</td>\n      <td>4.418737</td>\n      <td>1.104684</td>\n      <td>250</td>\n      <td>M9</td>\n      <td>Y2018</td>\n      <td>...</td>\n      <td>22.389700</td>\n      <td>21.834420</td>\n      <td>28.743260</td>\n      <td>26.313940</td>\n      <td>15.589060</td>\n      <td>15.317560</td>\n      <td>19.613730</td>\n      <td>28.397800</td>\n      <td>19.807990</td>\n      <td>15.425770</td>\n    </tr>\n    <tr>\n      <th>3</th>\n      <td>894</td>\n      <td>Martinique</td>\n      <td>West</td>\n      <td>20.850520</td>\n      <td>6.950172</td>\n      <td>4.284968</td>\n      <td>1.071242</td>\n      <td>200</td>\n      <td>M10</td>\n      <td>Y2003</td>\n      <td>...</td>\n      <td>2.794836</td>\n      <td>13.993500</td>\n      <td>15.524580</td>\n      <td>6.298875</td>\n      <td>11.355190</td>\n      <td>14.396860</td>\n      <td>2.890394</td>\n      <td>6.362495</td>\n      <td>10.916070</td>\n      <td>10.004320</td>\n    </tr>\n    <tr>\n      <th>4</th>\n      <td>1539</td>\n      <td>Reunion</td>\n      <td>South</td>\n      <td>11.579590</td>\n      <td>3.859862</td>\n      <td>4.561532</td>\n      <td>1.140383</td>\n      <td>200</td>\n      <td>M10</td>\n      <td>Y2007</td>\n      <td>...</td>\n      <td>26.631860</td>\n      <td>26.116980</td>\n      <td>18.011900</td>\n      <td>25.257760</td>\n      <td>25.320780</td>\n      <td>26.894640</td>\n      <td>18.863220</td>\n      <td>25.744930</td>\n      <td>24.027720</td>\n      <td>23.657220</td>\n    </tr>\n    <tr>\n      <th>5</th>\n      <td>1872</td>\n      <td>Marseille</td>\n      <td>South</td>\n      <td>14.070980</td>\n      <td>4.690325</td>\n      <td>4.697100</td>\n      <td>1.174275</td>\n      <td>300</td>\n      <td>M11</td>\n      <td>Y2011</td>\n      <td>...</td>\n      <td>11.889280</td>\n      <td>7.358676</td>\n      <td>10.700270</td>\n      <td>8.218617</td>\n      <td>13.397930</td>\n      <td>2.973648</td>\n      <td>11.031080</td>\n      <td>3.532511</td>\n      <td>12.841720</td>\n      <td>8.153067</td>\n    </tr>\n    <tr>\n      <th>6</th>\n      <td>151</td>\n      <td>Ile_de_France</td>\n      <td>MidWest</td>\n      <td>13.388510</td>\n      <td>4.462836</td>\n      <td>4.539887</td>\n      <td>1.134972</td>\n      <td>300</td>\n      <td>M12</td>\n      <td>Y2015</td>\n      <td>...</td>\n      <td>-13.361990</td>\n      <td>12.716510</td>\n      <td>-25.999620</td>\n      <td>-0.855164</td>\n      <td>-19.726040</td>\n      <td>5.154581</td>\n      <td>-9.921854</td>\n      <td>-0.260530</td>\n      <td>-20.260940</td>\n      <td>6.349902</td>\n    </tr>\n    <tr>\n      <th>7</th>\n      <td>1975</td>\n      <td>Normandie</td>\n      <td>MidWest</td>\n      <td>16.718670</td>\n      <td>5.572891</td>\n      <td>4.641222</td>\n      <td>1.160305</td>\n      <td>275</td>\n      <td>M12</td>\n      <td>Y2000</td>\n      <td>...</td>\n      <td>21.916700</td>\n      <td>14.228060</td>\n      <td>11.378330</td>\n      <td>-0.157791</td>\n      <td>13.303480</td>\n      <td>7.164655</td>\n      <td>10.716000</td>\n      <td>4.709601</td>\n      <td>19.316740</td>\n      <td>-0.762613</td>\n    </tr>\n    <tr>\n      <th>8</th>\n      <td>1957</td>\n      <td>Paris</td>\n      <td>MidWest</td>\n      <td>12.280450</td>\n      <td>4.093483</td>\n      <td>4.417785</td>\n      <td>1.104446</td>\n      <td>275</td>\n      <td>M1</td>\n      <td>Y2005</td>\n      <td>...</td>\n      <td>-10.007310</td>\n      <td>5.053398</td>\n      <td>-12.770300</td>\n      <td>4.404034</td>\n      <td>-8.639040</td>\n      <td>3.357793</td>\n      <td>-12.641930</td>\n      <td>-0.040223</td>\n      <td>-11.433320</td>\n      <td>4.471225</td>\n    </tr>\n    <tr>\n      <th>9</th>\n      <td>1150</td>\n      <td>Corse</td>\n      <td>South</td>\n      <td>19.615720</td>\n      <td>6.538573</td>\n      <td>4.318250</td>\n      <td>1.079563</td>\n      <td>250</td>\n      <td>M2</td>\n      <td>Y2009</td>\n      <td>...</td>\n      <td>17.566970</td>\n      <td>0.334354</td>\n      <td>11.381730</td>\n      <td>-9.591447</td>\n      <td>9.592852</td>\n      <td>-2.911261</td>\n      <td>8.209939</td>\n      <td>-2.191684</td>\n      <td>12.873960</td>\n      <td>-3.348420</td>\n    </tr>\n    <tr>\n      <th>10</th>\n      <td>149</td>\n      <td>Bretagne</td>\n      <td>West</td>\n      <td>24.916970</td>\n      <td>8.305656</td>\n      <td>4.161037</td>\n      <td>1.040259</td>\n      <td>250</td>\n      <td>M2</td>\n      <td>Y2013</td>\n      <td>...</td>\n      <td>-6.932360</td>\n      <td>0.007320</td>\n      <td>-0.492777</td>\n      <td>-0.714310</td>\n      <td>-4.919555</td>\n      <td>6.558564</td>\n      <td>-2.828514</td>\n      <td>3.843769</td>\n      <td>-4.377323</td>\n      <td>-0.957316</td>\n    </tr>\n    <tr>\n      <th>11</th>\n      <td>1746</td>\n      <td>Occitanie</td>\n      <td>South</td>\n      <td>12.852860</td>\n      <td>4.284285</td>\n      <td>4.503825</td>\n      <td>1.125956</td>\n      <td>200</td>\n      <td>M3</td>\n      <td>Y2017</td>\n      <td>...</td>\n      <td>10.254080</td>\n      <td>18.141830</td>\n      <td>23.950590</td>\n      <td>16.175580</td>\n      <td>19.434370</td>\n      <td>18.678130</td>\n      <td>9.588974</td>\n      <td>16.439920</td>\n      <td>18.886770</td>\n      <td>15.012810</td>\n    </tr>\n    <tr>\n      <th>12</th>\n      <td>1264</td>\n      <td>Provence_Alpes_Cote_d_Azure</td>\n      <td>South</td>\n      <td>14.431230</td>\n      <td>4.810409</td>\n      <td>4.774038</td>\n      <td>1.193510</td>\n      <td>200</td>\n      <td>M4</td>\n      <td>Y2002</td>\n      <td>...</td>\n      <td>14.444300</td>\n      <td>8.243447</td>\n      <td>21.876330</td>\n      <td>12.666400</td>\n      <td>8.785370</td>\n      <td>15.503560</td>\n      <td>7.382834</td>\n      <td>17.055410</td>\n      <td>10.713060</td>\n      <td>13.794670</td>\n    </tr>\n    <tr>\n      <th>13</th>\n      <td>1239</td>\n      <td>Martinique</td>\n      <td>West</td>\n      <td>24.370290</td>\n      <td>8.123428</td>\n      <td>4.050601</td>\n      <td>1.012650</td>\n      <td>300</td>\n      <td>M4</td>\n      <td>Y2006</td>\n      <td>...</td>\n      <td>7.229444</td>\n      <td>6.563443</td>\n      <td>12.312110</td>\n      <td>7.645869</td>\n      <td>6.828046</td>\n      <td>5.190016</td>\n      <td>10.845010</td>\n      <td>-0.814936</td>\n      <td>22.615180</td>\n      <td>5.746221</td>\n    </tr>\n    <tr>\n      <th>14</th>\n      <td>746</td>\n      <td>Reunion</td>\n      <td>South</td>\n      <td>12.364850</td>\n      <td>4.121616</td>\n      <td>4.532187</td>\n      <td>1.133047</td>\n      <td>300</td>\n      <td>M5</td>\n      <td>Y2010</td>\n      <td>...</td>\n      <td>20.472520</td>\n      <td>30.492680</td>\n      <td>21.073880</td>\n      <td>23.888390</td>\n      <td>27.703130</td>\n      <td>30.132040</td>\n      <td>23.278500</td>\n      <td>25.129150</td>\n      <td>22.071470</td>\n      <td>31.561330</td>\n    </tr>\n    <tr>\n      <th>15</th>\n      <td>2169</td>\n      <td>Marseille</td>\n      <td>South</td>\n      <td>16.547490</td>\n      <td>5.515829</td>\n      <td>4.874975</td>\n      <td>1.218744</td>\n      <td>275</td>\n      <td>M6</td>\n      <td>Y2014</td>\n      <td>...</td>\n      <td>11.540520</td>\n      <td>8.953282</td>\n      <td>13.495490</td>\n      <td>4.300830</td>\n      <td>8.398269</td>\n      <td>7.916168</td>\n      <td>18.099120</td>\n      <td>8.535737</td>\n      <td>15.810000</td>\n      <td>10.980920</td>\n    </tr>\n    <tr>\n      <th>16</th>\n      <td>364</td>\n      <td>Ile_de_France</td>\n      <td>MidWest</td>\n      <td>11.728880</td>\n      <td>3.909626</td>\n      <td>4.717763</td>\n      <td>1.179441</td>\n      <td>275</td>\n      <td>M6</td>\n      <td>Y2018</td>\n      <td>...</td>\n      <td>-6.833370</td>\n      <td>-0.182213</td>\n      <td>-18.496610</td>\n      <td>4.715509</td>\n      <td>-7.155890</td>\n      <td>-0.909295</td>\n      <td>-1.367549</td>\n      <td>0.579500</td>\n      <td>-6.614996</td>\n      <td>2.315807</td>\n    </tr>\n    <tr>\n      <th>17</th>\n      <td>1077</td>\n      <td>Normandie</td>\n      <td>MidWest</td>\n      <td>19.482960</td>\n      <td>6.494321</td>\n      <td>4.406855</td>\n      <td>1.101714</td>\n      <td>250</td>\n      <td>M7</td>\n      <td>Y2003</td>\n      <td>...</td>\n      <td>14.273850</td>\n      <td>-0.128747</td>\n      <td>17.020360</td>\n      <td>13.769360</td>\n      <td>13.067900</td>\n      <td>23.692400</td>\n      <td>15.479380</td>\n      <td>5.538088</td>\n      <td>26.368280</td>\n      <td>16.317830</td>\n    </tr>\n    <tr>\n      <th>18</th>\n      <td>1671</td>\n      <td>Paris</td>\n      <td>MidWest</td>\n      <td>12.264820</td>\n      <td>4.088274</td>\n      <td>4.933418</td>\n      <td>1.233355</td>\n      <td>250</td>\n      <td>M8</td>\n      <td>Y2007</td>\n      <td>...</td>\n      <td>-10.412110</td>\n      <td>0.555968</td>\n      <td>-11.970890</td>\n      <td>7.323382</td>\n      <td>-3.883451</td>\n      <td>6.024005</td>\n      <td>-5.313944</td>\n      <td>0.991649</td>\n      <td>-13.887620</td>\n      <td>3.066116</td>\n    </tr>\n    <tr>\n      <th>19</th>\n      <td>1517</td>\n      <td>Hauts_de_France</td>\n      <td>Northeast</td>\n      <td>10.623340</td>\n      <td>3.541114</td>\n      <td>4.496125</td>\n      <td>1.124031</td>\n      <td>200</td>\n      <td>M8</td>\n      <td>Y2011</td>\n      <td>...</td>\n      <td>10.502870</td>\n      <td>5.179905</td>\n      <td>10.843530</td>\n      <td>2.083185</td>\n      <td>16.138470</td>\n      <td>4.552175</td>\n      <td>11.162690</td>\n      <td>-1.502144</td>\n      <td>9.524881</td>\n      <td>3.883871</td>\n    </tr>\n    <tr>\n      <th>20</th>\n      <td>903</td>\n      <td>Bretagne</td>\n      <td>West</td>\n      <td>22.010440</td>\n      <td>7.336814</td>\n      <td>4.338913</td>\n      <td>1.084728</td>\n      <td>200</td>\n      <td>M9</td>\n      <td>Y2015</td>\n      <td>...</td>\n      <td>12.888770</td>\n      <td>29.389390</td>\n      <td>23.977590</td>\n      <td>28.729650</td>\n      <td>17.838230</td>\n      <td>17.831230</td>\n      <td>16.978750</td>\n      <td>30.625160</td>\n      <td>26.645550</td>\n      <td>22.991550</td>\n    </tr>\n    <tr>\n      <th>21</th>\n      <td>1525</td>\n      <td>Occitanie</td>\n      <td>South</td>\n      <td>16.301340</td>\n      <td>5.433779</td>\n      <td>4.013108</td>\n      <td>1.003277</td>\n      <td>300</td>\n      <td>M10</td>\n      <td>Y2000</td>\n      <td>...</td>\n      <td>30.473630</td>\n      <td>16.180800</td>\n      <td>12.860740</td>\n      <td>23.589720</td>\n      <td>15.331230</td>\n      <td>23.489290</td>\n      <td>30.830430</td>\n      <td>23.850880</td>\n      <td>19.313410</td>\n      <td>22.020610</td>\n    </tr>\n    <tr>\n      <th>22</th>\n      <td>1679</td>\n      <td>Provence_Alpes_Cote_d_Azure</td>\n      <td>South</td>\n      <td>16.955670</td>\n      <td>5.651891</td>\n      <td>4.539671</td>\n      <td>1.134918</td>\n      <td>300</td>\n      <td>M10</td>\n      <td>Y2004</td>\n      <td>...</td>\n      <td>5.086161</td>\n      <td>12.654480</td>\n      <td>16.376580</td>\n      <td>7.495133</td>\n      <td>11.233960</td>\n      <td>2.168833</td>\n      <td>15.095640</td>\n      <td>7.518519</td>\n      <td>18.825820</td>\n      <td>7.771949</td>\n    </tr>\n    <tr>\n      <th>23</th>\n      <td>1292</td>\n      <td>Martinique</td>\n      <td>West</td>\n      <td>20.747130</td>\n      <td>6.915709</td>\n      <td>4.617275</td>\n      <td>1.154319</td>\n      <td>275</td>\n      <td>M11</td>\n      <td>Y2008</td>\n      <td>...</td>\n      <td>25.979550</td>\n      <td>12.735090</td>\n      <td>15.480450</td>\n      <td>18.522030</td>\n      <td>26.785230</td>\n      <td>16.898010</td>\n      <td>31.431440</td>\n      <td>16.579950</td>\n      <td>28.857970</td>\n      <td>21.001650</td>\n    </tr>\n    <tr>\n      <th>24</th>\n      <td>1949</td>\n      <td>Reunion</td>\n      <td>South</td>\n      <td>10.815900</td>\n      <td>3.605300</td>\n      <td>4.710063</td>\n      <td>1.177516</td>\n      <td>275</td>\n      <td>M12</td>\n      <td>Y2012</td>\n      <td>...</td>\n      <td>20.773540</td>\n      <td>21.127410</td>\n      <td>18.855140</td>\n      <td>23.365690</td>\n      <td>20.094810</td>\n      <td>27.497790</td>\n      <td>10.526370</td>\n      <td>27.638840</td>\n      <td>20.820590</td>\n      <td>24.639210</td>\n    </tr>\n    <tr>\n      <th>25</th>\n      <td>1441</td>\n      <td>Marseille</td>\n      <td>South</td>\n      <td>17.208020</td>\n      <td>5.736008</td>\n      <td>4.302850</td>\n      <td>1.075713</td>\n      <td>250</td>\n      <td>M12</td>\n      <td>Y2016</td>\n      <td>...</td>\n      <td>23.420560</td>\n      <td>14.956630</td>\n      <td>18.467700</td>\n      <td>22.623480</td>\n      <td>19.871610</td>\n      <td>22.546130</td>\n      <td>30.508560</td>\n      <td>14.853230</td>\n      <td>31.020990</td>\n      <td>2.734566</td>\n    </tr>\n    <tr>\n      <th>26</th>\n      <td>458</td>\n      <td>Mayotte</td>\n      <td>South</td>\n      <td>15.308710</td>\n      <td>5.102904</td>\n      <td>4.895925</td>\n      <td>1.223981</td>\n      <td>250</td>\n      <td>M1</td>\n      <td>Y2002</td>\n      <td>...</td>\n      <td>11.656110</td>\n      <td>11.345850</td>\n      <td>23.522850</td>\n      <td>15.074630</td>\n      <td>12.055700</td>\n      <td>16.988680</td>\n      <td>14.239940</td>\n      <td>5.037287</td>\n      <td>17.419600</td>\n      <td>13.420180</td>\n    </tr>\n    <tr>\n      <th>27</th>\n      <td>1583</td>\n      <td>Normandie</td>\n      <td>MidWest</td>\n      <td>17.165870</td>\n      <td>5.721958</td>\n      <td>4.172488</td>\n      <td>1.043122</td>\n      <td>200</td>\n      <td>M2</td>\n      <td>Y2006</td>\n      <td>...</td>\n      <td>7.370931</td>\n      <td>6.573709</td>\n      <td>16.121060</td>\n      <td>0.088802</td>\n      <td>5.874234</td>\n      <td>2.831344</td>\n      <td>8.731074</td>\n      <td>0.076872</td>\n      <td>13.493280</td>\n      <td>2.122270</td>\n    </tr>\n    <tr>\n      <th>28</th>\n      <td>1257</td>\n      <td>Paris</td>\n      <td>MidWest</td>\n      <td>13.377550</td>\n      <td>4.459182</td>\n      <td>4.581213</td>\n      <td>1.145303</td>\n      <td>200</td>\n      <td>M2</td>\n      <td>Y2010</td>\n      <td>...</td>\n      <td>4.673491</td>\n      <td>3.920236</td>\n      <td>17.825720</td>\n      <td>13.696380</td>\n      <td>10.929100</td>\n      <td>10.377020</td>\n      <td>5.767171</td>\n      <td>13.753510</td>\n      <td>6.441654</td>\n      <td>7.811501</td>\n    </tr>\n    <tr>\n      <th>29</th>\n      <td>1873</td>\n      <td>Hauts_de_France</td>\n      <td>Northeast</td>\n      <td>12.361060</td>\n      <td>4.120353</td>\n      <td>4.674001</td>\n      <td>1.168500</td>\n      <td>300</td>\n      <td>M3</td>\n      <td>Y2014</td>\n      <td>...</td>\n      <td>4.297332</td>\n      <td>-4.270019</td>\n      <td>6.886309</td>\n      <td>1.102598</td>\n      <td>9.397734</td>\n      <td>-1.496837</td>\n      <td>6.390350</td>\n      <td>2.221687</td>\n      <td>10.044520</td>\n      <td>0.365515</td>\n    </tr>\n    <tr>\n      <th>...</th>\n      <td>...</td>\n      <td>...</td>\n      <td>...</td>\n      <td>...</td>\n      <td>...</td>\n      <td>...</td>\n      <td>...</td>\n      <td>...</td>\n      <td>...</td>\n      <td>...</td>\n      <td>...</td>\n      <td>...</td>\n      <td>...</td>\n      <td>...</td>\n      <td>...</td>\n      <td>...</td>\n      <td>...</td>\n      <td>...</td>\n      <td>...</td>\n      <td>...</td>\n      <td>...</td>\n    </tr>\n    <tr>\n      <th>9970</th>\n      <td>1277</td>\n      <td>Normandie</td>\n      <td>MidWest</td>\n      <td>18.304630</td>\n      <td>6.101542</td>\n      <td>4.574790</td>\n      <td>1.143697</td>\n      <td>250</td>\n      <td>M2</td>\n      <td>Y2011</td>\n      <td>...</td>\n      <td>-2.196218</td>\n      <td>-5.515635</td>\n      <td>-2.727047</td>\n      <td>-4.016354</td>\n      <td>-2.262966</td>\n      <td>-4.952300</td>\n      <td>-4.266172</td>\n      <td>-8.887016</td>\n      <td>-0.248837</td>\n      <td>-11.034920</td>\n    </tr>\n    <tr>\n      <th>9971</th>\n      <td>886</td>\n      <td>Guadeloupe</td>\n      <td>West</td>\n      <td>14.396270</td>\n      <td>4.798757</td>\n      <td>4.667577</td>\n      <td>1.166894</td>\n      <td>200</td>\n      <td>M2</td>\n      <td>Y2015</td>\n      <td>...</td>\n      <td>28.255720</td>\n      <td>21.557870</td>\n      <td>20.734420</td>\n      <td>28.871260</td>\n      <td>23.523420</td>\n      <td>30.385400</td>\n      <td>20.126180</td>\n      <td>26.841620</td>\n      <td>31.012230</td>\n      <td>22.235170</td>\n    </tr>\n    <tr>\n      <th>9972</th>\n      <td>1077</td>\n      <td>Corse</td>\n      <td>South</td>\n      <td>21.538110</td>\n      <td>7.179371</td>\n      <td>4.344738</td>\n      <td>1.086184</td>\n      <td>200</td>\n      <td>M3</td>\n      <td>Y2000</td>\n      <td>...</td>\n      <td>11.243730</td>\n      <td>28.435250</td>\n      <td>29.793850</td>\n      <td>25.761680</td>\n      <td>22.070760</td>\n      <td>28.778200</td>\n      <td>18.787360</td>\n      <td>21.649710</td>\n      <td>31.205050</td>\n      <td>29.246330</td>\n    </tr>\n    <tr>\n      <th>9973</th>\n      <td>1520</td>\n      <td>Bretagne</td>\n      <td>West</td>\n      <td>19.909750</td>\n      <td>6.636582</td>\n      <td>4.871301</td>\n      <td>1.217825</td>\n      <td>300</td>\n      <td>M4</td>\n      <td>Y2004</td>\n      <td>...</td>\n      <td>34.961320</td>\n      <td>25.748810</td>\n      <td>19.609730</td>\n      <td>22.671340</td>\n      <td>24.754280</td>\n      <td>24.997600</td>\n      <td>38.855770</td>\n      <td>13.367450</td>\n      <td>15.209890</td>\n      <td>13.753590</td>\n    </tr>\n    <tr>\n      <th>9974</th>\n      <td>1348</td>\n      <td>French_Guiana</td>\n      <td>South</td>\n      <td>17.962720</td>\n      <td>5.987572</td>\n      <td>4.945940</td>\n      <td>1.236485</td>\n      <td>300</td>\n      <td>M4</td>\n      <td>Y2008</td>\n      <td>...</td>\n      <td>17.703330</td>\n      <td>8.639534</td>\n      <td>18.552410</td>\n      <td>10.964820</td>\n      <td>8.835272</td>\n      <td>10.562770</td>\n      <td>15.995760</td>\n      <td>8.590507</td>\n      <td>12.867630</td>\n      <td>13.854610</td>\n    </tr>\n    <tr>\n      <th>9975</th>\n      <td>1848</td>\n      <td>Auvergne_Rhone_Alpes</td>\n      <td>South</td>\n      <td>18.794020</td>\n      <td>6.264673</td>\n      <td>4.038727</td>\n      <td>1.009682</td>\n      <td>275</td>\n      <td>M5</td>\n      <td>Y2012</td>\n      <td>...</td>\n      <td>16.106730</td>\n      <td>0.110176</td>\n      <td>23.089270</td>\n      <td>11.392460</td>\n      <td>14.614010</td>\n      <td>14.231120</td>\n      <td>27.680560</td>\n      <td>2.135936</td>\n      <td>27.652210</td>\n      <td>7.110587</td>\n    </tr>\n    <tr>\n      <th>9976</th>\n      <td>1176</td>\n      <td>Martinique</td>\n      <td>West</td>\n      <td>24.295930</td>\n      <td>8.098641</td>\n      <td>4.131515</td>\n      <td>1.032879</td>\n      <td>275</td>\n      <td>M6</td>\n      <td>Y2016</td>\n      <td>...</td>\n      <td>4.850707</td>\n      <td>-1.875775</td>\n      <td>3.837338</td>\n      <td>-11.487730</td>\n      <td>7.816706</td>\n      <td>2.894628</td>\n      <td>3.210212</td>\n      <td>-4.733469</td>\n      <td>4.940041</td>\n      <td>-3.425428</td>\n    </tr>\n    <tr>\n      <th>9977</th>\n      <td>638</td>\n      <td>Reunion</td>\n      <td>South</td>\n      <td>13.303050</td>\n      <td>4.434351</td>\n      <td>4.477554</td>\n      <td>1.119389</td>\n      <td>250</td>\n      <td>M6</td>\n      <td>Y2001</td>\n      <td>...</td>\n      <td>26.215230</td>\n      <td>27.149930</td>\n      <td>19.431710</td>\n      <td>20.939820</td>\n      <td>20.892810</td>\n      <td>24.789210</td>\n      <td>17.746910</td>\n      <td>19.421890</td>\n      <td>22.802400</td>\n      <td>18.076750</td>\n    </tr>\n    <tr>\n      <th>9978</th>\n      <td>1685</td>\n      <td>Grand_Est</td>\n      <td>Northeast</td>\n      <td>14.856240</td>\n      <td>4.952081</td>\n      <td>4.504117</td>\n      <td>1.126029</td>\n      <td>250</td>\n      <td>M7</td>\n      <td>Y2005</td>\n      <td>...</td>\n      <td>6.075971</td>\n      <td>-6.314934</td>\n      <td>12.398750</td>\n      <td>-3.085154</td>\n      <td>0.988894</td>\n      <td>-2.154470</td>\n      <td>1.199917</td>\n      <td>-5.276217</td>\n      <td>6.517824</td>\n      <td>-7.873030</td>\n    </tr>\n    <tr>\n      <th>9979</th>\n      <td>320</td>\n      <td>Ile_de_France</td>\n      <td>MidWest</td>\n      <td>12.022650</td>\n      <td>4.007552</td>\n      <td>4.409877</td>\n      <td>1.102469</td>\n      <td>200</td>\n      <td>M8</td>\n      <td>Y2009</td>\n      <td>...</td>\n      <td>-10.274050</td>\n      <td>2.455538</td>\n      <td>-5.589591</td>\n      <td>10.970680</td>\n      <td>-2.483138</td>\n      <td>2.897800</td>\n      <td>-6.300704</td>\n      <td>4.854384</td>\n      <td>-4.379039</td>\n      <td>4.795531</td>\n    </tr>\n    <tr>\n      <th>9980</th>\n      <td>1129</td>\n      <td>Normandie</td>\n      <td>MidWest</td>\n      <td>16.140320</td>\n      <td>5.380106</td>\n      <td>4.752665</td>\n      <td>1.188166</td>\n      <td>200</td>\n      <td>M8</td>\n      <td>Y2013</td>\n      <td>...</td>\n      <td>-1.501855</td>\n      <td>-1.585188</td>\n      <td>5.649719</td>\n      <td>1.899826</td>\n      <td>3.695661</td>\n      <td>-2.397912</td>\n      <td>-0.743670</td>\n      <td>-4.280870</td>\n      <td>-0.553439</td>\n      <td>-0.903793</td>\n    </tr>\n    <tr>\n      <th>9981</th>\n      <td>1642</td>\n      <td>Paris</td>\n      <td>MidWest</td>\n      <td>13.279500</td>\n      <td>4.426501</td>\n      <td>4.845452</td>\n      <td>1.211363</td>\n      <td>300</td>\n      <td>M9</td>\n      <td>Y2017</td>\n      <td>...</td>\n      <td>-4.258152</td>\n      <td>0.808393</td>\n      <td>-5.816938</td>\n      <td>7.575808</td>\n      <td>2.270507</td>\n      <td>6.276431</td>\n      <td>0.840013</td>\n      <td>1.244074</td>\n      <td>-7.733659</td>\n      <td>3.318541</td>\n    </tr>\n    <tr>\n      <th>9982</th>\n      <td>1672</td>\n      <td>Corse</td>\n      <td>South</td>\n      <td>19.136800</td>\n      <td>6.378933</td>\n      <td>4.110371</td>\n      <td>1.027593</td>\n      <td>300</td>\n      <td>M10</td>\n      <td>Y2002</td>\n      <td>...</td>\n      <td>23.239950</td>\n      <td>-3.628296</td>\n      <td>4.846105</td>\n      <td>-5.952356</td>\n      <td>4.434856</td>\n      <td>2.671305</td>\n      <td>12.990180</td>\n      <td>-2.253829</td>\n      <td>8.903031</td>\n      <td>1.547058</td>\n    </tr>\n    <tr>\n      <th>9983</th>\n      <td>1403</td>\n      <td>Bretagne</td>\n      <td>West</td>\n      <td>17.344710</td>\n      <td>5.781570</td>\n      <td>4.636934</td>\n      <td>1.159234</td>\n      <td>275</td>\n      <td>M10</td>\n      <td>Y2006</td>\n      <td>...</td>\n      <td>-0.522853</td>\n      <td>2.046500</td>\n      <td>10.145520</td>\n      <td>1.304277</td>\n      <td>14.880560</td>\n      <td>-2.110892</td>\n      <td>3.678541</td>\n      <td>-8.253337</td>\n      <td>3.761863</td>\n      <td>-7.430625</td>\n    </tr>\n    <tr>\n      <th>9984</th>\n      <td>1658</td>\n      <td>Occitanie</td>\n      <td>South</td>\n      <td>15.439540</td>\n      <td>5.146512</td>\n      <td>4.373815</td>\n      <td>1.093454</td>\n      <td>275</td>\n      <td>M11</td>\n      <td>Y2010</td>\n      <td>...</td>\n      <td>22.357820</td>\n      <td>10.125750</td>\n      <td>31.752410</td>\n      <td>31.435670</td>\n      <td>18.536720</td>\n      <td>26.411980</td>\n      <td>18.616080</td>\n      <td>27.385330</td>\n      <td>14.237220</td>\n      <td>21.858460</td>\n    </tr>\n    <tr>\n      <th>9985</th>\n      <td>1356</td>\n      <td>Auvergne_Rhone_Alpes</td>\n      <td>South</td>\n      <td>16.423710</td>\n      <td>5.474571</td>\n      <td>4.216602</td>\n      <td>1.054151</td>\n      <td>250</td>\n      <td>M12</td>\n      <td>Y2014</td>\n      <td>...</td>\n      <td>17.280200</td>\n      <td>12.380520</td>\n      <td>16.772680</td>\n      <td>14.865900</td>\n      <td>13.981990</td>\n      <td>13.990580</td>\n      <td>16.403220</td>\n      <td>10.735210</td>\n      <td>21.383320</td>\n      <td>5.639479</td>\n    </tr>\n    <tr>\n      <th>9986</th>\n      <td>1085</td>\n      <td>Martinique</td>\n      <td>West</td>\n      <td>21.443150</td>\n      <td>7.147717</td>\n      <td>4.309390</td>\n      <td>1.077348</td>\n      <td>250</td>\n      <td>M12</td>\n      <td>Y2018</td>\n      <td>...</td>\n      <td>17.157690</td>\n      <td>5.768514</td>\n      <td>12.988310</td>\n      <td>13.866500</td>\n      <td>4.523508</td>\n      <td>5.832133</td>\n      <td>12.549180</td>\n      <td>9.473954</td>\n      <td>21.239740</td>\n      <td>12.169840</td>\n    </tr>\n    <tr>\n      <th>9987</th>\n      <td>1492</td>\n      <td>Reunion</td>\n      <td>South</td>\n      <td>9.862797</td>\n      <td>3.287599</td>\n      <td>4.993187</td>\n      <td>1.248297</td>\n      <td>200</td>\n      <td>M1</td>\n      <td>Y2004</td>\n      <td>...</td>\n      <td>17.003070</td>\n      <td>30.042140</td>\n      <td>22.743800</td>\n      <td>26.936470</td>\n      <td>32.215270</td>\n      <td>31.342690</td>\n      <td>20.973300</td>\n      <td>31.622900</td>\n      <td>31.551260</td>\n      <td>28.651400</td>\n    </tr>\n    <tr>\n      <th>9988</th>\n      <td>1927</td>\n      <td>Marseille</td>\n      <td>South</td>\n      <td>15.011230</td>\n      <td>5.003745</td>\n      <td>4.744965</td>\n      <td>1.186241</td>\n      <td>200</td>\n      <td>M2</td>\n      <td>Y2008</td>\n      <td>...</td>\n      <td>11.590350</td>\n      <td>6.840617</td>\n      <td>5.355579</td>\n      <td>5.685586</td>\n      <td>14.680490</td>\n      <td>4.276270</td>\n      <td>14.949110</td>\n      <td>3.665394</td>\n      <td>12.316680</td>\n      <td>3.536396</td>\n    </tr>\n    <tr>\n      <th>9989</th>\n      <td>1812</td>\n      <td>Ile_de_France</td>\n      <td>MidWest</td>\n      <td>14.169300</td>\n      <td>4.723099</td>\n      <td>4.587753</td>\n      <td>1.146938</td>\n      <td>300</td>\n      <td>M2</td>\n      <td>Y2012</td>\n      <td>...</td>\n      <td>16.894550</td>\n      <td>13.412150</td>\n      <td>30.690130</td>\n      <td>-0.982848</td>\n      <td>24.485120</td>\n      <td>13.296410</td>\n      <td>21.468180</td>\n      <td>18.697260</td>\n      <td>15.153240</td>\n      <td>18.769910</td>\n    </tr>\n    <tr>\n      <th>9990</th>\n      <td>1497</td>\n      <td>Normandie</td>\n      <td>MidWest</td>\n      <td>14.132170</td>\n      <td>4.710724</td>\n      <td>4.930540</td>\n      <td>1.232635</td>\n      <td>300</td>\n      <td>M3</td>\n      <td>Y2016</td>\n      <td>...</td>\n      <td>5.341360</td>\n      <td>4.111949</td>\n      <td>10.773190</td>\n      <td>8.901446</td>\n      <td>3.646289</td>\n      <td>6.165061</td>\n      <td>17.118790</td>\n      <td>4.793648</td>\n      <td>10.450290</td>\n      <td>11.684090</td>\n    </tr>\n    <tr>\n      <th>9991</th>\n      <td>1602</td>\n      <td>Paris</td>\n      <td>MidWest</td>\n      <td>14.686610</td>\n      <td>4.895538</td>\n      <td>4.599441</td>\n      <td>1.149860</td>\n      <td>275</td>\n      <td>M4</td>\n      <td>Y2001</td>\n      <td>...</td>\n      <td>6.654244</td>\n      <td>0.681211</td>\n      <td>3.647257</td>\n      <td>-0.296378</td>\n      <td>6.757966</td>\n      <td>2.751256</td>\n      <td>6.292922</td>\n      <td>5.366357</td>\n      <td>7.099433</td>\n      <td>2.950852</td>\n    </tr>\n    <tr>\n      <th>9992</th>\n      <td>1410</td>\n      <td>Corse</td>\n      <td>South</td>\n      <td>18.875890</td>\n      <td>6.291962</td>\n      <td>4.626004</td>\n      <td>1.156501</td>\n      <td>275</td>\n      <td>M4</td>\n      <td>Y2005</td>\n      <td>...</td>\n      <td>27.399390</td>\n      <td>15.043290</td>\n      <td>18.402350</td>\n      <td>9.509401</td>\n      <td>20.459500</td>\n      <td>11.694070</td>\n      <td>18.434760</td>\n      <td>10.099500</td>\n      <td>25.553640</td>\n      <td>9.181715</td>\n    </tr>\n    <tr>\n      <th>9993</th>\n      <td>1273</td>\n      <td>Bretagne</td>\n      <td>West</td>\n      <td>19.921120</td>\n      <td>6.640374</td>\n      <td>4.208903</td>\n      <td>1.052226</td>\n      <td>250</td>\n      <td>M5</td>\n      <td>Y2009</td>\n      <td>...</td>\n      <td>2.364400</td>\n      <td>13.146760</td>\n      <td>4.162827</td>\n      <td>10.912210</td>\n      <td>12.043420</td>\n      <td>12.445090</td>\n      <td>15.941820</td>\n      <td>14.870040</td>\n      <td>4.465809</td>\n      <td>10.821670</td>\n    </tr>\n    <tr>\n      <th>9994</th>\n      <td>1478</td>\n      <td>Occitanie</td>\n      <td>South</td>\n      <td>13.642730</td>\n      <td>4.547576</td>\n      <td>4.551690</td>\n      <td>1.137923</td>\n      <td>250</td>\n      <td>M6</td>\n      <td>Y2013</td>\n      <td>...</td>\n      <td>15.925570</td>\n      <td>19.007050</td>\n      <td>27.103080</td>\n      <td>23.869190</td>\n      <td>15.786170</td>\n      <td>24.226480</td>\n      <td>13.755840</td>\n      <td>19.116680</td>\n      <td>16.600400</td>\n      <td>16.191180</td>\n    </tr>\n    <tr>\n      <th>9995</th>\n      <td>1774</td>\n      <td>Provence_Alpes_Cote_d_Azure</td>\n      <td>South</td>\n      <td>19.722640</td>\n      <td>6.574214</td>\n      <td>4.394478</td>\n      <td>1.098619</td>\n      <td>200</td>\n      <td>M6</td>\n      <td>Y2017</td>\n      <td>...</td>\n      <td>33.689770</td>\n      <td>14.716640</td>\n      <td>19.794820</td>\n      <td>20.966630</td>\n      <td>20.486930</td>\n      <td>24.942620</td>\n      <td>28.590580</td>\n      <td>22.982010</td>\n      <td>21.230130</td>\n      <td>23.120810</td>\n    </tr>\n    <tr>\n      <th>9996</th>\n      <td>1078</td>\n      <td>Martinique</td>\n      <td>West</td>\n      <td>22.003320</td>\n      <td>7.334442</td>\n      <td>4.232257</td>\n      <td>1.058064</td>\n      <td>200</td>\n      <td>M7</td>\n      <td>Y2002</td>\n      <td>...</td>\n      <td>11.976990</td>\n      <td>19.494010</td>\n      <td>14.296590</td>\n      <td>20.887060</td>\n      <td>21.960480</td>\n      <td>23.866730</td>\n      <td>15.518700</td>\n      <td>22.327410</td>\n      <td>25.118430</td>\n      <td>17.900190</td>\n    </tr>\n    <tr>\n      <th>9997</th>\n      <td>778</td>\n      <td>Reunion</td>\n      <td>South</td>\n      <td>11.607290</td>\n      <td>3.869097</td>\n      <td>4.758821</td>\n      <td>1.189705</td>\n      <td>300</td>\n      <td>M8</td>\n      <td>Y2006</td>\n      <td>...</td>\n      <td>22.362340</td>\n      <td>20.986320</td>\n      <td>23.823440</td>\n      <td>24.835710</td>\n      <td>20.677540</td>\n      <td>19.468390</td>\n      <td>25.733030</td>\n      <td>18.123240</td>\n      <td>20.128850</td>\n      <td>25.896020</td>\n    </tr>\n    <tr>\n      <th>9998</th>\n      <td>1772</td>\n      <td>Marseille</td>\n      <td>South</td>\n      <td>13.123060</td>\n      <td>4.374355</td>\n      <td>4.922841</td>\n      <td>1.230710</td>\n      <td>300</td>\n      <td>M8</td>\n      <td>Y2010</td>\n      <td>...</td>\n      <td>6.414015</td>\n      <td>6.227712</td>\n      <td>10.510530</td>\n      <td>5.051135</td>\n      <td>4.304516</td>\n      <td>2.131638</td>\n      <td>11.710170</td>\n      <td>1.592314</td>\n      <td>4.341129</td>\n      <td>3.215770</td>\n    </tr>\n    <tr>\n      <th>9999</th>\n      <td>455</td>\n      <td>Ile_de_France</td>\n      <td>MidWest</td>\n      <td>14.831300</td>\n      <td>4.943765</td>\n      <td>4.015628</td>\n      <td>1.003907</td>\n      <td>275</td>\n      <td>M9</td>\n      <td>Y2014</td>\n      <td>...</td>\n      <td>-1.455170</td>\n      <td>-10.729900</td>\n      <td>0.534672</td>\n      <td>-1.923601</td>\n      <td>-2.739188</td>\n      <td>-1.856028</td>\n      <td>-2.581516</td>\n      <td>-7.807639</td>\n      <td>8.136984</td>\n      <td>-5.292151</td>\n    </tr>\n  </tbody>\n</table>\n<p>10000 rows × 74 columns</p>\n</div>",
            "text/plain": "      Survival_In_Days                     Province     Region  \\\n0     1283              Bretagne                     West        \n1     1427              Occitanie                    South       \n2     1436              Auvergne_Rhone_Alpes         South       \n3     894               Martinique                   West        \n4     1539              Reunion                      South       \n5     1872              Marseille                    South       \n6     151               Ile_de_France                MidWest     \n7     1975              Normandie                    MidWest     \n8     1957              Paris                        MidWest     \n9     1150              Corse                        South       \n10    149               Bretagne                     West        \n11    1746              Occitanie                    South       \n12    1264              Provence_Alpes_Cote_d_Azure  South       \n13    1239              Martinique                   West        \n14    746               Reunion                      South       \n15    2169              Marseille                    South       \n16    364               Ile_de_France                MidWest     \n17    1077              Normandie                    MidWest     \n18    1671              Paris                        MidWest     \n19    1517              Hauts_de_France              Northeast   \n20    903               Bretagne                     West        \n21    1525              Occitanie                    South       \n22    1679              Provence_Alpes_Cote_d_Azure  South       \n23    1292              Martinique                   West        \n24    1949              Reunion                      South       \n25    1441              Marseille                    South       \n26    458               Mayotte                      South       \n27    1583              Normandie                    MidWest     \n28    1257              Paris                        MidWest     \n29    1873              Hauts_de_France              Northeast   \n...    ...                          ...                    ...   \n9970  1277              Normandie                    MidWest     \n9971  886               Guadeloupe                   West        \n9972  1077              Corse                        South       \n9973  1520              Bretagne                     West        \n9974  1348              French_Guiana                South       \n9975  1848              Auvergne_Rhone_Alpes         South       \n9976  1176              Martinique                   West        \n9977  638               Reunion                      South       \n9978  1685              Grand_Est                    Northeast   \n9979  320               Ile_de_France                MidWest     \n9980  1129              Normandie                    MidWest     \n9981  1642              Paris                        MidWest     \n9982  1672              Corse                        South       \n9983  1403              Bretagne                     West        \n9984  1658              Occitanie                    South       \n9985  1356              Auvergne_Rhone_Alpes         South       \n9986  1085              Martinique                   West        \n9987  1492              Reunion                      South       \n9988  1927              Marseille                    South       \n9989  1812              Ile_de_France                MidWest     \n9990  1497              Normandie                    MidWest     \n9991  1602              Paris                        MidWest     \n9992  1410              Corse                        South       \n9993  1273              Bretagne                     West        \n9994  1478              Occitanie                    South       \n9995  1774              Provence_Alpes_Cote_d_Azure  South       \n9996  1078              Martinique                   West        \n9997  778               Reunion                      South       \n9998  1772              Marseille                    South       \n9999  455               Ile_de_France                MidWest     \n\n      Trip_Length_Mean  Trip_Length_Sigma  Trips_Per_Day_Mean  \\\n0     18.103250         6.034416           4.733162             \n1     14.637070         4.879023           4.325950             \n2     14.505640         4.835215           4.418737             \n3     20.850520         6.950172           4.284968             \n4     11.579590         3.859862           4.561532             \n5     14.070980         4.690325           4.697100             \n6     13.388510         4.462836           4.539887             \n7     16.718670         5.572891           4.641222             \n8     12.280450         4.093483           4.417785             \n9     19.615720         6.538573           4.318250             \n10    24.916970         8.305656           4.161037             \n11    12.852860         4.284285           4.503825             \n12    14.431230         4.810409           4.774038             \n13    24.370290         8.123428           4.050601             \n14    12.364850         4.121616           4.532187             \n15    16.547490         5.515829           4.874975             \n16    11.728880         3.909626           4.717763             \n17    19.482960         6.494321           4.406855             \n18    12.264820         4.088274           4.933418             \n19    10.623340         3.541114           4.496125             \n20    22.010440         7.336814           4.338913             \n21    16.301340         5.433779           4.013108             \n22    16.955670         5.651891           4.539671             \n23    20.747130         6.915709           4.617275             \n24    10.815900         3.605300           4.710063             \n25    17.208020         5.736008           4.302850             \n26    15.308710         5.102904           4.895925             \n27    17.165870         5.721958           4.172488             \n28    13.377550         4.459182           4.581213             \n29    12.361060         4.120353           4.674001             \n...         ...              ...                ...             \n9970  18.304630         6.101542           4.574790             \n9971  14.396270         4.798757           4.667577             \n9972  21.538110         7.179371           4.344738             \n9973  19.909750         6.636582           4.871301             \n9974  17.962720         5.987572           4.945940             \n9975  18.794020         6.264673           4.038727             \n9976  24.295930         8.098641           4.131515             \n9977  13.303050         4.434351           4.477554             \n9978  14.856240         4.952081           4.504117             \n9979  12.022650         4.007552           4.409877             \n9980  16.140320         5.380106           4.752665             \n9981  13.279500         4.426501           4.845452             \n9982  19.136800         6.378933           4.110371             \n9983  17.344710         5.781570           4.636934             \n9984  15.439540         5.146512           4.373815             \n9985  16.423710         5.474571           4.216602             \n9986  21.443150         7.147717           4.309390             \n9987  9.862797          3.287599           4.993187             \n9988  15.011230         5.003745           4.744965             \n9989  14.169300         4.723099           4.587753             \n9990  14.132170         4.710724           4.930540             \n9991  14.686610         4.895538           4.599441             \n9992  18.875890         6.291962           4.626004             \n9993  19.921120         6.640374           4.208903             \n9994  13.642730         4.547576           4.551690             \n9995  19.722640         6.574214           4.394478             \n9996  22.003320         7.334442           4.232257             \n9997  11.607290         3.869097           4.758821             \n9998  13.123060         4.374355           4.922841             \n9999  14.831300         4.943765           4.015628             \n\n      Trips_Per_Day_Sigma  Battery_Rated_Cycles Manufacture_Month  \\\n0     1.183291             275                   M8                 \n1     1.081487             250                   M8                 \n2     1.104684             250                   M9                 \n3     1.071242             200                   M10                \n4     1.140383             200                   M10                \n5     1.174275             300                   M11                \n6     1.134972             300                   M12                \n7     1.160305             275                   M12                \n8     1.104446             275                   M1                 \n9     1.079563             250                   M2                 \n10    1.040259             250                   M2                 \n11    1.125956             200                   M3                 \n12    1.193510             200                   M4                 \n13    1.012650             300                   M4                 \n14    1.133047             300                   M5                 \n15    1.218744             275                   M6                 \n16    1.179441             275                   M6                 \n17    1.101714             250                   M7                 \n18    1.233355             250                   M8                 \n19    1.124031             200                   M8                 \n20    1.084728             200                   M9                 \n21    1.003277             300                   M10                \n22    1.134918             300                   M10                \n23    1.154319             275                   M11                \n24    1.177516             275                   M12                \n25    1.075713             250                   M12                \n26    1.223981             250                   M1                 \n27    1.043122             200                   M2                 \n28    1.145303             200                   M2                 \n29    1.168500             300                   M3                 \n...        ...             ...                   ..                 \n9970  1.143697             250                   M2                 \n9971  1.166894             200                   M2                 \n9972  1.086184             200                   M3                 \n9973  1.217825             300                   M4                 \n9974  1.236485             300                   M4                 \n9975  1.009682             275                   M5                 \n9976  1.032879             275                   M6                 \n9977  1.119389             250                   M6                 \n9978  1.126029             250                   M7                 \n9979  1.102469             200                   M8                 \n9980  1.188166             200                   M8                 \n9981  1.211363             300                   M9                 \n9982  1.027593             300                   M10                \n9983  1.159234             275                   M10                \n9984  1.093454             275                   M11                \n9985  1.054151             250                   M12                \n9986  1.077348             250                   M12                \n9987  1.248297             200                   M1                 \n9988  1.186241             200                   M2                 \n9989  1.146938             300                   M2                 \n9990  1.232635             300                   M3                 \n9991  1.149860             275                   M4                 \n9992  1.156501             275                   M4                 \n9993  1.052226             250                   M5                 \n9994  1.137923             250                   M6                 \n9995  1.098619             200                   M6                 \n9996  1.058064             200                   M7                 \n9997  1.189705             300                   M8                 \n9998  1.230710             300                   M8                 \n9999  1.003907             275                   M9                 \n\n     Manufacture_Year        ...          Sensor_Reading_52  \\\n0     Y2010                  ...          16.418910           \n1     Y2014                  ...          14.703280           \n2     Y2018                  ...          22.389700           \n3     Y2003                  ...          2.794836            \n4     Y2007                  ...          26.631860           \n5     Y2011                  ...          11.889280           \n6     Y2015                  ...         -13.361990           \n7     Y2000                  ...          21.916700           \n8     Y2005                  ...         -10.007310           \n9     Y2009                  ...          17.566970           \n10    Y2013                  ...         -6.932360            \n11    Y2017                  ...          10.254080           \n12    Y2002                  ...          14.444300           \n13    Y2006                  ...          7.229444            \n14    Y2010                  ...          20.472520           \n15    Y2014                  ...          11.540520           \n16    Y2018                  ...         -6.833370            \n17    Y2003                  ...          14.273850           \n18    Y2007                  ...         -10.412110           \n19    Y2011                  ...          10.502870           \n20    Y2015                  ...          12.888770           \n21    Y2000                  ...          30.473630           \n22    Y2004                  ...          5.086161            \n23    Y2008                  ...          25.979550           \n24    Y2012                  ...          20.773540           \n25    Y2016                  ...          23.420560           \n26    Y2002                  ...          11.656110           \n27    Y2006                  ...          7.370931            \n28    Y2010                  ...          4.673491            \n29    Y2014                  ...          4.297332            \n...     ...                  ...               ...            \n9970  Y2011                  ...         -2.196218            \n9971  Y2015                  ...          28.255720           \n9972  Y2000                  ...          11.243730           \n9973  Y2004                  ...          34.961320           \n9974  Y2008                  ...          17.703330           \n9975  Y2012                  ...          16.106730           \n9976  Y2016                  ...          4.850707            \n9977  Y2001                  ...          26.215230           \n9978  Y2005                  ...          6.075971            \n9979  Y2009                  ...         -10.274050           \n9980  Y2013                  ...         -1.501855            \n9981  Y2017                  ...         -4.258152            \n9982  Y2002                  ...          23.239950           \n9983  Y2006                  ...         -0.522853            \n9984  Y2010                  ...          22.357820           \n9985  Y2014                  ...          17.280200           \n9986  Y2018                  ...          17.157690           \n9987  Y2004                  ...          17.003070           \n9988  Y2008                  ...          11.590350           \n9989  Y2012                  ...          16.894550           \n9990  Y2016                  ...          5.341360            \n9991  Y2001                  ...          6.654244            \n9992  Y2005                  ...          27.399390           \n9993  Y2009                  ...          2.364400            \n9994  Y2013                  ...          15.925570           \n9995  Y2017                  ...          33.689770           \n9996  Y2002                  ...          11.976990           \n9997  Y2006                  ...          22.362340           \n9998  Y2010                  ...          6.414015            \n9999  Y2014                  ...         -1.455170            \n\n      Sensor_Reading_53  Sensor_Reading_54  Sensor_Reading_55  \\\n0     17.441310          24.718290          11.812310           \n1     16.154500          27.789550          22.292230           \n2     21.834420          28.743260          26.313940           \n3     13.993500          15.524580          6.298875            \n4     26.116980          18.011900          25.257760           \n5     7.358676           10.700270          8.218617            \n6     12.716510         -25.999620         -0.855164            \n7     14.228060          11.378330         -0.157791            \n8     5.053398          -12.770300          4.404034            \n9     0.334354           11.381730         -9.591447            \n10    0.007320          -0.492777          -0.714310            \n11    18.141830          23.950590          16.175580           \n12    8.243447           21.876330          12.666400           \n13    6.563443           12.312110          7.645869            \n14    30.492680          21.073880          23.888390           \n15    8.953282           13.495490          4.300830            \n16   -0.182213          -18.496610          4.715509            \n17   -0.128747           17.020360          13.769360           \n18    0.555968          -11.970890          7.323382            \n19    5.179905           10.843530          2.083185            \n20    29.389390          23.977590          28.729650           \n21    16.180800          12.860740          23.589720           \n22    12.654480          16.376580          7.495133            \n23    12.735090          15.480450          18.522030           \n24    21.127410          18.855140          23.365690           \n25    14.956630          18.467700          22.623480           \n26    11.345850          23.522850          15.074630           \n27    6.573709           16.121060          0.088802            \n28    3.920236           17.825720          13.696380           \n29   -4.270019           6.886309           1.102598            \n...        ...                ...                ...            \n9970 -5.515635          -2.727047          -4.016354            \n9971  21.557870          20.734420          28.871260           \n9972  28.435250          29.793850          25.761680           \n9973  25.748810          19.609730          22.671340           \n9974  8.639534           18.552410          10.964820           \n9975  0.110176           23.089270          11.392460           \n9976 -1.875775           3.837338          -11.487730           \n9977  27.149930          19.431710          20.939820           \n9978 -6.314934           12.398750         -3.085154            \n9979  2.455538          -5.589591           10.970680           \n9980 -1.585188           5.649719           1.899826            \n9981  0.808393          -5.816938           7.575808            \n9982 -3.628296           4.846105          -5.952356            \n9983  2.046500           10.145520          1.304277            \n9984  10.125750          31.752410          31.435670           \n9985  12.380520          16.772680          14.865900           \n9986  5.768514           12.988310          13.866500           \n9987  30.042140          22.743800          26.936470           \n9988  6.840617           5.355579           5.685586            \n9989  13.412150          30.690130         -0.982848            \n9990  4.111949           10.773190          8.901446            \n9991  0.681211           3.647257          -0.296378            \n9992  15.043290          18.402350          9.509401            \n9993  13.146760          4.162827           10.912210           \n9994  19.007050          27.103080          23.869190           \n9995  14.716640          19.794820          20.966630           \n9996  19.494010          14.296590          20.887060           \n9997  20.986320          23.823440          24.835710           \n9998  6.227712           10.510530          5.051135            \n9999 -10.729900          0.534672          -1.923601            \n\n      Sensor_Reading_56  Sensor_Reading_57  Sensor_Reading_58  \\\n0     19.437210          15.079740          16.982440           \n1     29.158610          21.739530          23.830780           \n2     15.589060          15.317560          19.613730           \n3     11.355190          14.396860          2.890394            \n4     25.320780          26.894640          18.863220           \n5     13.397930          2.973648           11.031080           \n6    -19.726040          5.154581          -9.921854            \n7     13.303480          7.164655           10.716000           \n8    -8.639040           3.357793          -12.641930           \n9     9.592852          -2.911261           8.209939            \n10   -4.919555           6.558564          -2.828514            \n11    19.434370          18.678130          9.588974            \n12    8.785370           15.503560          7.382834            \n13    6.828046           5.190016           10.845010           \n14    27.703130          30.132040          23.278500           \n15    8.398269           7.916168           18.099120           \n16   -7.155890          -0.909295          -1.367549            \n17    13.067900          23.692400          15.479380           \n18   -3.883451           6.024005          -5.313944            \n19    16.138470          4.552175           11.162690           \n20    17.838230          17.831230          16.978750           \n21    15.331230          23.489290          30.830430           \n22    11.233960          2.168833           15.095640           \n23    26.785230          16.898010          31.431440           \n24    20.094810          27.497790          10.526370           \n25    19.871610          22.546130          30.508560           \n26    12.055700          16.988680          14.239940           \n27    5.874234           2.831344           8.731074            \n28    10.929100          10.377020          5.767171            \n29    9.397734          -1.496837           6.390350            \n...        ...                ...                ...            \n9970 -2.262966          -4.952300          -4.266172            \n9971  23.523420          30.385400          20.126180           \n9972  22.070760          28.778200          18.787360           \n9973  24.754280          24.997600          38.855770           \n9974  8.835272           10.562770          15.995760           \n9975  14.614010          14.231120          27.680560           \n9976  7.816706           2.894628           3.210212            \n9977  20.892810          24.789210          17.746910           \n9978  0.988894          -2.154470           1.199917            \n9979 -2.483138           2.897800          -6.300704            \n9980  3.695661          -2.397912          -0.743670            \n9981  2.270507           6.276431           0.840013            \n9982  4.434856           2.671305           12.990180           \n9983  14.880560         -2.110892           3.678541            \n9984  18.536720          26.411980          18.616080           \n9985  13.981990          13.990580          16.403220           \n9986  4.523508           5.832133           12.549180           \n9987  32.215270          31.342690          20.973300           \n9988  14.680490          4.276270           14.949110           \n9989  24.485120          13.296410          21.468180           \n9990  3.646289           6.165061           17.118790           \n9991  6.757966           2.751256           6.292922            \n9992  20.459500          11.694070          18.434760           \n9993  12.043420          12.445090          15.941820           \n9994  15.786170          24.226480          13.755840           \n9995  20.486930          24.942620          28.590580           \n9996  21.960480          23.866730          15.518700           \n9997  20.677540          19.468390          25.733030           \n9998  4.304516           2.131638           11.710170           \n9999 -2.739188          -1.856028          -2.581516            \n\n      Sensor_Reading_59  Sensor_Reading_60  Sensor_Reading_61  \n0     18.893610          13.590000          14.510940          \n1     19.480210          10.264120          18.009700          \n2     28.397800          19.807990          15.425770          \n3     6.362495           10.916070          10.004320          \n4     25.744930          24.027720          23.657220          \n5     3.532511           12.841720          8.153067           \n6    -0.260530          -20.260940          6.349902           \n7     4.709601           19.316740         -0.762613           \n8    -0.040223          -11.433320          4.471225           \n9    -2.191684           12.873960         -3.348420           \n10    3.843769          -4.377323          -0.957316           \n11    16.439920          18.886770          15.012810          \n12    17.055410          10.713060          13.794670          \n13   -0.814936           22.615180          5.746221           \n14    25.129150          22.071470          31.561330          \n15    8.535737           15.810000          10.980920          \n16    0.579500          -6.614996           2.315807           \n17    5.538088           26.368280          16.317830          \n18    0.991649          -13.887620          3.066116           \n19   -1.502144           9.524881           3.883871           \n20    30.625160          26.645550          22.991550          \n21    23.850880          19.313410          22.020610          \n22    7.518519           18.825820          7.771949           \n23    16.579950          28.857970          21.001650          \n24    27.638840          20.820590          24.639210          \n25    14.853230          31.020990          2.734566           \n26    5.037287           17.419600          13.420180          \n27    0.076872           13.493280          2.122270           \n28    13.753510          6.441654           7.811501           \n29    2.221687           10.044520          0.365515           \n...        ...                 ...               ...           \n9970 -8.887016          -0.248837          -11.034920          \n9971  26.841620          31.012230          22.235170          \n9972  21.649710          31.205050          29.246330          \n9973  13.367450          15.209890          13.753590          \n9974  8.590507           12.867630          13.854610          \n9975  2.135936           27.652210          7.110587           \n9976 -4.733469           4.940041          -3.425428           \n9977  19.421890          22.802400          18.076750          \n9978 -5.276217           6.517824          -7.873030           \n9979  4.854384          -4.379039           4.795531           \n9980 -4.280870          -0.553439          -0.903793           \n9981  1.244074          -7.733659           3.318541           \n9982 -2.253829           8.903031           1.547058           \n9983 -8.253337           3.761863          -7.430625           \n9984  27.385330          14.237220          21.858460          \n9985  10.735210          21.383320          5.639479           \n9986  9.473954           21.239740          12.169840          \n9987  31.622900          31.551260          28.651400          \n9988  3.665394           12.316680          3.536396           \n9989  18.697260          15.153240          18.769910          \n9990  4.793648           10.450290          11.684090          \n9991  5.366357           7.099433           2.950852           \n9992  10.099500          25.553640          9.181715           \n9993  14.870040          4.465809           10.821670          \n9994  19.116680          16.600400          16.191180          \n9995  22.982010          21.230130          23.120810          \n9996  22.327410          25.118430          17.900190          \n9997  18.123240          20.128850          25.896020          \n9998  1.592314           4.341129           3.215770           \n9999 -7.807639           8.136984          -5.292151           \n\n[10000 rows x 74 columns]"
          },
          "metadata": {}
        }
      ]
    },
    {
      "metadata": {},
      "cell_type": "markdown",
      "source": "## Remotely train multiple models using Auto ML and Azure ML Compute"
    },
    {
      "metadata": {},
      "cell_type": "markdown",
      "source": "In the following cells, you will *not* train the model against the data you just downloaded using the resources provided by Azure Notebooks. Instead, you will deploy an Azure ML Compute cluster that will download the data and use Auto ML to train multiple models, evaluate the performance and allow you to retrieve the best model that was trained. In other words, all of the training will be performed remotely with respect to this notebook. \n\n\nAs you will see this is almost entirely done thru configuration, with very little code required. "
    },
    {
      "metadata": {},
      "cell_type": "markdown",
      "source": "### Create the data loading script for remote compute"
    },
    {
      "metadata": {},
      "cell_type": "markdown",
      "source": "The Azure Machine Learning Compute cluster needs to know how to get the data to train against. You can package this logic in a script that will be executed by the compute when it starts executing the training.\n\nRun the following cells to locally create the **get_data.py** script that will be deployed to remote compute. You will also use this script when you want train the model locally. \n\nObserve that the get_data method returns the features (`X`) and the labels (`Y`) in an object. This structure is expected later when you will configure Auto ML."
    },
    {
      "metadata": {
        "trusted": true
      },
      "cell_type": "code",
      "source": "# create project folder\nif not os.path.exists(project_folder):\n    os.makedirs(project_folder)",
      "execution_count": 20,
      "outputs": []
    },
    {
      "metadata": {
        "trusted": true
      },
      "cell_type": "code",
      "source": "%%writefile $project_folder/get_data.py\n\nimport pandas as pd\nimport numpy as np\n\ndef get_data():\n    \n    data = pd.read_csv(\"https://databricksdemostore.blob.core.windows.net/data/connected-car/training-formatted.csv\")\n    \n    X = data.iloc[:,1:73]\n    Y = data.iloc[:,0].values.flatten()\n\n    return { \"X\" : X, \"y\" : Y }",
      "execution_count": 21,
      "outputs": [
        {
          "output_type": "stream",
          "text": "Overwriting ./automl-regression/get_data.py\n",
          "name": "stdout"
        }
      ]
    },
    {
      "metadata": {},
      "cell_type": "markdown",
      "source": "### Create AML Compute Cluster"
    },
    {
      "metadata": {},
      "cell_type": "markdown",
      "source": "Now you are ready to create the compute cluster. Run the following cell to create a new compute cluster (or retrieve the existing cluster if it already exists). The code below will create a *CPU based* cluster where each node in the cluster is of the size `STANDARD_D12_V2`, and the cluster will have at most *4* such nodes. "
    },
    {
      "metadata": {
        "trusted": true
      },
      "cell_type": "code",
      "source": "### Create AML CPU based Compute Cluster\nfrom azureml.core.compute import ComputeTarget, AmlCompute\nfrom azureml.core.compute_target import ComputeTargetException\n\ntry:\n    compute_target = ComputeTarget(workspace=ws, name=cluster_name)\n    print('Found existing compute target.')\nexcept ComputeTargetException:\n    print('Creating a new compute target...')\n    compute_config = AmlCompute.provisioning_configuration(vm_size='STANDARD_D12_V2',\n                                                           max_nodes=4)\n\n    # create the cluster\n    compute_target = ComputeTarget.create(ws, cluster_name, compute_config)\n\n    compute_target.wait_for_completion(show_output=True)\n\n# Use the 'status' property to get a detailed status for the current AmlCompute. \nprint(compute_target.status.serialize())",
      "execution_count": 22,
      "outputs": [
        {
          "output_type": "stream",
          "text": "Found existing compute target.\n{'allocationState': 'Steady', 'allocationStateTransitionTime': '2019-03-07T18:20:32.447000+00:00', 'creationTime': '2019-03-07T16:13:20.574361+00:00', 'currentNodeCount': 0, 'errors': None, 'modifiedTime': '2019-03-07T16:14:52.676046+00:00', 'nodeStateCounts': {'idleNodeCount': 0, 'leavingNodeCount': 0, 'preemptedNodeCount': 0, 'preparingNodeCount': 0, 'runningNodeCount': 0, 'unusableNodeCount': 0}, 'provisioningState': 'Succeeded', 'provisioningStateTransitionTime': None, 'scaleSettings': {'minNodeCount': 0, 'maxNodeCount': 4, 'nodeIdleTimeBeforeScaleDown': 'PT120S'}, 'targetNodeCount': 0, 'vmPriority': 'Dedicated', 'vmSize': 'STANDARD_D12_V2'}\n",
          "name": "stdout"
        }
      ]
    },
    {
      "metadata": {},
      "cell_type": "markdown",
      "source": "### Instantiate an Automated ML Config"
    },
    {
      "metadata": {},
      "cell_type": "markdown",
      "source": "Run the following cell to configure the Auto ML run. In short what you are configuring here is the training of a regressor model that will attempt to predict the value of the first feature (`Survival_in_days`) based on all the other features in the data set. The run is configured to try at most 3 iterations where no iteration can run longer that 2 minutes. \n\nAdditionally, the data will be automatically pre-processed in different ways as a part of the automated model training (as indicated by the `preprocess` attribute having a value of `True`. This is a very powerful feature of Auto ML as it tries many best practices approaches for you, and saves you a lot of time and effort in the process.\n\nThe goal of Auto ML in this case is to find the best models that result, as measure by the normalized root mean squared error metric (as indicated by the `primary_metric` attribute). The error is basically a measure of what the model predicts versus what was provided as the \"answer\" in the training data. In short, AutoML will try to get the error as low as possible when trying its combination of approaches.  \n\nThe local path to the script you created to retrieve the data is supplied to the AutoMLConfig, ensuring the file is made available to the remote cluster. The actual execution of this training will occur on the compute cluster you created previously. \n\nIn general, the AutoMLConfig is very flexible, allowing you to specify all of the following:\n- Task type (classification, regression, forecasting)\n- Number of algorithm iterations and maximum time per iteration\n- Accuracy metric to optimize\n- Algorithms to blacklist (skip)/whitelist (include)\n- Number of cross-validations\n- Compute targets\n- Training data\n\nRun the following cell to create the configuration."
    },
    {
      "metadata": {
        "trusted": true
      },
      "cell_type": "code",
      "source": "automl_config = AutoMLConfig(task = 'regression',\n                             iterations = 3,\n                             iteration_timeout_minutes = 2, \n                             max_cores_per_iteration = 10,\n                             preprocess= True,\n                             primary_metric='normalized_root_mean_squared_error',\n                             n_cross_validations = 5,\n                             debug_log = 'automl.log',\n                             verbosity = logging.DEBUG,\n                             data_script = project_folder + \"/get_data.py\",\n                             path = project_folder)",
      "execution_count": 25,
      "outputs": []
    },
    {
      "metadata": {},
      "cell_type": "markdown",
      "source": "## Run locally"
    },
    {
      "metadata": {},
      "cell_type": "markdown",
      "source": "You can run AutomML locally, that is it will use the resource provided by your Azure Notebook environment. \n\nRun the following cell to run the experiment locally. Note this will take **a few minutes** because the local environment is not very fast or powerful (which we will remedy shortly)."
    },
    {
      "metadata": {
        "trusted": true
      },
      "cell_type": "code",
      "source": "local_run = experiment.submit(automl_config, show_output=True)\nlocal_run",
      "execution_count": 26,
      "outputs": [
        {
          "output_type": "stream",
          "text": "Running on local machine\nParent Run ID: AutoML_2b399222-b0d2-4662-90fa-eb0f15384180\n*******************************************************************************************************************\nITERATION: The iteration being evaluated.\nPIPELINE: A summary description of the pipeline being evaluated.\nTRAINFRAC: Fraction of the training data to train on.\nDURATION: Time taken for the current iteration.\nMETRIC: The result of computing score on the fitted pipeline.\nBEST: The best observed score thus far.\n*******************************************************************************************************************\n\n ITERATION   PIPELINE                                       TRAINFRAC  DURATION      METRIC      BEST\n         0   StandardScalerWrapper ElasticNet               1.0000     0:00:59       0.1005    0.1005\n         1   TruncatedSVDWrapper ElasticNet                 1.0000     0:00:32       0.1202    0.1005\n         2   Ensemble                                       1.0000     0:00:22       0.1005    0.1005\n",
          "name": "stdout"
        },
        {
          "output_type": "execute_result",
          "execution_count": 26,
          "data": {
            "text/html": "<table style=\"width:100%\"><tr><th>Experiment</th><th>Id</th><th>Type</th><th>Status</th><th>Details Page</th><th>Docs Page</th></tr><tr><td>automl-regression</td><td>AutoML_2b399222-b0d2-4662-90fa-eb0f15384180</td><td>automl</td><td>Completed</td><td><a href=\"https://mlworkspace.azure.ai/portal/subscriptions/30fc406c-c745-44f0-be2d-63b1c860cde0/resourceGroups/aml-workspace-tech-immersion/providers/Microsoft.MachineLearningServices/workspaces/aml-workspace/experiments/automl-regression/runs/AutoML_2b399222-b0d2-4662-90fa-eb0f15384180\" target=\"_blank\" rel=\"noopener\">Link to Azure Portal</a></td><td><a href=\"https://docs.microsoft.com/en-us/python/api/overview/azure/ml/intro?view=azure-ml-py\" target=\"_blank\" rel=\"noopener\">Link to Documentation</a></td></tr></table>",
            "text/plain": "Run(Experiment: automl-regression,\nId: AutoML_2b399222-b0d2-4662-90fa-eb0f15384180,\nType: automl,\nStatus: Completed)"
          },
          "metadata": {}
        }
      ]
    },
    {
      "metadata": {},
      "cell_type": "markdown",
      "source": "### Run our Experiment on AML Compute"
    },
    {
      "metadata": {},
      "cell_type": "markdown",
      "source": "Let's increase the performance by performing the training the AML Compute cluster. This will remotely train multiple models, evaluate them and allow you review the performance characteristics of each one, as well as to pick the *best model* that was trained and download it. \n\nWe will alter the configuration slightly to perform more iterations. Run the following cell to execute the experiment on the remote compute cluster."
    },
    {
      "metadata": {
        "trusted": true
      },
      "cell_type": "code",
      "source": "automl_config = AutoMLConfig(task = 'regression',\n                             iterations = 4,\n                             iteration_timeout_minutes = 10, \n                             max_cores_per_iteration = 10,\n                             preprocess= True,\n                             primary_metric='normalized_root_mean_squared_error',\n                             n_cross_validations = 5,\n                             debug_log = 'automl.log',\n                             verbosity = logging.DEBUG,\n                             data_script = project_folder + \"/get_data.py\",\n                             compute_target = compute_target,\n                             path = project_folder)\nremote_run = experiment.submit(automl_config, show_output=False)\nremote_run",
      "execution_count": 27,
      "outputs": [
        {
          "output_type": "execute_result",
          "execution_count": 27,
          "data": {
            "text/html": "<table style=\"width:100%\"><tr><th>Experiment</th><th>Id</th><th>Type</th><th>Status</th><th>Details Page</th><th>Docs Page</th></tr><tr><td>automl-regression</td><td>AutoML_c48adbe5-e51d-4564-a99e-ebb6fc1c9929</td><td>automl</td><td>Preparing</td><td><a href=\"https://mlworkspace.azure.ai/portal/subscriptions/30fc406c-c745-44f0-be2d-63b1c860cde0/resourceGroups/aml-workspace-tech-immersion/providers/Microsoft.MachineLearningServices/workspaces/aml-workspace/experiments/automl-regression/runs/AutoML_c48adbe5-e51d-4564-a99e-ebb6fc1c9929\" target=\"_blank\" rel=\"noopener\">Link to Azure Portal</a></td><td><a href=\"https://docs.microsoft.com/en-us/python/api/overview/azure/ml/intro?view=azure-ml-py\" target=\"_blank\" rel=\"noopener\">Link to Documentation</a></td></tr></table>",
            "text/plain": "Run(Experiment: automl-regression,\nId: AutoML_c48adbe5-e51d-4564-a99e-ebb6fc1c9929,\nType: automl,\nStatus: Preparing)"
          },
          "metadata": {}
        }
      ]
    },
    {
      "metadata": {},
      "cell_type": "markdown",
      "source": "Once the above cell completes, the run is starting but will likely have a status of `Preparing` for you. To wait for the run to complete before continuing (and to view the training status updates as they happen), run the following cell:"
    },
    {
      "metadata": {
        "trusted": true
      },
      "cell_type": "code",
      "source": "remote_run.wait_for_completion(show_output=True)",
      "execution_count": 28,
      "outputs": [
        {
          "output_type": "stream",
          "text": "\n*******************************************************************************************************************\nITERATION: The iteration being evaluated.\nPIPELINE: A summary description of the pipeline being evaluated.\nTRAINFRAC: Fraction of the training data to train on.\nDURATION: Time taken for the current iteration.\nMETRIC: The result of computing score on the fitted pipeline.\nBEST: The best observed score thus far.\n*******************************************************************************************************************\n\n ITERATION   PIPELINE                                       TRAINFRAC  DURATION      METRIC      BEST\n         0   StandardScalerWrapper ElasticNet               1          0:01:00       0.1005    0.1005\n         1   TruncatedSVDWrapper ElasticNet                 1          0:00:47       0.1199    0.1005\n         2   StandardScalerWrapper ElasticNet               1          0:01:03       0.1270    0.1005\n         3   StandardScalerWrapper ElasticNet               1          0:00:56       0.0946    0.0946\n         4   StandardScalerWrapper RandomForest             1          0:00:38       0.1186    0.0946\n         5   StandardScalerWrapper LightGBM                 1          0:00:52       0.0600    0.0600\n         6   SparseNormalizer LightGBM                      1          0:00:37       0.0754    0.0600\n         7   SparseNormalizer LightGBM                      1          0:00:36       0.1174    0.0600\n         8   MaxAbsScaler ElasticNet                        1          0:00:58       0.0947    0.0600\n         9    Ensemble                                      1          0:00:56       0.0600    0.0600\n\nExecution Summary\n=================\nRunId: AutoML_c48adbe5-e51d-4564-a99e-ebb6fc1c9929\n\n",
          "name": "stdout"
        },
        {
          "output_type": "execute_result",
          "execution_count": 28,
          "data": {
            "text/plain": "{'runId': 'AutoML_c48adbe5-e51d-4564-a99e-ebb6fc1c9929',\n 'target': 'cpucluster',\n 'status': 'Completed',\n 'startTimeUtc': '2019-03-08T22:47:15.401759Z',\n 'endTimeUtc': '2019-03-08T22:56:34.246012Z',\n 'properties': {'num_iterations': '10',\n  'training_type': 'TrainFull',\n  'acquisition_function': 'EI',\n  'primary_metric': 'normalized_root_mean_squared_error',\n  'train_split': '0',\n  'MaxTimeSeconds': '600',\n  'acquisition_parameter': '0',\n  'num_cross_validation': '5',\n  'target': 'cpucluster',\n  'RawAMLSettingsString': \"{'name': 'automl-regression', 'path': './automl-regression', 'subscription_id': '30fc406c-c745-44f0-be2d-63b1c860cde0', 'resource_group': 'aml-workspace-tech-immersion', 'workspace_name': 'aml-workspace', 'iterations': 10, 'primary_metric': 'normalized_root_mean_squared_error', 'data_script': './automl-regression/get_data.py', 'compute_target': 'cpucluster', 'task_type': 'regression', 'validation_size': 0.0, 'n_cross_validations': 5, 'y_min': None, 'y_max': None, 'num_classes': None, 'preprocess': True, 'lag_length': 0, 'is_timeseries': False, 'max_cores_per_iteration': 10, 'max_concurrent_iterations': 1, 'iteration_timeout_minutes': 10, 'mem_in_mb': None, 'enforce_time_on_windows': False, 'experiment_timeout_minutes': None, 'experiment_exit_score': None, 'whitelist_models': None, 'blacklist_algos': ['KNeighborsClassifier', 'KNeighborsRegressor', 'SVCWrapper', 'kNN', 'kNN regressor', 'SVM'], 'auto_blacklist': True, 'blacklist_samples_reached': True, 'exclude_nan_labels': True, 'verbosity': 10, 'debug_log': 'automl.log', 'show_warnings': False, 'model_explainability': False, 'service_url': None, 'sdk_url': None, 'sdk_packages': None, 'telemetry_verbosity': 'INFO', 'send_telemetry': True, 'spark_service': None, 'metrics': None, 'enable_ensembling': True, 'ensemble_iterations': 10, 'enable_tf': False, 'enable_cache': True, 'enable_subsampling': False, 'subsample_seed': None, 'cost_mode': 0, 'metric_operation': 'minimize'}\",\n  'AMLSettingsJsonString': '{\"name\": \"automl-regression\", \"path\": \"./automl-regression\", \"subscription_id\": \"30fc406c-c745-44f0-be2d-63b1c860cde0\", \"resource_group\": \"aml-workspace-tech-immersion\", \"workspace_name\": \"aml-workspace\", \"iterations\": 10, \"primary_metric\": \"normalized_root_mean_squared_error\", \"data_script\": \"./automl-regression/get_data.py\", \"compute_target\": \"cpucluster\", \"task_type\": \"regression\", \"validation_size\": 0.0, \"n_cross_validations\": 5, \"y_min\": null, \"y_max\": null, \"num_classes\": null, \"preprocess\": true, \"lag_length\": 0, \"is_timeseries\": false, \"max_cores_per_iteration\": 10, \"max_concurrent_iterations\": 1, \"iteration_timeout_minutes\": 10, \"mem_in_mb\": null, \"enforce_time_on_windows\": false, \"experiment_timeout_minutes\": null, \"experiment_exit_score\": null, \"whitelist_models\": null, \"blacklist_algos\": [\"KNeighborsClassifier\", \"KNeighborsRegressor\", \"SVCWrapper\", \"kNN\", \"kNN regressor\", \"SVM\"], \"auto_blacklist\": true, \"blacklist_samples_reached\": true, \"exclude_nan_labels\": true, \"verbosity\": 10, \"debug_log\": \"automl.log\", \"show_warnings\": false, \"model_explainability\": false, \"service_url\": null, \"sdk_url\": null, \"sdk_packages\": null, \"telemetry_verbosity\": \"INFO\", \"send_telemetry\": true, \"spark_service\": null, \"metrics\": null, \"enable_ensembling\": true, \"ensemble_iterations\": 10, \"enable_tf\": false, \"enable_cache\": true, \"enable_subsampling\": false, \"subsample_seed\": null, \"cost_mode\": 0, \"metric_operation\": \"minimize\"}',\n  'DataPrepJsonString': None,\n  'EnableSubsampling': 'False',\n  'runTemplate': 'AutoML',\n  'azureml.runsource': 'automl',\n  'dependencies_versions': '{\"azureml-widgets\": \"1.0.15\", \"azureml-train\": \"1.0.15\", \"azureml-train-restclients-hyperdrive\": \"1.0.15\", \"azureml-train-core\": \"1.0.15\", \"azureml-train-automl\": \"1.0.15\", \"azureml-telemetry\": \"1.0.15\", \"azureml-sdk\": \"1.0.15.1\", \"azureml-pipeline\": \"1.0.15\", \"azureml-pipeline-steps\": \"1.0.15\", \"azureml-pipeline-core\": \"1.0.15\", \"azureml-explain-model\": \"1.0.15\", \"azureml-dataprep\": \"1.0.12\", \"azureml-dataprep-native\": \"11.2.1\", \"azureml-core\": \"1.0.15\"}',\n  'ContentSnapshotId': '13ed0299-a695-4c62-b514-ef344704439c',\n  'snapshotId': '13ed0299-a695-4c62-b514-ef344704439c',\n  'SetupRunId': 'AutoML_c48adbe5-e51d-4564-a99e-ebb6fc1c9929_setup',\n  'ProblemInfoJsonString': '{\"dataset_num_categorical\": 0, \"dataset_classes\": 2243, \"dataset_features\": 125, \"dataset_samples\": 10000, \"is_sparse\": true, \"subsampling\": false}'},\n 'logFiles': {}}"
          },
          "metadata": {}
        }
      ]
    },
    {
      "metadata": {},
      "cell_type": "markdown",
      "source": "### List the Experiments from your Workspace"
    },
    {
      "metadata": {},
      "cell_type": "markdown",
      "source": "Using the Azure Machine Learning SDK, you can retrieve any of the experiments in your Workspace and drill into the details of any runs the experiment contains. Run the following cell to explore the number of runs by experiment name."
    },
    {
      "metadata": {
        "trusted": true
      },
      "cell_type": "code",
      "source": "ws = Workspace.from_config()\nexperiment_list = Experiment.list(workspace=ws)\n\nsummary_df = pd.DataFrame(index = ['No of Runs'])\npattern = re.compile('^AutoML_[^_]*$')\nfor experiment in experiment_list:\n    all_runs = list(experiment.get_runs())\n    automl_runs = []\n    for run in all_runs:\n        if(pattern.match(run.id)):\n            automl_runs.append(run)    \n    summary_df[experiment.name] = [len(automl_runs)]\n    \npd.set_option('display.max_colwidth', -1)\nsummary_df.T",
      "execution_count": 32,
      "outputs": [
        {
          "output_type": "stream",
          "text": "Found the config file in: /home/nbuser/library/aml_config/config.json\n",
          "name": "stdout"
        },
        {
          "output_type": "execute_result",
          "execution_count": 32,
          "data": {
            "text/html": "<div>\n<style scoped>\n    .dataframe tbody tr th:only-of-type {\n        vertical-align: middle;\n    }\n\n    .dataframe tbody tr th {\n        vertical-align: top;\n    }\n\n    .dataframe thead th {\n        text-align: right;\n    }\n</style>\n<table border=\"1\" class=\"dataframe\">\n  <thead>\n    <tr style=\"text-align: right;\">\n      <th></th>\n      <th>No of Runs</th>\n    </tr>\n  </thead>\n  <tbody>\n    <tr>\n      <th>automl-regression</th>\n      <td>6</td>\n    </tr>\n  </tbody>\n</table>\n</div>",
            "text/plain": "                   No of Runs\nautoml-regression  6         "
          },
          "metadata": {}
        }
      ]
    },
    {
      "metadata": {},
      "cell_type": "markdown",
      "source": "### List the Automated ML Runs for the Experiment"
    },
    {
      "metadata": {},
      "cell_type": "markdown",
      "source": "Similarly, you can view all of the runs that ran supporting Auto ML:"
    },
    {
      "metadata": {
        "trusted": true,
        "scrolled": true
      },
      "cell_type": "code",
      "source": "proj = ws.experiments[experiment_name]\nsummary_df = pd.DataFrame(index = ['Type', 'Status', 'Primary Metric', 'Iterations', 'Compute', 'Name'])\npattern = re.compile('^AutoML_[^_]*$')\nall_runs = list(proj.get_runs(properties={'azureml.runsource': 'automl'}))\nfor run in all_runs:\n    if(pattern.match(run.id)):\n        properties = run.get_properties()\n        tags = run.get_tags()\n        amlsettings = eval(properties['RawAMLSettingsString'])\n        if 'iterations' in tags:\n            iterations = tags['iterations']\n        else:\n            iterations = properties['num_iterations']\n        summary_df[run.id] = [amlsettings['task_type'], run.get_details()['status'], properties['primary_metric'], iterations, properties['target'], amlsettings['name']]\n    \nfrom IPython.display import HTML\nprojname_html = HTML(\"<h3>{}</h3>\".format(proj.name))\n\nfrom IPython.display import display\ndisplay(projname_html)\ndisplay(summary_df.T)",
      "execution_count": 33,
      "outputs": [
        {
          "output_type": "display_data",
          "data": {
            "text/html": "<h3>automl-regression</h3>",
            "text/plain": "<IPython.core.display.HTML object>"
          },
          "metadata": {}
        },
        {
          "output_type": "display_data",
          "data": {
            "text/html": "<div>\n<style scoped>\n    .dataframe tbody tr th:only-of-type {\n        vertical-align: middle;\n    }\n\n    .dataframe tbody tr th {\n        vertical-align: top;\n    }\n\n    .dataframe thead th {\n        text-align: right;\n    }\n</style>\n<table border=\"1\" class=\"dataframe\">\n  <thead>\n    <tr style=\"text-align: right;\">\n      <th></th>\n      <th>Type</th>\n      <th>Status</th>\n      <th>Primary Metric</th>\n      <th>Iterations</th>\n      <th>Compute</th>\n      <th>Name</th>\n    </tr>\n  </thead>\n  <tbody>\n    <tr>\n      <th>AutoML_c48adbe5-e51d-4564-a99e-ebb6fc1c9929</th>\n      <td>regression</td>\n      <td>Completed</td>\n      <td>normalized_root_mean_squared_error</td>\n      <td>10</td>\n      <td>cpucluster</td>\n      <td>automl-regression</td>\n    </tr>\n    <tr>\n      <th>AutoML_2b399222-b0d2-4662-90fa-eb0f15384180</th>\n      <td>regression</td>\n      <td>Completed</td>\n      <td>normalized_root_mean_squared_error</td>\n      <td>3</td>\n      <td>local</td>\n      <td>automl-regression</td>\n    </tr>\n    <tr>\n      <th>AutoML_4fde9917-479a-4531-ab0e-b27dea36ea90</th>\n      <td>regression</td>\n      <td>Canceled</td>\n      <td>normalized_root_mean_squared_error</td>\n      <td>10</td>\n      <td>local</td>\n      <td>automl-regression</td>\n    </tr>\n    <tr>\n      <th>AutoML_c68492de-f8c0-4cd0-aafc-0d4acf106943</th>\n      <td>regression</td>\n      <td>Completed</td>\n      <td>normalized_root_mean_squared_error</td>\n      <td>10</td>\n      <td>cpucluster</td>\n      <td>automl-regression</td>\n    </tr>\n    <tr>\n      <th>AutoML_d7ceb6dc-2572-4be3-b284-1712fffd47c2</th>\n      <td>regression</td>\n      <td>Completed</td>\n      <td>normalized_root_mean_squared_error</td>\n      <td>10</td>\n      <td>local</td>\n      <td>automl-regression</td>\n    </tr>\n    <tr>\n      <th>AutoML_f85a80f5-dd65-4a53-881c-f2fad4a2ae22</th>\n      <td>regression</td>\n      <td>Completed</td>\n      <td>normalized_root_mean_squared_error</td>\n      <td>10</td>\n      <td>local</td>\n      <td>automl-regression</td>\n    </tr>\n  </tbody>\n</table>\n</div>",
            "text/plain": "                                                   Type     Status  \\\nAutoML_c48adbe5-e51d-4564-a99e-ebb6fc1c9929  regression  Completed   \nAutoML_2b399222-b0d2-4662-90fa-eb0f15384180  regression  Completed   \nAutoML_4fde9917-479a-4531-ab0e-b27dea36ea90  regression  Canceled    \nAutoML_c68492de-f8c0-4cd0-aafc-0d4acf106943  regression  Completed   \nAutoML_d7ceb6dc-2572-4be3-b284-1712fffd47c2  regression  Completed   \nAutoML_f85a80f5-dd65-4a53-881c-f2fad4a2ae22  regression  Completed   \n\n                                                                 Primary Metric  \\\nAutoML_c48adbe5-e51d-4564-a99e-ebb6fc1c9929  normalized_root_mean_squared_error   \nAutoML_2b399222-b0d2-4662-90fa-eb0f15384180  normalized_root_mean_squared_error   \nAutoML_4fde9917-479a-4531-ab0e-b27dea36ea90  normalized_root_mean_squared_error   \nAutoML_c68492de-f8c0-4cd0-aafc-0d4acf106943  normalized_root_mean_squared_error   \nAutoML_d7ceb6dc-2572-4be3-b284-1712fffd47c2  normalized_root_mean_squared_error   \nAutoML_f85a80f5-dd65-4a53-881c-f2fad4a2ae22  normalized_root_mean_squared_error   \n\n                                            Iterations     Compute  \\\nAutoML_c48adbe5-e51d-4564-a99e-ebb6fc1c9929  10         cpucluster   \nAutoML_2b399222-b0d2-4662-90fa-eb0f15384180  3          local        \nAutoML_4fde9917-479a-4531-ab0e-b27dea36ea90  10         local        \nAutoML_c68492de-f8c0-4cd0-aafc-0d4acf106943  10         cpucluster   \nAutoML_d7ceb6dc-2572-4be3-b284-1712fffd47c2  10         local        \nAutoML_f85a80f5-dd65-4a53-881c-f2fad4a2ae22  10         local        \n\n                                                          Name  \nAutoML_c48adbe5-e51d-4564-a99e-ebb6fc1c9929  automl-regression  \nAutoML_2b399222-b0d2-4662-90fa-eb0f15384180  automl-regression  \nAutoML_4fde9917-479a-4531-ab0e-b27dea36ea90  automl-regression  \nAutoML_c68492de-f8c0-4cd0-aafc-0d4acf106943  automl-regression  \nAutoML_d7ceb6dc-2572-4be3-b284-1712fffd47c2  automl-regression  \nAutoML_f85a80f5-dd65-4a53-881c-f2fad4a2ae22  automl-regression  "
          },
          "metadata": {}
        }
      ]
    },
    {
      "metadata": {},
      "cell_type": "markdown",
      "source": "### Display Automated ML Run Details\nFor a particular run, you can display the details of how th run performed against the performance metric. The Azure Machine Learning SDK includes a built-in widget that graphically summarizes the run. \n\nExecute the following cell to see it."
    },
    {
      "metadata": {
        "trusted": true
      },
      "cell_type": "code",
      "source": "run_id = remote_run.id\n\nfrom azureml.widgets import RunDetails\n\nexperiment = Experiment(ws, experiment_name)\nml_run = AutoMLRun(experiment=experiment, run_id=run_id)\n\nRunDetails(ml_run).show() ",
      "execution_count": 34,
      "outputs": [
        {
          "output_type": "display_data",
          "data": {
            "application/vnd.jupyter.widget-view+json": {
              "model_id": "b03d6fd2ef114c669fbb97091a5ef8ab",
              "version_minor": 0,
              "version_major": 2
            },
            "text/plain": "_AutoMLWidget(widget_settings={'childWidgetDisplay': 'popup', 'send_telemetry': True, 'log_level': 'INFO', 'sd…"
          },
          "metadata": {}
        }
      ]
    },
    {
      "metadata": {},
      "cell_type": "markdown",
      "source": "### Get the best run and the trained model"
    },
    {
      "metadata": {},
      "cell_type": "markdown",
      "source": "At this point you have multiple runs, each with a different trained models. How can you get the model that performed the best? Run the following cells to learn how."
    },
    {
      "metadata": {
        "trusted": true,
        "scrolled": true
      },
      "cell_type": "code",
      "source": "best_run, fitted_model = remote_run.get_output()\nprint(best_run)\nprint(fitted_model)",
      "execution_count": 35,
      "outputs": [
        {
          "output_type": "stream",
          "text": "Run(Experiment: automl-regression,\nId: AutoML_c48adbe5-e51d-4564-a99e-ebb6fc1c9929_9,\nType: azureml.scriptrun,\nStatus: Completed)\nPipeline(memory=None,\n     steps=[('datatransformer', DataTransformer(logger=None, task=None)), ('prefittedsoftvotingregressor', PreFittedSoftVotingRegressor(estimators=[('LightGBM', Pipeline(memory=None,\n     steps=[('standardscalerwrapper', <automl.client.core.common.model_wrappers.StandardScalerWrapper object at 0x7f0b773dd5f8>), ('lightgbmregressor', <automl.client.core.common.model_wrappers.LightGBMRegressor object at 0x7f0b773dd978>)]))],\n               flatten_transform=None, weights=[1.0]))])\n",
          "name": "stdout"
        }
      ]
    },
    {
      "metadata": {},
      "cell_type": "markdown",
      "source": "You can query for the best run when evaluated using a specific metric. "
    },
    {
      "metadata": {
        "trusted": true
      },
      "cell_type": "code",
      "source": "# show run and model by a specific metric\nlookup_metric = \"root_mean_squared_error\"\nbest_run, fitted_model = remote_run.get_output(metric = lookup_metric)\nprint(best_run)\nprint(fitted_model)",
      "execution_count": 36,
      "outputs": [
        {
          "output_type": "stream",
          "text": "Run(Experiment: automl-regression,\nId: AutoML_c48adbe5-e51d-4564-a99e-ebb6fc1c9929_9,\nType: azureml.scriptrun,\nStatus: Completed)\nPipeline(memory=None,\n     steps=[('datatransformer', DataTransformer(logger=None, task=None)), ('prefittedsoftvotingregressor', PreFittedSoftVotingRegressor(estimators=[('LightGBM', Pipeline(memory=None,\n     steps=[('standardscalerwrapper', <automl.client.core.common.model_wrappers.StandardScalerWrapper object at 0x7f0b77e7a8d0>), ('lightgbmregressor', <automl.client.core.common.model_wrappers.LightGBMRegressor object at 0x7f0b77f6ffd0>)]))],\n               flatten_transform=None, weights=[1.0]))])\n",
          "name": "stdout"
        }
      ]
    },
    {
      "metadata": {},
      "cell_type": "markdown",
      "source": "You can retrieve a specific iteration from a run."
    },
    {
      "metadata": {
        "trusted": true
      },
      "cell_type": "code",
      "source": "# show run and model from iteration 3\niteration = 3\nthird_run, third_model = remote_run.get_output(iteration=iteration)\nprint(third_run)\nprint(third_model)",
      "execution_count": 37,
      "outputs": [
        {
          "output_type": "stream",
          "text": "Run(Experiment: automl-regression,\nId: AutoML_c48adbe5-e51d-4564-a99e-ebb6fc1c9929_3,\nType: azureml.scriptrun,\nStatus: Completed)\nPipeline(memory=None,\n     steps=[('datatransformer', DataTransformer(logger=None, task=None)), ('standardscalerwrapper', <automl.client.core.common.model_wrappers.StandardScalerWrapper object at 0x7f0b7725c518>), ('elasticnet', ElasticNet(alpha=0.2113157894736842, copy_X=True, fit_intercept=True,\n      l1_ratio=0.7394736842105263, max_iter=1000, normalize=False,\n      positive=False, precompute=False, random_state=None,\n      selection='cyclic', tol=0.0001, warm_start=False))])\n",
          "name": "stdout"
        }
      ]
    },
    {
      "metadata": {},
      "cell_type": "markdown",
      "source": "At this point you now have a model you could use for predicting the time until battery failure. You would typically use this model in one of two ways:\n- Use the model file within other notebooks to batch score predictions.\n- Deploy the model file as a web service that applications can call. \n\nIn the following, you will explore the latter option to deploy the best model as a web service."
    },
    {
      "metadata": {},
      "cell_type": "markdown",
      "source": "## Download the best model \nWith a run object in hand, it is trivial to download the model. "
    },
    {
      "metadata": {
        "trusted": true
      },
      "cell_type": "code",
      "source": "# fetch the best model\nbest_run.download_file(\"outputs/model.pkl\",\n                       output_file_path = \"./model.pkl\")",
      "execution_count": 38,
      "outputs": []
    },
    {
      "metadata": {},
      "cell_type": "markdown",
      "source": "## Deploy the Model as a Web Service"
    },
    {
      "metadata": {},
      "cell_type": "markdown",
      "source": "Azure Machine Learning provides a Model Registry that acts like a version controlled repository for each of your trained models. To version a model, you use  the SDK as follows. Run the following cell to register the best model with Azure Machine Learning. "
    },
    {
      "metadata": {
        "trusted": true
      },
      "cell_type": "code",
      "source": "# register the model for deployment\nmodel = Model.register(model_path = \"model.pkl\",\n                       model_name = \"model.pkl\",\n                       tags = {'area': \"auto\", 'type': \"regression\"},\n                       description = \"Contoso Auto model to predict battery failure\",\n                       workspace = ws)\n\nprint(model.name, model.description, model.version)",
      "execution_count": 39,
      "outputs": [
        {
          "output_type": "stream",
          "text": "Registering model model.pkl\nmodel.pkl Contoso Auto model to predict battery failure 3\n",
          "name": "stdout"
        }
      ]
    },
    {
      "metadata": {},
      "cell_type": "markdown",
      "source": "Once you have a model added to the registry in this way, you can deploy web services that pull their model directly from this repository when they first start up."
    },
    {
      "metadata": {},
      "cell_type": "markdown",
      "source": "### Create Scoring File"
    },
    {
      "metadata": {},
      "cell_type": "markdown",
      "source": "Azure Machine Learning SDK gives you control over the logic of the web service, so that you can define how it retrieves the model and how the model is used for scoring. This is an important bit of flexibility. For example, you often have to prepare any input data before sending it to your model for scoring. You can define this data preparation logic (as well as the model loading approach) in the scoring file. \n\nRun the following cell to create a scoring file that will be included in the Docker Image that contains your deployed web service."
    },
    {
      "metadata": {
        "trusted": true
      },
      "cell_type": "code",
      "source": "%%writefile score.py\nimport pickle\nimport json\nimport numpy\nimport pandas as pd\nimport azureml.train.automl\nfrom sklearn.externals import joblib\nfrom azureml.core.model import Model\n\ndef init():\n    global model\n    model_path = Model.get_model_path('model.pkl') # this name is model.id of model that we want to deploy\n    # deserialize the model file back into a sklearn model\n    model = joblib.load(model_path)\n\ndef run(rawdata):\n    try:\n        data = pd.read_json(rawdata,orient=\"split\")\n        result = model.predict(data)\n    except Exception as e:\n        result = str(e)\n        return json.dumps({\"error\": result})\n    return json.dumps({\"result\":result.tolist()})",
      "execution_count": 40,
      "outputs": [
        {
          "output_type": "stream",
          "text": "Overwriting score.py\n",
          "name": "stdout"
        }
      ]
    },
    {
      "metadata": {},
      "cell_type": "markdown",
      "source": "### Create Environment Dependency File"
    },
    {
      "metadata": {},
      "cell_type": "markdown",
      "source": "When you deploy a model as web service to either Azure Container Instance or Azure Kubernetes Service, you are deploying a Docker container. The first steps towards deploying involve defining the contents of that container. In the following cell, you create Conda Dependencies YAML file that describes what Python packages need to be installed in the container- in this case you specify scikit-learn, numpy, pandas and the Azure ML SDK. \n\nExecute the following cell. The output will show the conda dependencies file content."
    },
    {
      "metadata": {
        "trusted": true
      },
      "cell_type": "code",
      "source": "from azureml.core.conda_dependencies import CondaDependencies \n\nmyenv = CondaDependencies.create(conda_packages=['numpy','pandas','scikit-learn'],pip_packages=['azureml-sdk[notebooks,automl]'])\nprint(myenv.serialize_to_string())\n\nwith open(\"myenv.yml\",\"w\") as f:\n    f.write(myenv.serialize_to_string())",
      "execution_count": 41,
      "outputs": [
        {
          "output_type": "stream",
          "text": "# Conda environment specification. The dependencies defined in this file will\r\n# be automatically provisioned for runs with userManagedDependencies=False.\r\n\n# Details about the Conda environment file format:\r\n# https://conda.io/docs/user-guide/tasks/manage-environments.html#create-env-file-manually\r\n\nname: project_environment\ndependencies:\n  # The python interpreter version.\r\n  # Currently Azure ML only supports 3.5.2 and later.\r\n- python=3.6.2\n\n- pip:\n  - azureml-sdk[notebooks,automl]==1.0.15\n- numpy\n- pandas\n- scikit-learn\n\n",
          "name": "stdout"
        }
      ]
    },
    {
      "metadata": {},
      "cell_type": "markdown",
      "source": "### Create Container Image"
    },
    {
      "metadata": {},
      "cell_type": "markdown",
      "source": "To create a Container Image, you need three things: the scoring script file, the runtime configuration (defining whether Python or PySpark should be used) and the Conda Dependencies file. Calling `ContainerImage.image_configuration` will capture all of the container image configuration in a single object. This Image will be stored in an instance of Azure Container Registry that is associated with your Azure Machine Learning Workspace. \n\nExecute the following cell."
    },
    {
      "metadata": {
        "trusted": true
      },
      "cell_type": "code",
      "source": "from azureml.core.image import ContainerImage\n\nimage_config = ContainerImage.image_configuration(execution_script = \"score.py\",\n                                                  runtime = \"python\",\n                                                  conda_file = \"myenv.yml\",\n                                                  description = \"Image with regression model\",\n                                                  tags = {'area': \"auto\", 'type': \"regression\"}\n                                                 )\n\nimage = ContainerImage.create(name = \"contosoimage\",\n                              # this is the model object\n                              models = [model],\n                              image_config = image_config,\n                              workspace = ws)\n\nimage.wait_for_creation(show_output = True)",
      "execution_count": 77,
      "outputs": [
        {
          "output_type": "stream",
          "text": "Creating image\nRunning............................................................\nSucceededImage creation operation finished for image contosoimage:2, operation \"Succeeded\"\n",
          "name": "stdout"
        }
      ]
    },
    {
      "metadata": {},
      "cell_type": "markdown",
      "source": "### Create AKS Compute Cluster"
    },
    {
      "metadata": {},
      "cell_type": "markdown",
      "source": "With the Container Image configuration in hand, you are almost ready to deploy to AKS.The first step is to create your AKS cluster. \n\nExecute the following cell to provision a small AKS cluster. This step will take about **15-20 minutes**."
    },
    {
      "metadata": {
        "trusted": true
      },
      "cell_type": "code",
      "source": "%%time\n\n# Use the default configuration (can also provide parameters to customize)\nprov_config = AksCompute.provisioning_configuration(location='westus2')\n\n# Create the cluster\naks_target = ComputeTarget.create(workspace = ws, \n                          name = aks_cluster_name, \n                          provisioning_configuration = prov_config)\n\naks_target.wait_for_completion(True)\nprint(\"state:\" + aks_target.provisioning_state)\nprint(aks_target.provisioning_errors)",
      "execution_count": 44,
      "outputs": [
        {
          "output_type": "stream",
          "text": "SucceededProvisioning operation finished, operation \"Succeeded\"\nstate:Succeeded\nNone\nCPU times: user 995 ms, sys: 863 ms, total: 1.86 s\nWall time: 3.18 s\n",
          "name": "stdout"
        }
      ]
    },
    {
      "metadata": {},
      "cell_type": "markdown",
      "source": "### Deploy AKS Hosted Web Service"
    },
    {
      "metadata": {},
      "cell_type": "markdown",
      "source": "Now you are ready to deploy your web service to the AKS cluster. To deploy the container that operationalizes your model as a webservice, you can use `Webservice.deploy_from_image` which will use your registered Docker Image, pulling it from the Container Registry, and run the created container in AKS. \n\nNotice in the creation of aks_config, `collect_model_data` and `enable_app_insights` are both enabled. Model data can be collected for the purposes of monitoring the model in production- the inputs to the model and the predictions that result are logged to Azure Storage Blobs. The model data can analyzed using Power BI or Azure Databricks, or any other tool that can process CSV files. This is important for you to be able to keep tabs on the model in production and spot signals that might mean you need to retrain the model. Application Insights will collect diagnostic telemetry such as request rates, response times, failure rates and errors. This telemetry can be monitored and explored using the Application Insights instance accessed within the Azure Portal.  \n\nExecute the following cell to deploy your webservice to AKS. This step will take **2-3 minutes** to complete."
    },
    {
      "metadata": {
        "trusted": true
      },
      "cell_type": "code",
      "source": "%%time\naks_service_name ='aks-automl-service'\n\naks_config = AksWebservice.deploy_configuration(collect_model_data=True, enable_app_insights=True)\naks_service = Webservice.deploy_from_image(workspace = ws, \n                                           name = aks_service_name,\n                                           image = image,\n                                           deployment_config = aks_config,\n                                           deployment_target = aks_target\n                                           )\naks_service.wait_for_deployment(show_output = True)\nprint(aks_service.state)",
      "execution_count": 85,
      "outputs": [
        {
          "output_type": "stream",
          "text": "Creating service\nRunning....................\nSucceededAKS service creation operation finished, operation \"Succeeded\"\nHealthy\nCPU times: user 1.61 s, sys: 607 ms, total: 2.21 s\nWall time: 2min 15s\n",
          "name": "stdout"
        }
      ]
    },
    {
      "metadata": {},
      "cell_type": "markdown",
      "source": "### Test the deployed web service"
    },
    {
      "metadata": {},
      "cell_type": "markdown",
      "source": "With the deployed web service ready, you are now ready to test calling the service with some car telemetry to see the scored results. There are three ways to approach this:\n1. You could use the `aks_service` object that you acquired in the previous cell to call the service directly.\n2. You could use the `Webservice` class to get a reference to a deployed web service by name.\n3. You could use any client capable of making a REST call.\n\nIn this notebook, we will take the second approach. Run the following cells to retrieve the web service by name and then to invoke it using some sample car telemetry.\n\nThe output of this cell will be an array of numbers, where each number represents the expected battery lifetime in days for the corresponding row of vehicle data."
    },
    {
      "metadata": {
        "trusted": true
      },
      "cell_type": "code",
      "source": "%%time\n# connect to the deployed webservice\naks_service_name = 'aks-automl-service'\naks_service = Webservice(ws,aks_service_name)\n\n# load some test vehicle data that the model has not seen\ntest_data = pd.read_csv(test_data_url)\n\n# prepare the data and select five vehicles\ntest_data = test_data.drop(columns=[\"Car_ID\", \"Battery_Age\"])\ntest_data.rename(columns={'Twelve_hourly_temperature_forecast_for_next_31_days_reversed': 'Twelve_hourly_temperature_history_for_last_31_days_before_death_last_recording_first'}, inplace=True)\ntest_data_json = test_data.iloc[:5].to_json(orient=\"split\")\nprediction = aks_service.run(input_data = test_data_json)\nprint(prediction)",
      "execution_count": 47,
      "outputs": [
        {
          "output_type": "stream",
          "text": "{\"result\": [1577.0654482150553, 1299.0697260622546, 1523.4073833156306, 1472.6954902231262, 1625.8477164874794]}\nCPU times: user 1.26 s, sys: 1.39 s, total: 2.65 s\nWall time: 3.16 s\n",
          "name": "stdout"
        }
      ]
    }
  ],
  "metadata": {
    "kernelspec": {
      "name": "python36",
      "display_name": "Python 3.6",
      "language": "python"
    }
  },
  "nbformat": 4,
  "nbformat_minor": 2
}