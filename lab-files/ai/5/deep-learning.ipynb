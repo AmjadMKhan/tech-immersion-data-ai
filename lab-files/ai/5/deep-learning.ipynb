{
  "cells": [
    {
      "metadata": {},
      "cell_type": "markdown",
      "source": "# Train a deep learning model\nIn this notebook you will train a deep learning model to classify the descriptions of car components as compliant or non-compliant. \n\nEach document in the supplied training data set is a short text description of the component as documented by an authorized technician. \nThe contents include:\n- Manufacture year of the component (e.g. 1985, 2010)\n- Condition of the component (poor, fair, good, new)\n- Materials used in the component (plastic, carbon fiber, steel, iron)\n\nThe compliance regulations dictate:\n*Any component manufactured before 1995 or in fair or poor condition or made with plastic or iron is out of compliance.*\n\nFor example:\n* Manufactured in 1985 made of steel in fair condition -> **Non-compliant**\n* Good condition carbon fiber component manufactured in 2010 -> **Compliant**\n* Steel component manufactured in 1995 in fair condition -> **Non-Compliant**\n\nThe labels present in this data are 0 for compliant, 1 for non-compliant.\n\nThe challenge with classifying text data is that deep learning models only undertand vectors (e.g., arrays of numbers) and not text. To encode the car component descriptions as vectors, we use an algorithm from Stanford called [GloVe (Global Vectors for Word Representation)](https://nlp.stanford.edu/projects/glove/). GloVe provides us pre-trained vectors that we can use to convert a string of text into a vector. \n\n## Setup\nTo begin, you will need to provide the following information about your Azure Subscription. \n\nIn the following cell, be sure to set the values for `subscription_id`, `resource_group`, `workspace_name` and `workspace_region` as directed by the comments (*these values can be acquired from the Azure Portal*). Also provide the values for the pre-created AKS cluster (`aks_resource_group_name` and `aks_cluster_name`). \n\nIf you are in doubt of any of these values, do the following:\n1. Navigate to the Azure Portal and login with the credentials provided.\n2. From the left hand menu, under Favorites, select `Resource Groups`.\n3. In the list, select the resource group with the name similar to `tech-immersion-onnx-XXXXX`.\n4. From the Overview tab, capture the desired values.\n\nExecute the following cell by selecting the `>|Run` button in the command bar above.\n"
    },
    {
      "metadata": {
        "trusted": true
      },
      "cell_type": "code",
      "source": "#Provide the Subscription ID of your existing Azure subscription\nsubscription_id = \"\" # <- needs to be the subscription with the ONNX resource group\n\n#Provide values for the existing \"ONNX\" Resource Group \nresource_group = \"tech-immersion-onnx-xxxxx\" # <- replace xxxxx with the values from your ONNX resource group name\n\n#Provide the Workspace Name and Azure Region of the Azure Machine Learning Workspace\nworkspace_name = \"gpu-tech-immersion-aml-xxxxx\" # <- replace xxxxx with the values from your ONNX resource group name\nworkspace_region = \"eastus2\" # <- region of your ONNX resource group (other options include eastus, westcentralus, southeastasia, australiaeast, westeurope)",
      "execution_count": null,
      "outputs": []
    },
    {
      "metadata": {
        "trusted": true
      },
      "cell_type": "code",
      "source": "# constants, you can leave these values as they are or experiment with changing them after you have completed the notebook once\nexperiment_name = 'deep-learning'\nproject_folder = './dl'\ndeployment_folder = './deploy'\nonnx_export_folder = './onnx'\n\n# this is the URL to the CSV file containing the GloVe vectors\nglove_url = ('https://quickstartsws9073123377.blob.core.windows.net/'\n             'azureml-blobstore-0d1c4218-a5f9-418b-bf55-902b65277b85/'\n             'quickstarts/connected-car-data/glove.6B.100d.txt')\n\n# this is the URL to the CSV file containing the care component descriptions\ndata_url = ('https://quickstartsws9073123377.blob.core.windows.net/'\n            'azureml-blobstore-0d1c4218-a5f9-418b-bf55-902b65277b85/'\n            'quickstarts/connected-car-data/connected-car_components.csv')\n\n# this is the name of the AML Compute cluster\ncluster_name = \"gpucluster\"\n\n# this is the name of the web service deployed on the AKS cluster\naks_service_name ='contoso-service'",
      "execution_count": null,
      "outputs": []
    },
    {
      "metadata": {},
      "cell_type": "markdown",
      "source": "# Create the Azure Machine Learning resources"
    },
    {
      "metadata": {},
      "cell_type": "markdown",
      "source": "The Azure Machine Learning SDK provides a comprehensive set of a capabilities that you can use directly within a notebook including:\n- Creating a **Workspace** that acts as the root object to organize all artifacts and resources used by Azure Machine Learning.\n- Creating **Experiments** in your Workspace that capture versions of the trained model along with any desired model performance telemetry. Each time you train a model and evaluate its results, you can capture that run (model and telemetry) within an Experiment.\n- Creating **Compute** resources that can be used to scale out model training, so that while your notebook may be running in a lightweight container in Azure Notebooks, your model training can actually occur on a powerful cluster that can provide large amounts of memory, CPU or GPU. \n- Using **Automated Machine Learning (AutoML)** to automatically train multiple versions of a model using a mix of different ways to prepare the data and different algorithms and hyperparameters (algorithm settings) in search of the model that performs best according to a performance metric that you specify. \n- Packaging a Docker **Image** that contains everything your trained model needs for scoring (prediction) in order to run as a web service.\n- Deploying your Image to either Azure Kubernetes or Azure Container Instances, effectively hosting the **Web Service**.\n\nIn Azure Notebooks, all of the libraries needed for Azure Machine Learning are pre-installed. To use them, you just need to import them. Run the following cell to do so:"
    },
    {
      "metadata": {
        "trusted": true
      },
      "cell_type": "code",
      "source": "import logging\nimport os\nimport random\nimport re\n\nfrom matplotlib import pyplot as plt\nfrom matplotlib.pyplot import imshow\nimport numpy as np\nimport pandas as pd\n\nimport azureml.core\nfrom azureml.core.experiment import Experiment\nfrom azureml.core.workspace import Workspace\nfrom azureml.core.compute import AksCompute, ComputeTarget\nfrom azureml.core.webservice import Webservice, AksWebservice\nfrom azureml.core.image import Image\nfrom azureml.core.model import Model\nfrom azureml.train.automl import AutoMLConfig\nfrom azureml.train.automl.run import AutoMLRun\nfrom azureml.core import Workspace",
      "execution_count": null,
      "outputs": []
    },
    {
      "metadata": {},
      "cell_type": "markdown",
      "source": "## Create and connect to an Azure Machine Learning Workspace\nRun the following cell to create a new Azure Machine Learning **Workspace** and save the configuration to disk (next to the Jupyter notebook). \n\n**Important Note**: You will be prompted to login in the text that is output below the cell. Be sure to navigate to the URL displayed and enter the code that is provided. Once you have entered the code, return to this notebook and wait for the output to read `Workspace configuration succeeded`."
    },
    {
      "metadata": {
        "trusted": true
      },
      "cell_type": "code",
      "source": "# By using the exist_ok param, if the worskpace already exists you get a reference to the existing workspace\n# allowing you to re-run this cell multiple times as desired (which is fairly common in notebooks).\nws = Workspace.create(\n    name = workspace_name,\n    subscription_id = subscription_id,\n    resource_group = resource_group, \n    location = workspace_region,\n    exist_ok = True)\n\nws.write_config()\nprint('Workspace configuration succeeded')\n",
      "execution_count": null,
      "outputs": []
    },
    {
      "metadata": {},
      "cell_type": "markdown",
      "source": "### Create AML Compute Cluster\nNow you are ready to create the GPU compute cluster. Run the following cell to create a new compute cluster (or retrieve the existing cluster if it already exists). The code below will create a *GPU based* cluster where each node in the cluster is of the size `Standard_NC6s`, and the cluster will start with at 1 such node and can scale out to 2. "
    },
    {
      "metadata": {
        "trusted": true
      },
      "cell_type": "code",
      "source": "### Create AML GPU based Compute Cluster\nfrom azureml.core.compute import ComputeTarget, AmlCompute\nfrom azureml.core.compute_target import ComputeTargetException\n\ntry:\n    compute_target = ComputeTarget(workspace=ws, name=cluster_name)\n    print('Found existing compute target.')\nexcept ComputeTargetException:\n    print('Creating a new compute target...')\n    compute_config = AmlCompute.provisioning_configuration(vm_size='Standard_NC12',\n                                                           min_nodes=1, max_nodes=1)\n\n    # create the cluster\n    compute_target = ComputeTarget.create(ws, cluster_name, compute_config)\n\n    compute_target.wait_for_completion(show_output=True)\n\n# Use the 'status' property to get a detailed status for the current AmlCompute. \nprint(compute_target.status.serialize())",
      "execution_count": null,
      "outputs": []
    },
    {
      "metadata": {},
      "cell_type": "markdown",
      "source": "### Create a TensorFlow estimator"
    },
    {
      "metadata": {},
      "cell_type": "markdown",
      "source": "An estimator allows you to define the job that will execute when you run an experiment. The `TensorFlow` estimator is specially configured to handle executing runs that use TensorFlow, such as the Keras training script you will create shortly. Run the following cell to create the estimator."
    },
    {
      "metadata": {
        "trusted": true
      },
      "cell_type": "code",
      "source": "from azureml.train.dnn import TensorFlow\n\nkeras_est = TensorFlow(source_directory=project_folder,\n                       compute_target=compute_target,\n                       entry_script='train.py',\n                       conda_packages=['pandas'],\n                       pip_packages=['keras==2.2.4'], # just add keras through pip\n                       use_gpu=True)",
      "execution_count": null,
      "outputs": []
    },
    {
      "metadata": {},
      "cell_type": "markdown",
      "source": "## Remotely train a deep learning model using the Azure ML Compute\nIn the following cells, you will *not* train the model against the data you just downloaded using the resources provided by Azure Notebooks. Instead, you will deploy an Azure ML Compute cluster that will download the data and use a trainings script to train the model. In other words, all of the training will be performed remotely with respect to this notebook. \n"
    },
    {
      "metadata": {
        "trusted": true
      },
      "cell_type": "code",
      "source": "# create project folder\nif not os.path.exists(project_folder):\n    os.makedirs(project_folder)",
      "execution_count": null,
      "outputs": []
    },
    {
      "metadata": {},
      "cell_type": "markdown",
      "source": "### Create the training script"
    },
    {
      "metadata": {
        "trusted": true
      },
      "cell_type": "code",
      "source": "%%writefile $project_folder/train.py\n\nimport os\nimport numpy as np\nimport pandas as pd\n\nimport keras\nfrom keras import models \nfrom keras import layers\nfrom keras import optimizers\n\ndef get_data():\n    data_url = \"https://databricksdemostore.blob.core.windows.net/data/connected-car/connected-car_components.csv\"\n    car_components_df = pd.read_csv(data_url)\n    components = car_components_df[\"text\"].tolist()\n    labels = car_components_df[\"label\"].tolist()\n    return { \"components\" : components, \"labels\" : labels }\n\ndef download_glove():\n    print(\"Downloading GloVe embeddings...\")\n    import urllib.request\n    urllib.request.urlretrieve('https://databricksdemostore.blob.core.windows.net/data/connected-car/glove.6B.100d.txt', 'glove.6B.100d.txt')\n    print(\"Download complete.\")\n\ndownload_glove()\n\n# Load the car components labeled data\nprint(\"Loading car components data...\")\ndata_url = \"https://databricksdemostore.blob.core.windows.net/data/connected-car/connected-car_components.csv\"\ncar_components_df = pd.read_csv(data_url)\ncomponents = car_components_df[\"text\"].tolist()\nlabels = car_components_df[\"label\"].tolist()\nprint(\"Loading car components data completed.\")\n\n# split data 60% for trianing, 20% for validation, 20% for test\nprint(\"Splitting data...\")\ntrain, validate, test = np.split(car_components_df.sample(frac=1), [int(.6*len(car_components_df)), int(.8*len(car_components_df))])\nprint(train.shape)\nprint(test.shape)\nprint(validate.shape)\n\n# use the Tokenizer from Keras to \"learn\" a vocabulary from the entire car components text\nprint(\"Tokenizing data...\")\nfrom keras.preprocessing.text import Tokenizer\nfrom keras.preprocessing.sequence import pad_sequences\nimport numpy as np\n\nmaxlen = 100                                           \ntraining_samples = 90000                                 \nvalidation_samples = 5000    \nmax_words = 10000      \n\ntokenizer = Tokenizer(num_words=max_words)\ntokenizer.fit_on_texts(components)\nsequences = tokenizer.texts_to_sequences(components)\n\nword_index = tokenizer.word_index\nprint('Found %s unique tokens.' % len(word_index))\n\ndata = pad_sequences(sequences, maxlen=maxlen)\n\nlabels = np.asarray(labels)\nprint('Shape of data tensor:', data.shape)\nprint('Shape of label tensor:', labels.shape)\n\nindices = np.arange(data.shape[0])                     \nnp.random.shuffle(indices)\ndata = data[indices]\nlabels = labels[indices]\n\nx_train = data[:training_samples]\ny_train = labels[:training_samples]\n\nx_val = data[training_samples: training_samples + validation_samples]\ny_val = labels[training_samples: training_samples + validation_samples]\n\nx_test = data[training_samples + validation_samples:]\ny_test = labels[training_samples + validation_samples:]\nprint(\"Tokenizing data complete.\")\n\n# apply the vectors provided by GloVe to create a word embedding matrix\nprint(\"Applying GloVe vectors...\")\nglove_dir =  './'\n\nembeddings_index = {}\nf = open(os.path.join(glove_dir, 'glove.6B.100d.txt'))\nfor line in f:\n    values = line.split()\n    word = values[0]\n    coefs = np.asarray(values[1:], dtype='float32')\n    embeddings_index[word] = coefs\nf.close()\n\nprint('Found %s word vectors.' % len(embeddings_index))\n\nembedding_dim = 100\n\nembedding_matrix = np.zeros((max_words, embedding_dim))\nfor word, i in word_index.items():\n    if i < max_words:\n        embedding_vector = embeddings_index.get(word)\n        if embedding_vector is not None:\n            embedding_matrix[i] = embedding_vector    \nprint(\"Applying GloVe vectors compelted.\")\n\n# use Keras to define the structure of the deep neural network   \nprint(\"Creating model structure...\")\nfrom keras.models import Sequential\nfrom keras.layers import Embedding, Flatten, Dense\n\nmodel = Sequential()\nmodel.add(Embedding(max_words, embedding_dim, input_length=maxlen))\nmodel.add(Flatten())\nmodel.add(Dense(32, activation='relu'))\nmodel.add(Dense(1, activation='sigmoid'))\nmodel.summary()\n\n# fix the weights for the first layer to those provided by the embedding matrix\nmodel.layers[0].set_weights([embedding_matrix])\nmodel.layers[0].trainable = False\nprint(\"Creating model structure completed.\")\n\nprint(\"Training model...\")\nmodel.compile(optimizer='rmsprop',\n              loss='binary_crossentropy',\n              metrics=['acc'])\nhistory = model.fit(x_train, y_train,\n                    epochs=10,\n                    batch_size=32,\n                    validation_data=(x_val, y_val))\nprint(\"Training model completed.\")\n\nprint(\"Saving model files...\")\n# create a ./outputs/model folder in the compute target\n# files saved in the \"./outputs\" folder are automatically uploaded into run history\nos.makedirs('./outputs/model', exist_ok=True)\n\n# serialize NN architecture to JSON\nmodel_json = model.to_json()\n# save model JSON\nwith open('./outputs/model/model.json', 'w') as f:\n    f.write(model_json)\n# save model weights\nmodel.save_weights('./outputs/model/model.h5')\nprint(\"model saved in ./outputs/model folder\")\nprint(\"Saving model files completed.\")\n",
      "execution_count": null,
      "outputs": []
    },
    {
      "metadata": {},
      "cell_type": "markdown",
      "source": "## Submit the training run"
    },
    {
      "metadata": {},
      "cell_type": "markdown",
      "source": "The code pattern to submit a training run to Azure Machine Learning compute targets is always:\n\n- Create an experiment to run.\n- Submit the experiment.\n- Wait for the run to complete."
    },
    {
      "metadata": {},
      "cell_type": "markdown",
      "source": "### Create the experiment"
    },
    {
      "metadata": {
        "trusted": true
      },
      "cell_type": "code",
      "source": "experiment = Experiment(ws, experiment_name)",
      "execution_count": null,
      "outputs": []
    },
    {
      "metadata": {},
      "cell_type": "markdown",
      "source": "### Submit the experiment"
    },
    {
      "metadata": {
        "trusted": true
      },
      "cell_type": "code",
      "source": "run = experiment.submit(keras_est)",
      "execution_count": null,
      "outputs": []
    },
    {
      "metadata": {},
      "cell_type": "markdown",
      "source": "Wait for the run to complete by executing the following cell. Note that this process will perform the following:\n- Build and deploy the container to Azure Machine Learning compute (~8 minutes)\n- Execute the training script (~2 minutes)\n\nIf you change only the training script and re-submit, it will run faster the second time because the necessary container is already prepared so the time requried is just that for executing the training script."
    },
    {
      "metadata": {
        "trusted": true
      },
      "cell_type": "code",
      "source": "# if you want to see detailed output of the deployment and training run, uncomment the following.\n# note that this will add about 10 minutes to the time it takes to complete the lab as you will be blocked from executing any other cells until this cell finishes.\nrun.wait_for_completion(show_output = True)",
      "execution_count": null,
      "outputs": []
    },
    {
      "metadata": {},
      "cell_type": "markdown",
      "source": "# Understanding the training script\nThe training script shown previously does a lot, lets break it apart into smaller parts that you can run locally. "
    },
    {
      "metadata": {},
      "cell_type": "markdown",
      "source": "## Download the GloVe embeddings to your environment.\nRun the following cell to download the embeddings to the `data` folder in your environment. Note: this may take a **few minutes** as the GloVe file is about 340 MB. "
    },
    {
      "metadata": {
        "trusted": true
      },
      "cell_type": "code",
      "source": "import urllib.request\nimport os\nos.makedirs('data', exist_ok=True)\nurllib.request.urlretrieve(glove_url, './data/glove.6B.100d.txt')",
      "execution_count": null,
      "outputs": []
    },
    {
      "metadata": {},
      "cell_type": "markdown",
      "source": "Run the following cells to import the needed libraries."
    },
    {
      "metadata": {
        "trusted": true
      },
      "cell_type": "code",
      "source": "import numpy as np\nimport pandas as pd\n\nimport keras\nfrom keras import models \nfrom keras import layers\nfrom keras import optimizers",
      "execution_count": null,
      "outputs": []
    },
    {
      "metadata": {},
      "cell_type": "markdown",
      "source": "Now that you have downloaded the data, load it into a Pandas DataFrame by running the following cell."
    },
    {
      "metadata": {
        "trusted": true
      },
      "cell_type": "code",
      "source": "# Load the car components labeled data\ncar_components_df = pd.read_csv(data_url)\ncomponents = car_components_df[\"text\"].tolist()\nlabels = car_components_df[\"label\"].tolist()",
      "execution_count": null,
      "outputs": []
    },
    {
      "metadata": {
        "trusted": true
      },
      "cell_type": "code",
      "source": "# split data 60% for training, 20% for validation, 20% for test\ntrain, validate, test = np.split(car_components_df.sample(frac=1), [int(.6*len(car_components_df)), int(.8*len(car_components_df))])\nprint(train.shape)\nprint(test.shape)\nprint(validate.shape)",
      "execution_count": null,
      "outputs": []
    },
    {
      "metadata": {},
      "cell_type": "markdown",
      "source": "In the following cell, you use the Tokenizer from Keras to \"learn\" a vocabulary from the entire car components text. Then the data (both the text and the compliance labels) is split into three subsets, one that will be used for training the deep learning model, one that will be used during training batches to tune the model weights and one that will be used after the model is trained to evaluate how it performs on data the model has never seen. \n\nRun the following cell."
    },
    {
      "metadata": {
        "trusted": true
      },
      "cell_type": "code",
      "source": "from keras.preprocessing.text import Tokenizer\nfrom keras.preprocessing.sequence import pad_sequences\nimport numpy as np\n\nmaxlen = 100                                           \ntraining_samples = 90000                                 \nvalidation_samples = 5000    \nmax_words = 10000      \n\ntokenizer = Tokenizer(num_words=max_words)\ntokenizer.fit_on_texts(components)\nsequences = tokenizer.texts_to_sequences(components)\n\nword_index = tokenizer.word_index\nprint('Found %s unique tokens.' % len(word_index))\n\ndata = pad_sequences(sequences, maxlen=maxlen)\n\nlabels = np.asarray(labels)\nprint('Shape of data tensor:', data.shape)\nprint('Shape of label tensor:', labels.shape)\n\nindices = np.arange(data.shape[0])                     \nnp.random.shuffle(indices)\ndata = data[indices]\nlabels = labels[indices]\n\nx_train = data[:training_samples]\ny_train = labels[:training_samples]\n\nx_val = data[training_samples: training_samples + validation_samples]\ny_val = labels[training_samples: training_samples + validation_samples]\n\nx_test = data[training_samples + validation_samples:]\ny_test = labels[training_samples + validation_samples:]\n",
      "execution_count": null,
      "outputs": []
    },
    {
      "metadata": {},
      "cell_type": "markdown",
      "source": "Now take a look at how the text was encoded as an array in the above. Run the following cell to take a peek."
    },
    {
      "metadata": {
        "trusted": true
      },
      "cell_type": "code",
      "source": "print(\"The text '{text}' is represented as the vector '{data}'\".format(text=components[indices[0]], data=x_train[0]))",
      "execution_count": null,
      "outputs": []
    },
    {
      "metadata": {},
      "cell_type": "markdown",
      "source": "Next, you will apply the vectors provided by GloVe to create a word embedding matrix. This matrix will be used shortly to set the model wights of the first layer of the deep neural network. \n\nRun the following cell."
    },
    {
      "metadata": {
        "trusted": true
      },
      "cell_type": "code",
      "source": "glove_dir =  './data'\n\nembeddings_index = {}\nf = open(os.path.join(glove_dir, 'glove.6B.100d.txt'))\nfor line in f:\n    values = line.split()\n    word = values[0]\n    coefs = np.asarray(values[1:], dtype='float32')\n    embeddings_index[word] = coefs\nf.close()\n\nprint('Found %s word vectors.' % len(embeddings_index))\n\nembedding_dim = 100\n\nembedding_matrix = np.zeros((max_words, embedding_dim))\nfor word, i in word_index.items():\n    if i < max_words:\n        embedding_vector = embeddings_index.get(word)\n        if embedding_vector is not None:\n            embedding_matrix[i] = embedding_vector    ",
      "execution_count": null,
      "outputs": []
    },
    {
      "metadata": {},
      "cell_type": "markdown",
      "source": "In the next cell, you will use Keras to define the structure of the deep neural network. The network graph you build in this case has four layers. \n\nRun the following cell to structure the network and view a summary description of it."
    },
    {
      "metadata": {
        "trusted": true
      },
      "cell_type": "code",
      "source": "from keras.models import Sequential\nfrom keras.layers import Embedding, Flatten, Dense\n\nmodel = Sequential()\nmodel.add(Embedding(max_words, embedding_dim, input_length=maxlen))\nmodel.add(Flatten())\nmodel.add(Dense(32, activation='relu'))\nmodel.add(Dense(1, activation='sigmoid'))\nmodel.summary()",
      "execution_count": null,
      "outputs": []
    },
    {
      "metadata": {},
      "cell_type": "markdown",
      "source": "Rather than train model from scratch on this car components text, you can instead use the embedding matrix derived from GloVe. In effect this boosts the model's understanding of text, because the GloVe vectors was trained against a large corpus of text in Wikipedia. \n\nRun the following cell to fix the weights for the first layer to those provided by the embedding matrix."
    },
    {
      "metadata": {
        "trusted": true
      },
      "cell_type": "code",
      "source": "model.layers[0].set_weights([embedding_matrix])\nmodel.layers[0].trainable = False",
      "execution_count": null,
      "outputs": []
    },
    {
      "metadata": {},
      "cell_type": "markdown",
      "source": "Now you are ready to train the model.\n\nRun the following cell to train the model. This will take **3-4 minutes** as you are using CPU instead of GPU enabled cluster."
    },
    {
      "metadata": {
        "trusted": true
      },
      "cell_type": "code",
      "source": "model.compile(optimizer='rmsprop',\n              loss='binary_crossentropy',\n              metrics=['acc'])\nhistory = model.fit(x_train, y_train,\n                    epochs=3,\n                    batch_size=32,\n                    validation_data=(x_val, y_val))\nmodel.save_weights(os.path.join(glove_dir,'pre_trained_glove_model.h5'))",
      "execution_count": null,
      "outputs": []
    },
    {
      "metadata": {},
      "cell_type": "markdown",
      "source": "Take a look to see how the model training went. If curves for training accuracy and validation accuracy come together, you are in good shape!"
    },
    {
      "metadata": {
        "trusted": true
      },
      "cell_type": "code",
      "source": "import matplotlib.pyplot as plt\n\nacc = history.history['acc']\nval_acc = history.history['val_acc']\nloss = history.history['loss']\nval_loss = history.history['val_loss']\n\nepochs = range(1, len(acc) + 1)\n\nplt.plot(epochs, acc, 'bo', label='Training acc')\nplt.plot(epochs, val_acc, 'b', label='Validation acc')\nplt.title('Training and validation accuracy')\nplt.legend()\n\nfig = plt.figure()\n\nplt.plot(epochs, loss, 'bo', label='Training loss')\nplt.plot(epochs, val_loss, 'b', label='Validation loss')\nplt.title('Training and validation loss')\nplt.legend()\n\nplt",
      "execution_count": null,
      "outputs": []
    },
    {
      "metadata": {},
      "cell_type": "markdown",
      "source": "You can also evaluate how accurately the model performs against data it has not seen. Run the following cell to see the accuracy (it is the second number in the array displayed, on a scale from 0 to 1)."
    },
    {
      "metadata": {
        "trusted": true
      },
      "cell_type": "code",
      "source": "model.load_weights(os.path.join(glove_dir,'pre_trained_glove_model.h5'))\nmodel.evaluate(x_test, y_test)",
      "execution_count": null,
      "outputs": []
    },
    {
      "metadata": {},
      "cell_type": "markdown",
      "source": "At this point you have explored how the model is trained and used locally. Let's return to the model you had previously trained remotely using the Azure Machine Learning compute."
    },
    {
      "metadata": {},
      "cell_type": "markdown",
      "source": "## Download the model files from the run"
    },
    {
      "metadata": {},
      "cell_type": "markdown",
      "source": "In the training script, the Keras model is saved into two files, model.json and model.h5, in the outputs/models folder on the GPU cluster AmlCompute node. Azure ML automatically uploaded anything written in the ./outputs folder into run history file store. Subsequently, we can use the run object to download the model files. They are under the the outputs/model folder in the run history file store, and are downloaded into a local folder named model."
    },
    {
      "metadata": {
        "trusted": true
      },
      "cell_type": "code",
      "source": "# create a model folder in the current directory\nos.makedirs('./model', exist_ok=True)\n\nfor f in run.get_file_names():\n    if f.startswith('outputs/model'):\n        output_file_path = os.path.join('./model', f.split('/')[-1])\n        print('Downloading from {} to {} ...'.format(f, output_file_path))\n        run.download_file(name=f, output_file_path=output_file_path)",
      "execution_count": null,
      "outputs": []
    },
    {
      "metadata": {
        "trusted": true
      },
      "cell_type": "code",
      "source": "from keras.models import model_from_json\n\nembedding_dim = 100\nmaxlen = 100                                             \nmax_words = 10000    \n\nfrom keras.models import Sequential\nfrom keras.layers import Embedding, Flatten, Dense\n\nmodel = Sequential()\nmodel.add(Embedding(max_words, embedding_dim, input_length=maxlen))\nmodel.add(Flatten())\nmodel.add(Dense(32, activation='relu'))\nmodel.add(Dense(1, activation='sigmoid'))\nmodel.summary()\n\n# load weights into new model\nmodel.load_weights(\"model/model.h5\")\nprint(\"Model loaded from disk.\")",
      "execution_count": null,
      "outputs": []
    },
    {
      "metadata": {},
      "cell_type": "markdown",
      "source": "# Converting a Keras model to ONNX\nIn the steps that follow, you will convert Keras model you just trained to the ONNX format. This will enable you to use this model for classification in a very broad range of environments including:\n\n- Web services \n- iOS and Android mobile apps\n- Windows apps\n- IoT devices\n\nConverting a Keras model requires the use of the `onnxmltools`, `onnx` and `protobuf` libraries. These libraries come pre-installed in Azure Notebooks."
    },
    {
      "metadata": {},
      "cell_type": "markdown",
      "source": "Instead of waiting for the training job to complete, we have provide you with a previously trained model you can quickly re-load to experiment with converting it to ONNX. Run the following cell to load this model:"
    },
    {
      "metadata": {
        "trusted": true
      },
      "cell_type": "code",
      "source": "cwd = os.getcwd()\nif cwd.endswith('/deploy'):\n    os.chdir('../')\n\nembedding_dim = 100\nmaxlen = 100                                             \nmax_words = 10000    \n\nfrom keras.models import Sequential\nfrom keras.layers import Embedding, Flatten, Dense\n\nmodel = Sequential()\nmodel.add(Embedding(max_words, embedding_dim, input_length=maxlen))\nmodel.add(Flatten())\nmodel.add(Dense(32, activation='relu'))\nmodel.add(Dense(1, activation='sigmoid'))\n\n# download the pretrained model from the deep learning quickstart\nos.makedirs('./model', exist_ok=True)\nmodel_url = ('https://quickstartsws9073123377.blob.core.windows.net/'\n             'azureml-blobstore-0d1c4218-a5f9-418b-bf55-902b65277b85/'\n             'quickstarts/dl-trained-model/model.h5')\nurllib.request.urlretrieve(model_url, os.path.join('./model', 'model.h5'))\n\n# load weights into new model\nmodel.load_weights(os.path.join('./model', 'model.h5'))\nprint(\"Model loaded from disk.\")\nprint(model.summary())",
      "execution_count": null,
      "outputs": []
    },
    {
      "metadata": {},
      "cell_type": "markdown",
      "source": "Convert the model to ONNX by running the following cell."
    },
    {
      "metadata": {
        "trusted": true
      },
      "cell_type": "code",
      "source": "# create a deployment folder in the current directory\nos.makedirs(deployment_folder, exist_ok=True)\n\n# create an onnx subfolder under deployment\nos.makedirs(os.path.join(deployment_folder, onnx_export_folder), exist_ok=True)\n\nimport onnxmltools\n\n# Convert the Keras model to ONNX\nonnx_model_name = 'component_compliance.onnx'\nconverted_model = onnxmltools.convert_keras(model, onnx_model_name, target_opset=7)\n\n# Save the model locally...\nonnx_model_path = os.path.join(deployment_folder, onnx_export_folder)\nos.makedirs(onnx_model_path, exist_ok=True)\n#winmltools.save_model(converted_model, os.path.join(os.path.join(deployment_folder, onnx_export_folder), onnx_model_name))\nonnxmltools.utils.save_model(converted_model, os.path.join(onnx_model_path,onnx_model_name))",
      "execution_count": null,
      "outputs": []
    },
    {
      "metadata": {},
      "cell_type": "markdown",
      "source": "The above cell created a new file called `component_compliance.onnx` that contains the ONNX version of the model. \n\nTo be able to use an ONNX model for inferencing, your environment only needs to have the `onnxruntime` installed. Run the following cell to install the `onnxruntime`. "
    },
    {
      "metadata": {
        "trusted": true
      },
      "cell_type": "code",
      "source": "%%sh\npip install onnxruntime",
      "execution_count": null,
      "outputs": []
    },
    {
      "metadata": {},
      "cell_type": "markdown",
      "source": "Now try using this ONNX model to classify a component description by running the following cell. Remeber the prediction will be a value close to 0 (non-compliant) or to 1 (compliant)."
    },
    {
      "metadata": {
        "trusted": true
      },
      "cell_type": "code",
      "source": "import onnxruntime\n\n# Load the ONNX model\nonnx_session = onnxruntime.InferenceSession(os.path.join(os.path.join(deployment_folder, onnx_export_folder), onnx_model_name))\n\n# Grab one sample from the test data set\ntest_sample = np.reshape(x_test.astype(np.float32)[2], (1,100))\n\n# Run an ONNX session to classify the sample.\nclassify_output = onnx_session.run(None, {onnx_session.get_inputs()[0].name:test_sample})[0] \n\nprint(\"Your model predicted the class `{pred}`, and the actual class was `{actual}`\".format(pred=classify_output[0][0], actual=y_test[0]))",
      "execution_count": null,
      "outputs": []
    },
    {
      "metadata": {},
      "cell_type": "markdown",
      "source": "# Deploy Deep Learning ONNX format model as a web service\nTo demonstrate one example of using the ONNX format model in a new environment, you will deploy the ONNX model to a webservice. On the web server, the only component required by the model is the ONNX Runtime, which is used to load the model and use it for scoring. Neither Keras nor TensorFlow are required on the web server.\n\nIn this case, you will use the Azure Machine Learning service SDK to programmatically create a Workspace, register your model, create a container image for the web service that uses it and deploy that image on to an Azure Container Instance.\n\nRun the following cells to create some helper functions that you will use for deployment."
    },
    {
      "metadata": {
        "trusted": true
      },
      "cell_type": "code",
      "source": "import azureml\nfrom azureml.core import Workspace\nfrom azureml.core.model import Model",
      "execution_count": null,
      "outputs": []
    },
    {
      "metadata": {
        "trusted": true
      },
      "cell_type": "code",
      "source": "def getOrCreateWorkspace(subscription_id, resource_group, workspace_name, workspace_region):\n    # By using the exist_ok param, if the workspace already exists we get a reference to the existing workspace instead of an error\n    ws = Workspace.create(\n        name = workspace_name,\n        subscription_id = subscription_id,\n        resource_group = resource_group, \n        location = workspace_region,\n        exist_ok = True)\n    return ws",
      "execution_count": null,
      "outputs": []
    },
    {
      "metadata": {
        "trusted": true
      },
      "cell_type": "code",
      "source": "def deployModelAsWebService(ws, model_folder_path=\"models\", model_name=\"component_compliance\", \n                scoring_script_filename=\"scoring_service.py\", \n                conda_packages=['numpy','pandas'],\n                pip_packages=['azureml-sdk','onnxruntime'],\n                conda_file=\"dependencies.yml\", runtime=\"python\",\n                cpu_cores=1, memory_gb=1, tags={'name':'scoring'},\n                description='Compliance classification web service.',\n                service_name = \"complianceservice\"\n               ):\n    # notice for the model_path, we supply the name of the outputs folder without a trailing slash\n    # this will ensure both the model and the customestimators get uploaded.\n    print(\"Registering and uploading model...\")\n    registered_model = Model.register(model_path=model_folder_path, \n                                      model_name=model_name, \n                                      workspace=ws)\n\n    # create a Conda dependencies environment file\n    print(\"Creating conda dependencies file locally...\")\n    from azureml.core.conda_dependencies import CondaDependencies \n    mycondaenv = CondaDependencies.create(conda_packages=conda_packages, pip_packages=pip_packages)\n    with open(conda_file,\"w\") as f:\n        f.write(mycondaenv.serialize_to_string())\n        \n    # create container image configuration\n    print(\"Creating container image configuration...\")\n    from azureml.core.image import ContainerImage\n    image_config = ContainerImage.image_configuration(execution_script = scoring_script_filename,\n                                                      runtime = runtime,\n                                                      conda_file = conda_file)\n    \n    # create ACI configuration\n    print(\"Creating ACI configuration...\")\n    from azureml.core.webservice import AciWebservice, Webservice\n    aci_config = AciWebservice.deploy_configuration(\n        cpu_cores = cpu_cores, \n        memory_gb = memory_gb, \n        tags = tags, \n        description = description)\n\n    # deploy the webservice to ACI\n    print(\"Deploying webservice to ACI...\")\n    webservice = Webservice.deploy_from_model(\n      workspace=ws, \n      name=service_name, \n      deployment_config=aci_config,\n      models = [registered_model], \n      image_config=image_config\n    )\n    webservice.wait_for_deployment(show_output=True)\n    \n    return webservice",
      "execution_count": null,
      "outputs": []
    },
    {
      "metadata": {},
      "cell_type": "markdown",
      "source": "Your web service which knows how to load the model and use it for scoring needs saved out to a file for the Azure Machine Learning service SDK to deploy it. Run the following cell to create this file."
    },
    {
      "metadata": {
        "trusted": true
      },
      "cell_type": "code",
      "source": "%%writefile $deployment_folder/scoring_service.py\nimport sys\nimport os\nimport json\nimport numpy as np\nimport pandas as pd\nfrom azureml.core.model import Model\nimport onnxruntime\n\ndef init():\n    global model\n    \n    try:\n        model_path = Model.get_model_path('component_compliance')\n        model_file_path = os.path.join(model_path,'component_compliance.onnx')\n        print('Loading model from:', model_file_path)\n        \n        # Load the ONNX model\n        model = onnxruntime.InferenceSession(model_file_path)\n    except Exception as e:\n        print(e)\n        \n# note you can pass in multiple rows for scoring\ndef run(raw_data):\n    try:\n        print(\"Received input:\", raw_data)\n        \n        input_data = np.array(json.loads(raw_data)).astype(np.float32)\n        \n        # Run an ONNX session to classify the input.\n        result = model.run(None, {model.get_inputs()[0].name:input_data})[0] \n        result = result[0][0].item()\n        \n        # return just the classification index (0 or 1)\n        return result\n    except Exception as e:\n        error = str(e)\n        return error\n",
      "execution_count": null,
      "outputs": []
    },
    {
      "metadata": {},
      "cell_type": "markdown",
      "source": "Next, create your Workspace (or retrieve the existing one if it already exists) and deploy the model as a web service.\n\nBefore you run the cell, modify the value of the `service_name` parameter to replace `YOUR-UNIQUE-IDENTIFIER` so that it includes your identifier.\n\nRun the cell to perform the deployment."
    },
    {
      "metadata": {
        "trusted": true
      },
      "cell_type": "code",
      "source": "# It is important to change the current working directory so that your generated scoring-service.py is at the root of it. \n# This is required by the Azure Machine Learning SDK\nos.chdir(deployment_folder)",
      "execution_count": null,
      "outputs": []
    },
    {
      "metadata": {
        "trusted": true
      },
      "cell_type": "code",
      "source": "ws =  getOrCreateWorkspace(subscription_id, resource_group, \n                   workspace_name, workspace_region)\n\nprint(os.getcwd())\nwebservice = deployModelAsWebService(ws, model_folder_path=onnx_export_folder, model_name=\"component_compliance\", service_name = \"complianceservice-zst\")",
      "execution_count": null,
      "outputs": []
    },
    {
      "metadata": {},
      "cell_type": "markdown",
      "source": "Finally, test your deployed web service."
    },
    {
      "metadata": {
        "trusted": true
      },
      "cell_type": "code",
      "source": "import json\n\n# choose a sample from the test data set to send\ntest_sample = np.reshape(x_test.astype(np.float32)[2], (1,100))\ntest_sample_json = json.dumps(test_sample.tolist())\n\n# invoke the web service\nresult = webservice.run(input_data=test_sample_json)\n\nresult",
      "execution_count": null,
      "outputs": []
    },
    {
      "metadata": {},
      "cell_type": "markdown",
      "source": "You now have a working web service deployed that uses the ONNX version of your Keras deep learning model."
    }
  ],
  "metadata": {
    "name": "Deep Learning",
    "notebookId": 2340934485665719,
    "kernelspec": {
      "name": "python36",
      "display_name": "Python 3.6",
      "language": "python"
    },
    "language_info": {
      "mimetype": "text/x-python",
      "nbconvert_exporter": "python",
      "name": "python",
      "pygments_lexer": "ipython3",
      "version": "3.6.6",
      "file_extension": ".py",
      "codemirror_mode": {
        "version": 3,
        "name": "ipython"
      }
    }
  },
  "nbformat": 4,
  "nbformat_minor": 1
}