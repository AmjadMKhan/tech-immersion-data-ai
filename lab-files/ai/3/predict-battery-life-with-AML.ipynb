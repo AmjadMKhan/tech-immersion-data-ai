{
  "cells": [
    {
      "metadata": {},
      "cell_type": "markdown",
      "source": "# Predicting Car Battery Failure"
    },
    {
      "metadata": {},
      "cell_type": "markdown",
      "source": "Your goal in this notebook is to **predict how much time a car battery has left until it is expected to fail**. You are provided training data that includes telemetry from different vehicles, as well as the expected battery life that remains. From this you will train a model that given just the vehicle telemetry predicts the expected battery life. \n\nYou will use compute resources provided by Azure Machine Learning (AML) to **remotely** train a **set** of models using **Automated Machine Learning**, evaluate performance of each model and pick the best performing model to deploy as a web service hosted by **Azure Container Instance**.\n\nBecause you will be using the Azure Machine Learning SDK, you will be able to provision all your required Azure resources directly from this notebook, without having to use the Azure Portal to create any resources."
    },
    {
      "metadata": {},
      "cell_type": "markdown",
      "source": "## Setup\nTo begin, you will need to provide the following information about your Azure Subscription. \n\nIn the following cell, be sure to set the values for `subscription_id`, `resource_group`, `workspace_name` and `workspace_region` as directed by the comments (*these values can be acquired from the Azure Portal*). Also provide the values for the pre-created AKS cluster (`aks_resource_group_name` and `aks_cluster_name`). \n\n**Be sure to replace XXXXX in the values below with your unique identifier.**\n\nTo get these values, do the following:\n1. Navigate to the Azure Portal and login with the credentials provided.\n2. From the left hand menu, under Favorites, select `Resource Groups`.\n3. In the list, select the resource group with the name similar to `tech-immersion-onnx-XXXXX`.\n4. From the Overview tab, capture the desired values.\n\nExecute the following cell by selecting the `>|Run` button in the command bar above."
    },
    {
      "metadata": {
        "trusted": true
      },
      "cell_type": "code",
      "source": "#Provide the Subscription ID of your existing Azure subscription\nsubscription_id = \"\" # <- needs to be the subscription with the ONNX resource group\n\n#Provide values for the existing \"ONNX\" Resource Group \nresource_group = \"tech-immersion-onnx-XXXXX\" # <- replace XXXXX with your unique identifier\n\n#Provide the Workspace Name and Azure Region of the Azure Machine Learning Workspace\nworkspace_name = \"gpu-tech-immersion-aml-XXXXX\" # <- replace XXXXX with your unique identifier\nworkspace_region = \"eastus2\" # <- region of your ONNX resource group \n#other options for region include eastus, westcentralus, southeastasia, australiaeast, westeurope",
      "execution_count": null,
      "outputs": []
    },
    {
      "metadata": {
        "trusted": true
      },
      "cell_type": "code",
      "source": "# constants, you can leave these values as they are or experiment with changing them after you have completed the notebook once\nexperiment_name = 'automl-regression'\nproject_folder = './automl-regression'\n\n# this is the URL to the CSV file containing the training data\ndata_url = \"https://databricksdemostore.blob.core.windows.net/data/connected-car/training-formatted.csv\"\n\n# this is the URL to the CSV file containing a small set of test data\ntest_data_url = \"https://databricksdemostore.blob.core.windows.net/data/connected-car/fleet-formatted.csv\"\n\ncluster_name = \"cpucluster\"\naks_service_name ='contoso-service'",
      "execution_count": null,
      "outputs": []
    },
    {
      "metadata": {},
      "cell_type": "markdown",
      "source": "### Import required packages"
    },
    {
      "metadata": {},
      "cell_type": "markdown",
      "source": "The Azure Machine Learning SDK provides a comprehensive set of a capabilities that you can use directly within a notebook including:\n- Creating a **Workspace** that acts as the root object to organize all artifacts and resources used by Azure Machine Learning.\n- Creating **Experiments** in your Workspace that capture versions of the trained model along with any desired model performance telemetry. Each time you train a model and evaluate its results, you can capture that run (model and telemetry) within an Experiment.\n- Creating **Compute** resources that can be used to scale out model training, so that while your notebook may be running in a lightweight container in Azure Notebooks, your model training can actually occur on a powerful cluster that can provide large amounts of memory, CPU or GPU. \n- Using **Automated Machine Learning (AutoML)** to automatically train multiple versions of a model using a mix of different ways to prepare the data and different algorithms and hyperparameters (algorithm settings) in search of the model that performs best according to a performance metric that you specify. \n- Packaging a Docker **Image** that contains everything your trained model needs for scoring (prediction) in order to run as a web service.\n- Deploying your Image to either Azure Kubernetes or Azure Container Instances, effectively hosting the **Web Service**.\n\nIn Azure Notebooks, all of the libraries needed for Azure Machine Learning are pre-installed. To use them, you just need to import them. Run the following cell to do so:"
    },
    {
      "metadata": {
        "trusted": true
      },
      "cell_type": "code",
      "source": "import logging\nimport os\nimport random\nimport re\n\nfrom matplotlib import pyplot as plt\nfrom matplotlib.pyplot import imshow\nimport numpy as np\nimport pandas as pd\nfrom sklearn import datasets\n\nimport azureml.core\nfrom azureml.core.experiment import Experiment\nfrom azureml.core.workspace import Workspace\nfrom azureml.core.compute import AksCompute, ComputeTarget\nfrom azureml.core.webservice import Webservice, AksWebservice\nfrom azureml.core.image import Image\nfrom azureml.core.model import Model\nfrom azureml.train.automl import AutoMLConfig\nfrom azureml.train.automl.run import AutoMLRun\nfrom azureml.core import Workspace",
      "execution_count": null,
      "outputs": []
    },
    {
      "metadata": {},
      "cell_type": "markdown",
      "source": "## Create and connect to an Azure Machine Learning Workspace"
    },
    {
      "metadata": {},
      "cell_type": "markdown",
      "source": "Run the following cell to create a new Azure Machine Learning **Workspace** and save the configuration to disk (next to the Jupyter notebook). \n\n**Important Note**: You will be prompted to login in the text that is output below the cell. Be sure to navigate to the URL displayed and enter the code that is provided. Once you have entered the code, return to this notebook and wait for the output to read `Workspace configuration succeeded`."
    },
    {
      "metadata": {
        "trusted": true
      },
      "cell_type": "code",
      "source": "# By using the exist_ok param, if the worskpace already exists you get a reference to the existing workspace\n# allowing you to re-run this cell multiple times as desired (which is fairly common in notebooks).\nws = Workspace.create(\n    name = workspace_name,\n    subscription_id = subscription_id,\n    resource_group = resource_group, \n    location = workspace_region,\n    exist_ok = True)\n\nws.write_config()\nprint('Workspace configuration succeeded')\n",
      "execution_count": null,
      "outputs": []
    },
    {
      "metadata": {},
      "cell_type": "markdown",
      "source": "## Create a Workspace Experiment"
    },
    {
      "metadata": {},
      "cell_type": "markdown",
      "source": "Notice in the first line of the cell below, we can re-load the config we saved previously and then display a summary of the environment."
    },
    {
      "metadata": {
        "trusted": true
      },
      "cell_type": "code",
      "source": "ws = Workspace.from_config()\n\n# Display a summary of the current environment \noutput = {}\noutput['SDK version'] = azureml.core.VERSION\noutput['Subscription ID'] = ws.subscription_id\noutput['Workspace'] = ws.name\noutput['Resource Group'] = ws.resource_group\noutput['Location'] = ws.location\noutput['Project Directory'] = project_folder\npd.set_option('display.max_colwidth', -1)\npd.DataFrame(data=output, index=['']).T",
      "execution_count": null,
      "outputs": []
    },
    {
      "metadata": {},
      "cell_type": "markdown",
      "source": "Next, create a new Experiment. "
    },
    {
      "metadata": {
        "trusted": true
      },
      "cell_type": "code",
      "source": "experiment = Experiment(ws, experiment_name)",
      "execution_count": null,
      "outputs": []
    },
    {
      "metadata": {},
      "cell_type": "markdown",
      "source": "## Get and explore the Vehicle Telemetry Data"
    },
    {
      "metadata": {},
      "cell_type": "markdown",
      "source": "Run the following cell to download and examine the vehicle telemetry data. The model you will build will try to predict how many days until the battery has a freeze event. Which features (columns) do you think will be useful?"
    },
    {
      "metadata": {
        "trusted": true
      },
      "cell_type": "code",
      "source": "data = pd.read_csv(data_url)\ndata",
      "execution_count": null,
      "outputs": []
    },
    {
      "metadata": {},
      "cell_type": "markdown",
      "source": "## Remotely train multiple models using Auto ML and Azure ML Compute"
    },
    {
      "metadata": {},
      "cell_type": "markdown",
      "source": "In the following cells, you will *not* train the model against the data you just downloaded using the resources provided by Azure Notebooks. Instead, you will deploy an Azure ML Compute cluster that will download the data and use Auto ML to train multiple models, evaluate the performance and allow you to retrieve the best model that was trained. In other words, all of the training will be performed remotely with respect to this notebook. \n\n\nAs you will see this is almost entirely done thru configuration, with very little code required. "
    },
    {
      "metadata": {},
      "cell_type": "markdown",
      "source": "### Create the data loading script for remote compute"
    },
    {
      "metadata": {},
      "cell_type": "markdown",
      "source": "The Azure Machine Learning Compute cluster needs to know how to get the data to train against. You can package this logic in a script that will be executed by the compute when it starts executing the training.\n\nRun the following cells to locally create the **get_data.py** script that will be deployed to remote compute. You will also use this script when you want train the model locally. \n\nObserve that the get_data method returns the features (`X`) and the labels (`Y`) in an object. This structure is expected later when you will configure Auto ML."
    },
    {
      "metadata": {
        "trusted": true
      },
      "cell_type": "code",
      "source": "# create project folder\nif not os.path.exists(project_folder):\n    os.makedirs(project_folder)",
      "execution_count": null,
      "outputs": []
    },
    {
      "metadata": {
        "trusted": true
      },
      "cell_type": "code",
      "source": "%%writefile $project_folder/get_data.py\n\nimport pandas as pd\nimport numpy as np\n\ndef get_data():\n    \n    data = pd.read_csv(\"https://databricksdemostore.blob.core.windows.net/data/connected-car/training-formatted.csv\")\n    \n    X = data.iloc[:,1:73]\n    Y = data.iloc[:,0].values.flatten()\n\n    return { \"X\" : X, \"y\" : Y }",
      "execution_count": null,
      "outputs": []
    },
    {
      "metadata": {},
      "cell_type": "markdown",
      "source": "### Create AML Compute Cluster"
    },
    {
      "metadata": {},
      "cell_type": "markdown",
      "source": "Now you are ready to create the compute cluster. Run the following cell to create a new compute cluster (or retrieve the existing cluster if it already exists). The code below will create a *CPU based* cluster where each node in the cluster is of the size `STANDARD_D12_V2`, and the cluster will have at most *4* such nodes. "
    },
    {
      "metadata": {
        "trusted": true
      },
      "cell_type": "code",
      "source": "### Create AML CPU based Compute Cluster\nfrom azureml.core.compute import ComputeTarget, AmlCompute\nfrom azureml.core.compute_target import ComputeTargetException\n\ntry:\n    compute_target = ComputeTarget(workspace=ws, name=cluster_name)\n    print('Found existing compute target.')\nexcept ComputeTargetException:\n    print('Creating a new compute target...')\n    compute_config = AmlCompute.provisioning_configuration(vm_size='STANDARD_D12_V2',\n                                                           max_nodes=4)\n\n    # create the cluster\n    compute_target = ComputeTarget.create(ws, cluster_name, compute_config)\n\n    compute_target.wait_for_completion(show_output=True)\n\n# Use the 'status' property to get a detailed status for the current AmlCompute. \nprint(compute_target.status.serialize())",
      "execution_count": null,
      "outputs": []
    },
    {
      "metadata": {},
      "cell_type": "markdown",
      "source": "### Instantiate an Automated ML Config"
    },
    {
      "metadata": {},
      "cell_type": "markdown",
      "source": "Run the following cell to configure the Auto ML run. In short what you are configuring here is the training of a regressor model that will attempt to predict the value of the first feature (`Survival_in_days`) based on all the other features in the data set. The run is configured to try at most 3 iterations where no iteration can run longer that 2 minutes. \n\nAdditionally, the data will be automatically pre-processed in different ways as a part of the automated model training (as indicated by the `preprocess` attribute having a value of `True`). This is a very powerful feature of Auto ML as it tries many best practices approaches for you, and saves you a lot of time and effort in the process.\n\nThe goal of Auto ML in this case is to find the best models that result, as measure by the normalized root mean squared error metric (as indicated by the `primary_metric` attribute). The error is basically a measure of what the model predicts versus what was provided as the \"answer\" in the training data. In short, AutoML will try to get the error as low as possible when trying its combination of approaches.  \n\nThe local path to the script you created to retrieve the data is supplied to the AutoMLConfig, ensuring the file is made available to the remote cluster. The actual execution of this training will occur on the compute cluster you created previously. \n\nIn general, the AutoMLConfig is very flexible, allowing you to specify all of the following:\n- Task type (classification, regression, forecasting)\n- Number of algorithm iterations and maximum time per iteration\n- Accuracy metric to optimize\n- Algorithms to blacklist (skip)/whitelist (include)\n- Number of cross-validations\n- Compute targets\n- Training data\n\nRun the following cell to create the configuration."
    },
    {
      "metadata": {
        "trusted": true
      },
      "cell_type": "code",
      "source": "automl_config = AutoMLConfig(task = 'regression',\n                             iterations = 3,\n                             iteration_timeout_minutes = 2, \n                             max_cores_per_iteration = 10,\n                             preprocess= True,\n                             primary_metric='normalized_root_mean_squared_error',\n                             n_cross_validations = 5,\n                             debug_log = 'automl.log',\n                             verbosity = logging.DEBUG,\n                             data_script = project_folder + \"/get_data.py\",\n                             path = project_folder)",
      "execution_count": null,
      "outputs": []
    },
    {
      "metadata": {},
      "cell_type": "markdown",
      "source": "## Run locally"
    },
    {
      "metadata": {},
      "cell_type": "markdown",
      "source": "You can run AutomML locally, that is it will use the resource provided by your Azure Notebook environment. \n\nRun the following cell to run the experiment locally. Note this will take **a few minutes**."
    },
    {
      "metadata": {
        "trusted": true
      },
      "cell_type": "code",
      "source": "local_run = experiment.submit(automl_config, show_output=True)\nlocal_run",
      "execution_count": null,
      "outputs": []
    },
    {
      "metadata": {},
      "cell_type": "markdown",
      "source": "### Run our Experiment on AML Compute"
    },
    {
      "metadata": {},
      "cell_type": "markdown",
      "source": "Let's increase the performance by performing the training the AML Compute cluster. This will remotely train multiple models, evaluate them and allow you review the performance characteristics of each one, as well as to pick the *best model* that was trained and download it. \n\nWe will alter the configuration slightly to perform more iterations. Run the following cell to execute the experiment on the remote compute cluster."
    },
    {
      "metadata": {
        "trusted": true
      },
      "cell_type": "code",
      "source": "automl_config = AutoMLConfig(task = 'regression',\n                             iterations = 3,\n                             iteration_timeout_minutes = 2, \n                             max_cores_per_iteration = 10,\n                             preprocess= True,\n                             primary_metric='normalized_root_mean_squared_error',\n                             n_cross_validations = 5,\n                             debug_log = 'automl.log',\n                             verbosity = logging.DEBUG,\n                             data_script = project_folder + \"/get_data.py\",\n                             compute_target = compute_target,\n                             path = project_folder)\nremote_run = experiment.submit(automl_config, show_output=False)\nremote_run",
      "execution_count": null,
      "outputs": []
    },
    {
      "metadata": {},
      "cell_type": "markdown",
      "source": "Once the above cell completes, the run is starting but will likely have a status of `Preparing` for you. To wait for the run to complete before continuing (and to view the training status updates as they happen), run the following cell. The first time you run this, it will take **about 12-15 minutes** to complete as the cluster is configured and then the AutoML job is run. Output will be streamed as the tasks progress):"
    },
    {
      "metadata": {
        "trusted": true
      },
      "cell_type": "code",
      "source": "remote_run.wait_for_completion(show_output=True)",
      "execution_count": null,
      "outputs": []
    },
    {
      "metadata": {},
      "cell_type": "markdown",
      "source": "### List the Experiments from your Workspace"
    },
    {
      "metadata": {},
      "cell_type": "markdown",
      "source": "Using the Azure Machine Learning SDK, you can retrieve any of the experiments in your Workspace and drill into the details of any runs the experiment contains. Run the following cell to explore the number of runs by experiment name."
    },
    {
      "metadata": {
        "trusted": true
      },
      "cell_type": "code",
      "source": "ws = Workspace.from_config()\nexperiment_list = Experiment.list(workspace=ws)\n\nsummary_df = pd.DataFrame(index = ['No of Runs'])\npattern = re.compile('^AutoML_[^_]*$')\nfor experiment in experiment_list:\n    all_runs = list(experiment.get_runs())\n    automl_runs = []\n    for run in all_runs:\n        if(pattern.match(run.id)):\n            automl_runs.append(run)    \n    summary_df[experiment.name] = [len(automl_runs)]\n    \npd.set_option('display.max_colwidth', -1)\nsummary_df.T",
      "execution_count": null,
      "outputs": []
    },
    {
      "metadata": {},
      "cell_type": "markdown",
      "source": "### List the Automated ML Runs for the Experiment"
    },
    {
      "metadata": {},
      "cell_type": "markdown",
      "source": "Similarly, you can view all of the runs that ran supporting Auto ML:"
    },
    {
      "metadata": {
        "trusted": true,
        "scrolled": true
      },
      "cell_type": "code",
      "source": "proj = ws.experiments[experiment_name]\nsummary_df = pd.DataFrame(index = ['Type', 'Status', 'Primary Metric', 'Iterations', 'Compute', 'Name'])\npattern = re.compile('^AutoML_[^_]*$')\nall_runs = list(proj.get_runs(properties={'azureml.runsource': 'automl'}))\nfor run in all_runs:\n    if(pattern.match(run.id)):\n        properties = run.get_properties()\n        tags = run.get_tags()\n        amlsettings = eval(properties['RawAMLSettingsString'])\n        if 'iterations' in tags:\n            iterations = tags['iterations']\n        else:\n            iterations = properties['num_iterations']\n        summary_df[run.id] = [amlsettings['task_type'], run.get_details()['status'], properties['primary_metric'], iterations, properties['target'], amlsettings['name']]\n    \nfrom IPython.display import HTML\nprojname_html = HTML(\"<h3>{}</h3>\".format(proj.name))\n\nfrom IPython.display import display\ndisplay(projname_html)\ndisplay(summary_df.T)",
      "execution_count": null,
      "outputs": []
    },
    {
      "metadata": {},
      "cell_type": "markdown",
      "source": "### Display Automated ML Run Details\nFor a particular run, you can display the details of how the run performed against the performance metric. The Azure Machine Learning SDK includes a built-in widget that graphically summarizes the run. \n\nExecute the following cell to see it."
    },
    {
      "metadata": {
        "trusted": true
      },
      "cell_type": "code",
      "source": "run_id = remote_run.id\n\nfrom azureml.widgets import RunDetails\n\nexperiment = Experiment(ws, experiment_name)\nml_run = AutoMLRun(experiment=experiment, run_id=run_id)\n\nRunDetails(ml_run).show() ",
      "execution_count": null,
      "outputs": []
    },
    {
      "metadata": {},
      "cell_type": "markdown",
      "source": "### Get the best run and the trained model"
    },
    {
      "metadata": {},
      "cell_type": "markdown",
      "source": "At this point you have multiple runs, each with a different trained models. How can you get the model that performed the best? Run the following cells to learn how."
    },
    {
      "metadata": {
        "trusted": true,
        "scrolled": true
      },
      "cell_type": "code",
      "source": "best_run, fitted_model = remote_run.get_output()\nprint(best_run)\nprint(fitted_model)",
      "execution_count": null,
      "outputs": []
    },
    {
      "metadata": {},
      "cell_type": "markdown",
      "source": "You can query for the best run when evaluated using a specific metric. "
    },
    {
      "metadata": {
        "trusted": true
      },
      "cell_type": "code",
      "source": "# show run and model by a specific metric\nlookup_metric = \"root_mean_squared_error\"\nbest_run, fitted_model = remote_run.get_output(metric = lookup_metric)\nprint(best_run)\nprint(fitted_model)",
      "execution_count": null,
      "outputs": []
    },
    {
      "metadata": {},
      "cell_type": "markdown",
      "source": "You can retrieve a specific iteration from a run."
    },
    {
      "metadata": {
        "trusted": true
      },
      "cell_type": "code",
      "source": "# show run and model from iteration 0\niteration = 0\nfirst_run, first_model = remote_run.get_output(iteration=iteration)\nprint(first_run)\nprint(first_model)",
      "execution_count": null,
      "outputs": []
    },
    {
      "metadata": {},
      "cell_type": "markdown",
      "source": "At this point you now have a model you could use for predicting the time until battery failure. You would typically use this model in one of two ways:\n- Use the model file within other notebooks to batch score predictions.\n- Deploy the model file as a web service that applications can call. \n\nIn the following, you will explore the latter option to deploy the best model as a web service."
    },
    {
      "metadata": {},
      "cell_type": "markdown",
      "source": "## Download the best model \nWith a run object in hand, it is trivial to download the model. "
    },
    {
      "metadata": {
        "trusted": true
      },
      "cell_type": "code",
      "source": "# fetch the best model\nbest_run.download_file(\"outputs/model.pkl\",\n                       output_file_path = \"./model.pkl\")",
      "execution_count": null,
      "outputs": []
    },
    {
      "metadata": {},
      "cell_type": "markdown",
      "source": "## Deploy the Model as a Web Service"
    },
    {
      "metadata": {},
      "cell_type": "markdown",
      "source": "Azure Machine Learning provides a Model Registry that acts like a version controlled repository for each of your trained models. To version a model, you use  the SDK as follows. Run the following cell to register the best model with Azure Machine Learning. "
    },
    {
      "metadata": {
        "trusted": true
      },
      "cell_type": "code",
      "source": "# register the model for deployment\nmodel = Model.register(model_path = \"model.pkl\",\n                       model_name = \"model.pkl\",\n                       tags = {'area': \"auto\", 'type': \"regression\"},\n                       description = \"Contoso Auto model to predict battery failure\",\n                       workspace = ws)\n\nprint(model.name, model.description, model.version)",
      "execution_count": null,
      "outputs": []
    },
    {
      "metadata": {},
      "cell_type": "markdown",
      "source": "Once you have a model added to the registry in this way, you can deploy web services that pull their model directly from this repository when they first start up."
    },
    {
      "metadata": {},
      "cell_type": "markdown",
      "source": "### Create Scoring File"
    },
    {
      "metadata": {},
      "cell_type": "markdown",
      "source": "Azure Machine Learning SDK gives you control over the logic of the web service, so that you can define how it retrieves the model and how the model is used for scoring. This is an important bit of flexibility. For example, you often have to prepare any input data before sending it to your model for scoring. You can define this data preparation logic (as well as the model loading approach) in the scoring file. \n\nRun the following cell to create a scoring file that will be included in the Docker Image that contains your deployed web service."
    },
    {
      "metadata": {
        "trusted": true
      },
      "cell_type": "code",
      "source": "%%writefile scoring_service.py\nimport pickle\nimport json\nimport numpy\nimport pandas as pd\nimport azureml.train.automl\nfrom sklearn.externals import joblib\nfrom azureml.core.model import Model\n\ndef init():\n    global model\n    model_path = Model.get_model_path('model.pkl') # this name is model.id of model that we want to deploy\n    # deserialize the model file back into a sklearn model\n    model = joblib.load(model_path)\n\ndef run(rawdata):\n    try:\n        data = pd.read_json(rawdata,orient=\"split\")\n        result = model.predict(data)\n    except Exception as e:\n        result = str(e)\n        return json.dumps({\"error\": result})\n    return json.dumps({\"result\":result.tolist()})",
      "execution_count": null,
      "outputs": []
    },
    {
      "metadata": {
        "slideshow": {
          "slide_type": "slide"
        }
      },
      "cell_type": "markdown",
      "source": "### Deploy ACI Hosted Web Service"
    },
    {
      "metadata": {
        "trusted": true
      },
      "cell_type": "code",
      "source": "import azureml\nfrom azureml.core import Workspace\nfrom azureml.core.model import Model\n\ndef getOrCreateWorkspace(subscription_id, resource_group, workspace_name, workspace_region):\n    # By using the exist_ok param, if the workspace already exists we get a reference to the existing workspace instead of an error\n    ws = Workspace.create(\n        name = workspace_name,\n        subscription_id = subscription_id,\n        resource_group = resource_group, \n        location = workspace_region,\n        exist_ok = True)\n    return ws\n\ndef deployModelAsWebService(ws, model_folder_path=\"models\", model_name=\"\", \n                scoring_script_filename=\"scoring_service.py\", \n                conda_packages=['numpy','pandas'],\n                pip_packages=['azureml-sdk','onnxruntime'],\n                conda_file=\"dependencies.yml\", runtime=\"python\",\n                cpu_cores=1, memory_gb=1, tags={'name':'scoring'},\n                description='Scoring web service.',\n                service_name = \"scoringservice\"\n               ):\n    # notice for the model_path, we supply the name of the outputs folder without a trailing slash\n    # this will ensure both the model and the customestimators get uploaded.\n    print(\"Registering and uploading model...\")\n    registered_model = Model.register(model_path=model_folder_path, \n                                      model_name=model_name, \n                                      workspace=ws)\n\n    # create a Conda dependencies environment file\n    print(\"Creating conda dependencies file locally...\")\n    from azureml.core.conda_dependencies import CondaDependencies \n    mycondaenv = CondaDependencies.create(conda_packages=conda_packages, pip_packages=pip_packages)\n    with open(conda_file,\"w\") as f:\n        f.write(mycondaenv.serialize_to_string())\n        \n    # create container image configuration\n    print(\"Creating container image configuration...\")\n    from azureml.core.image import ContainerImage\n    image_config = ContainerImage.image_configuration(execution_script = scoring_script_filename,\n                                                      runtime = runtime,\n                                                      conda_file = conda_file)\n    \n    # create ACI configuration\n    print(\"Creating ACI configuration...\")\n    from azureml.core.webservice import AciWebservice, Webservice\n    aci_config = AciWebservice.deploy_configuration(\n        cpu_cores = cpu_cores, \n        memory_gb = memory_gb, \n        tags = tags, \n        description = description)\n\n    # deploy the webservice to ACI\n    print(\"Deploying webservice to ACI...\")\n    webservice = Webservice.deploy_from_model(\n      workspace=ws, \n      name=service_name, \n      deployment_config=aci_config,\n      models = [registered_model], \n      image_config=image_config\n    )\n    webservice.wait_for_deployment(show_output=True)\n    \n    return webservice",
      "execution_count": null,
      "outputs": []
    },
    {
      "metadata": {
        "trusted": true
      },
      "cell_type": "code",
      "source": "ws =  getOrCreateWorkspace(subscription_id, resource_group, \n                   workspace_name, workspace_region)\n\n\nwebservice = deployModelAsWebService(ws, model_folder_path=\"./model.pkl\", model_name=\"model.pkl\", service_name = \"predict-battery-life\", \n                                     conda_packages=['numpy','pandas','scikit-learn'], pip_packages=['azureml-sdk[notebooks,automl]'])",
      "execution_count": null,
      "outputs": []
    },
    {
      "metadata": {},
      "cell_type": "markdown",
      "source": "### Test the deployed web service"
    },
    {
      "metadata": {},
      "cell_type": "markdown",
      "source": "With the deployed web service ready, you are now ready to test calling the service with some car telemetry to see the scored results. There are three ways to approach this:\n1. You could use the `Webservice` object that you acquired in the previous cell to call the service directly.\n2. You could use the `Webservice` class to get a reference to a deployed web service by name.\n3. You could use any client capable of making a REST call.\n\nIn this notebook, we will take the first approach. Run the following cells to retrieve the web service by name and then to invoke it using some sample car telemetry.\n\nThe output of this cell will be an array of numbers, where each number represents the expected battery lifetime in days for the corresponding row of vehicle data."
    },
    {
      "metadata": {
        "trusted": true
      },
      "cell_type": "code",
      "source": "%%time\n# load some test vehicle data that the model has not seen\ntest_data = pd.read_csv(test_data_url)\n\n# prepare the data and select five vehicles\ntest_data = test_data.drop(columns=[\"Car_ID\", \"Battery_Age\"])\ntest_data.rename(columns={'Twelve_hourly_temperature_forecast_for_next_31_days_reversed': 'Twelve_hourly_temperature_history_for_last_31_days_before_death_last_recording_first'}, inplace=True)\ntest_data_json = test_data.iloc[:5, 0:72].to_json(orient=\"split\")\nprediction = webservice.run(input_data = test_data_json)\nprint(prediction)",
      "execution_count": null,
      "outputs": []
    },
    {
      "metadata": {
        "trusted": true
      },
      "cell_type": "code",
      "source": "",
      "execution_count": null,
      "outputs": []
    }
  ],
  "metadata": {
    "kernelspec": {
      "name": "python36",
      "display_name": "Python 3.6",
      "language": "python"
    },
    "language_info": {
      "mimetype": "text/x-python",
      "nbconvert_exporter": "python",
      "name": "python",
      "pygments_lexer": "ipython3",
      "version": "3.6.6",
      "file_extension": ".py",
      "codemirror_mode": {
        "version": 3,
        "name": "ipython"
      }
    }
  },
  "nbformat": 4,
  "nbformat_minor": 2
}