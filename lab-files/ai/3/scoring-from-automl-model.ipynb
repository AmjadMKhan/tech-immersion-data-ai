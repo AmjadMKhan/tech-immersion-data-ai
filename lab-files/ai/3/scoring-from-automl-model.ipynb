{
  "cells": [
    {
      "metadata": {
        "trusted": true,
        "scrolled": true
      },
      "cell_type": "code",
      "source": "!pip install --upgrade pip\n!pip install --upgrade azureml-sdk[notebooks,explain,automl,contrib]\n!pip install scikit-learn==0.20.3\n!pip install -U scikit-image",
      "execution_count": null,
      "outputs": []
    },
    {
      "metadata": {},
      "cell_type": "markdown",
      "source": "# Automated Machine Learning with Azure Machine Learning\n\n**Please complete Part 1 before continuing**\n\nIn this part, you will test, register, and deploy the model you trained in the first part using the Azure ML Python SDK."
    },
    {
      "metadata": {
        "trusted": true
      },
      "cell_type": "code",
      "source": "import os\nimport numpy as np\nimport pandas as pd\nimport logging\nimport pickle\n\nimport azureml\nfrom azureml.core import Run\nfrom azureml.core import Workspace\nfrom azureml.core.model import Model\nfrom azureml.core.run import Run\nfrom azureml.core.experiment import Experiment\nfrom azureml.train.automl import AutoMLConfig\nfrom azureml.train.automl.run import AutoMLRun\nfrom azureml.train.automl.automlexplainer import explain_model\n\n# Verify AML SDK Installed\n# view version history at https://pypi.org/project/azureml-sdk/#history \nprint(\"SDK Version:\", azureml.core.VERSION)\n\nimport sklearn\n\nsklearn_version = sklearn.__version__\nprint('The scikit-learn version is {}.'.format(sklearn_version))",
      "execution_count": null,
      "outputs": []
    },
    {
      "metadata": {},
      "cell_type": "markdown",
      "source": "### Setup\nTo begin, you will need to provide the following information about your Azure Subscription.\n\n**If you are using your own Azure subscription, please provide names for subscription_id, resource_group, workspace_name and workspace_region to use.** Note that the workspace needs to be of type [Machine Learning Workspace](https://docs.microsoft.com/en-us/azure/machine-learning/service/setup-create-workspace).\n\n**If an environment is provided to you be sure to replace XXXXX in the values below with your unique identifier.**\n\nIn the following cell, be sure to set the values for `subscription_id`, `resource_group`, `workspace_name` and `workspace_region` as directed by the comments (*these values can be acquired from the Azure Portal*).\n\nTo get these values, do the following:\n1. Navigate to the Azure Portal and login with the credentials provided.\n2. From the left hand menu, under Favorites, select `Resource Groups`.\n3. In the list, select the resource group with the name similar to `XXXXX`.\n4. From the Overview tab, capture the desired values.\n\nExecute the following cell by selecting the `>|Run` button in the command bar above."
    },
    {
      "metadata": {
        "trusted": true
      },
      "cell_type": "code",
      "source": "#Provide the Subscription ID of your existing Azure subscription\nsubscription_id = \"\" # <- needs to be the subscription with the Quick-Starts resource group\n\n#Provide values for the existing Resource Group \nresource_group = \"tech-immersion-onnx-xxxxx\" # <- replace XXXXX with your unique identifier\n\n#Provide the Workspace Name and Azure Region of the Azure Machine Learning Workspace\nworkspace_name = \"gpu-tech-immersion-aml-xxxxx\" # <- replace XXXXX with your unique identifier (should be lowercase)\nworkspace_region = \"eastus\" # <- region of your Quick-Starts resource group\n\n#Provide the name of the Experiment you used with Automated Machine Learning\nexperiment_name = 'automl-regression'\n\n# the train data is available here\ntrain_data_url = ('https://quickstartsws9073123377.blob.core.windows.net/'\n                  'azureml-blobstore-0d1c4218-a5f9-418b-bf55-902b65277b85/'\n                  'training-formatted.csv')\n\n# this is the URL to the CSV file containing a small set of test data\ntest_data_url = ('https://quickstartsws9073123377.blob.core.windows.net/'\n                  'azureml-blobstore-0d1c4218-a5f9-418b-bf55-902b65277b85/'\n                  'fleet-formatted.csv')\n",
      "execution_count": null,
      "outputs": []
    },
    {
      "metadata": {},
      "cell_type": "markdown",
      "source": "## Connect to the Azure Machine Learning Workspace\n\nRun the following cell to connect the Azure Machine Learning **Workspace** created in part 1.\n\n**Important Note**: You will be prompted to login in the text that is output below the cell. Be sure to navigate to the URL displayed and enter the code that is provided. Once you have entered the code, return to this notebook and wait for the output to read `Workspace configuration succeeded`."
    },
    {
      "metadata": {
        "trusted": true
      },
      "cell_type": "code",
      "source": "# By using the exist_ok param, if the worskpace already exists we get a reference to the existing workspace\nws = Workspace.create(\n    name = workspace_name,\n    subscription_id = subscription_id,\n    resource_group = resource_group, \n    location = workspace_region,\n    exist_ok = True)\n\nprint(\"Workspace Provisioning complete.\")",
      "execution_count": null,
      "outputs": []
    },
    {
      "metadata": {},
      "cell_type": "markdown",
      "source": "# Get the best model trained with automated machine learning"
    },
    {
      "metadata": {},
      "cell_type": "markdown",
      "source": "Retrieve the Run from the Experiment and then get the underlying AutoMLRun to get at the best model and child run objects:"
    },
    {
      "metadata": {
        "trusted": true
      },
      "cell_type": "code",
      "source": "existing_experiment = Experiment(ws,experiment_name)\nrun = list(Run.list(existing_experiment))[0]\n\nfrom azureml.train.automl.run import AutoMLRun\nautoml_run = AutoMLRun(existing_experiment, run.id)\nbest_run, best_model = automl_run.get_output()",
      "execution_count": null,
      "outputs": []
    },
    {
      "metadata": {},
      "cell_type": "markdown",
      "source": "## Load the train and test data"
    },
    {
      "metadata": {
        "trusted": true
      },
      "cell_type": "code",
      "source": "# load the original training data\ntrain_data = pd.read_csv(train_data_url)\nX_train = data.iloc[:,1:73]\ny_train = data.iloc[:,0].values.flatten()\n\n# load some test vehicle data that the model has not seen\ntest_data = pd.read_csv(test_data_url)\nX_test = test_data.drop(columns=[\"Car_ID\", \"Battery_Age\"])\n",
      "execution_count": null,
      "outputs": []
    },
    {
      "metadata": {},
      "cell_type": "markdown",
      "source": "# Model Explainability"
    },
    {
      "metadata": {
        "trusted": true
      },
      "cell_type": "code",
      "source": "from azureml.train.automl.automlexplainer import explain_model\n\nshap_values, expected_values, sorted_global_importance_values, sorted_global_importance_names, _ , _ = explain_model(best_model, X_train, X_test, best_run=best_run, y_train=y_train)\n\n#Overall feature importance\nfeature_importance = dict(zip(sorted_global_importance_names, sorted_global_importance_values))",
      "execution_count": null,
      "outputs": []
    },
    {
      "metadata": {
        "trusted": true
      },
      "cell_type": "markdown",
      "source": "Run the following cell to render the feature importance using a Pandas DataFrame. Which feature had the greatest importance globally on the model?"
    },
    {
      "metadata": {
        "trusted": true
      },
      "cell_type": "code",
      "source": "features_df = pd.DataFrame(list(zip(sorted_global_importance_names, sorted_global_importance_values)), dtype=float)\npd.options.display.float_format = '{:.20g}'.format\nfeatures_df",
      "execution_count": null,
      "outputs": []
    },
    {
      "metadata": {},
      "cell_type": "markdown",
      "source": "As you might have guessed, the `XXX` feature has the greatest impact on the `YYY` forecast."
    }
  ],
  "metadata": {
    "kernelspec": {
      "name": "python36",
      "display_name": "Python 3.6",
      "language": "python"
    },
    "language_info": {
      "mimetype": "text/x-python",
      "nbconvert_exporter": "python",
      "name": "python",
      "pygments_lexer": "ipython3",
      "version": "3.6.6",
      "file_extension": ".py",
      "codemirror_mode": {
        "version": 3,
        "name": "ipython"
      }
    }
  },
  "nbformat": 4,
  "nbformat_minor": 2
}